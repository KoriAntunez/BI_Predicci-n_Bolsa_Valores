{
 "cells": [
  {
   "cell_type": "code",
   "execution_count": 1,
   "id": "3bb6fa88",
   "metadata": {},
   "outputs": [],
   "source": [
    "#1 Importando librerias\n",
    "import numpy as np\n",
    "import matplotlib.pyplot as plt\n",
    "import pandas as pd"
   ]
  },
  {
   "cell_type": "code",
   "execution_count": 2,
   "id": "7fde6e60",
   "metadata": {},
   "outputs": [],
   "source": [
    "#2 Importando el dataset\n",
    "dataset = pd.read_csv('GOOGL.csv')\n",
    "X = dataset.iloc[:,4:5].values\n",
    "y = dataset.iloc[:,6:7].values"
   ]
  },
  {
   "cell_type": "code",
   "execution_count": 3,
   "id": "360e9db9",
   "metadata": {},
   "outputs": [
    {
     "data": {
      "text/html": [
       "<div>\n",
       "<style scoped>\n",
       "    .dataframe tbody tr th:only-of-type {\n",
       "        vertical-align: middle;\n",
       "    }\n",
       "\n",
       "    .dataframe tbody tr th {\n",
       "        vertical-align: top;\n",
       "    }\n",
       "\n",
       "    .dataframe thead th {\n",
       "        text-align: right;\n",
       "    }\n",
       "</style>\n",
       "<table border=\"1\" class=\"dataframe\">\n",
       "  <thead>\n",
       "    <tr style=\"text-align: right;\">\n",
       "      <th></th>\n",
       "      <th>Date</th>\n",
       "      <th>Open</th>\n",
       "      <th>High</th>\n",
       "      <th>Low</th>\n",
       "      <th>Close</th>\n",
       "      <th>Adj Close</th>\n",
       "      <th>Volume</th>\n",
       "    </tr>\n",
       "  </thead>\n",
       "  <tbody>\n",
       "    <tr>\n",
       "      <th>0</th>\n",
       "      <td>2004-08-19</td>\n",
       "      <td>50.050049</td>\n",
       "      <td>52.082081</td>\n",
       "      <td>48.028027</td>\n",
       "      <td>50.220219</td>\n",
       "      <td>50.220219</td>\n",
       "      <td>44659096</td>\n",
       "    </tr>\n",
       "    <tr>\n",
       "      <th>1</th>\n",
       "      <td>2004-08-20</td>\n",
       "      <td>50.555557</td>\n",
       "      <td>54.594597</td>\n",
       "      <td>50.300301</td>\n",
       "      <td>54.209209</td>\n",
       "      <td>54.209209</td>\n",
       "      <td>22834343</td>\n",
       "    </tr>\n",
       "    <tr>\n",
       "      <th>2</th>\n",
       "      <td>2004-08-23</td>\n",
       "      <td>55.430431</td>\n",
       "      <td>56.796799</td>\n",
       "      <td>54.579578</td>\n",
       "      <td>54.754753</td>\n",
       "      <td>54.754753</td>\n",
       "      <td>18256126</td>\n",
       "    </tr>\n",
       "    <tr>\n",
       "      <th>3</th>\n",
       "      <td>2004-08-24</td>\n",
       "      <td>55.675674</td>\n",
       "      <td>55.855858</td>\n",
       "      <td>51.836838</td>\n",
       "      <td>52.487488</td>\n",
       "      <td>52.487488</td>\n",
       "      <td>15247337</td>\n",
       "    </tr>\n",
       "    <tr>\n",
       "      <th>4</th>\n",
       "      <td>2004-08-25</td>\n",
       "      <td>52.532532</td>\n",
       "      <td>54.054054</td>\n",
       "      <td>51.991993</td>\n",
       "      <td>53.053055</td>\n",
       "      <td>53.053055</td>\n",
       "      <td>9188602</td>\n",
       "    </tr>\n",
       "    <tr>\n",
       "      <th>...</th>\n",
       "      <td>...</td>\n",
       "      <td>...</td>\n",
       "      <td>...</td>\n",
       "      <td>...</td>\n",
       "      <td>...</td>\n",
       "      <td>...</td>\n",
       "      <td>...</td>\n",
       "    </tr>\n",
       "    <tr>\n",
       "      <th>4382</th>\n",
       "      <td>2022-01-13</td>\n",
       "      <td>2830.800049</td>\n",
       "      <td>2857.000000</td>\n",
       "      <td>2768.179932</td>\n",
       "      <td>2771.739990</td>\n",
       "      <td>2771.739990</td>\n",
       "      <td>1571800</td>\n",
       "    </tr>\n",
       "    <tr>\n",
       "      <th>4383</th>\n",
       "      <td>2022-01-14</td>\n",
       "      <td>2741.580078</td>\n",
       "      <td>2814.840088</td>\n",
       "      <td>2739.969971</td>\n",
       "      <td>2789.610107</td>\n",
       "      <td>2789.610107</td>\n",
       "      <td>1482100</td>\n",
       "    </tr>\n",
       "    <tr>\n",
       "      <th>4384</th>\n",
       "      <td>2022-01-18</td>\n",
       "      <td>2723.500000</td>\n",
       "      <td>2742.629883</td>\n",
       "      <td>2708.770020</td>\n",
       "      <td>2719.959961</td>\n",
       "      <td>2719.959961</td>\n",
       "      <td>1743600</td>\n",
       "    </tr>\n",
       "    <tr>\n",
       "      <th>4385</th>\n",
       "      <td>2022-01-19</td>\n",
       "      <td>2730.469971</td>\n",
       "      <td>2759.189941</td>\n",
       "      <td>2700.310059</td>\n",
       "      <td>2702.330078</td>\n",
       "      <td>2702.330078</td>\n",
       "      <td>1432400</td>\n",
       "    </tr>\n",
       "    <tr>\n",
       "      <th>4386</th>\n",
       "      <td>2022-01-20</td>\n",
       "      <td>2725.000000</td>\n",
       "      <td>2752.520020</td>\n",
       "      <td>2659.290039</td>\n",
       "      <td>2666.149902</td>\n",
       "      <td>2666.149902</td>\n",
       "      <td>1495400</td>\n",
       "    </tr>\n",
       "  </tbody>\n",
       "</table>\n",
       "<p>4387 rows × 7 columns</p>\n",
       "</div>"
      ],
      "text/plain": [
       "            Date         Open         High          Low        Close  \\\n",
       "0     2004-08-19    50.050049    52.082081    48.028027    50.220219   \n",
       "1     2004-08-20    50.555557    54.594597    50.300301    54.209209   \n",
       "2     2004-08-23    55.430431    56.796799    54.579578    54.754753   \n",
       "3     2004-08-24    55.675674    55.855858    51.836838    52.487488   \n",
       "4     2004-08-25    52.532532    54.054054    51.991993    53.053055   \n",
       "...          ...          ...          ...          ...          ...   \n",
       "4382  2022-01-13  2830.800049  2857.000000  2768.179932  2771.739990   \n",
       "4383  2022-01-14  2741.580078  2814.840088  2739.969971  2789.610107   \n",
       "4384  2022-01-18  2723.500000  2742.629883  2708.770020  2719.959961   \n",
       "4385  2022-01-19  2730.469971  2759.189941  2700.310059  2702.330078   \n",
       "4386  2022-01-20  2725.000000  2752.520020  2659.290039  2666.149902   \n",
       "\n",
       "        Adj Close    Volume  \n",
       "0       50.220219  44659096  \n",
       "1       54.209209  22834343  \n",
       "2       54.754753  18256126  \n",
       "3       52.487488  15247337  \n",
       "4       53.053055   9188602  \n",
       "...           ...       ...  \n",
       "4382  2771.739990   1571800  \n",
       "4383  2789.610107   1482100  \n",
       "4384  2719.959961   1743600  \n",
       "4385  2702.330078   1432400  \n",
       "4386  2666.149902   1495400  \n",
       "\n",
       "[4387 rows x 7 columns]"
      ]
     },
     "execution_count": 3,
     "metadata": {},
     "output_type": "execute_result"
    }
   ],
   "source": [
    "dataset"
   ]
  },
  {
   "cell_type": "code",
   "execution_count": 4,
   "id": "a7012745",
   "metadata": {},
   "outputs": [],
   "source": [
    "# Ajustes de escalas\n",
    "from sklearn.preprocessing import StandardScaler\n",
    "sc_X = StandardScaler()\n",
    "sc_y = StandardScaler()\n",
    "X = sc_X.fit_transform(X)\n",
    "y = sc_y.fit_transform(y)"
   ]
  },
  {
   "cell_type": "code",
   "execution_count": 5,
   "id": "c126f196",
   "metadata": {},
   "outputs": [
    {
     "name": "stderr",
     "output_type": "stream",
     "text": [
      "C:\\ProgramData\\Anaconda3\\lib\\site-packages\\sklearn\\utils\\validation.py:63: DataConversionWarning: A column-vector y was passed when a 1d array was expected. Please change the shape of y to (n_samples, ), for example using ravel().\n",
      "  return f(*args, **kwargs)\n"
     ]
    },
    {
     "data": {
      "text/plain": [
       "SVR()"
      ]
     },
     "execution_count": 5,
     "metadata": {},
     "output_type": "execute_result"
    }
   ],
   "source": [
    "from sklearn.svm import SVR\n",
    "regressor = SVR(kernel = 'rbf')\n",
    "regressor.fit(X, y)"
   ]
  },
  {
   "cell_type": "code",
   "execution_count": 6,
   "id": "d3ae4d4b",
   "metadata": {},
   "outputs": [],
   "source": [
    "# prediccion de un nuevo valor\n",
    "x_trans = sc_X.transform([[48.57373]])\n",
    "y_pred = regressor.predict(x_trans)\n",
    "y_pred = sc_y.inverse_transform(y_pred)"
   ]
  },
  {
   "cell_type": "code",
   "execution_count": 7,
   "id": "f462985c",
   "metadata": {},
   "outputs": [
    {
     "data": {
      "image/png": "[encoded data removed]",
      "text/plain": [
       "<Figure size 432x288 with 1 Axes>"
      ]
     },
     "metadata": {
      "needs_background": "light"
     },
     "output_type": "display_data"
    }
   ],
   "source": [
    "#Graficando los valores reales\n",
    "x_real = sc_X.inverse_transform(X)\n",
    "y_real = sc_y.inverse_transform(y)\n",
    "\n",
    "X_grid = np.arange(min(x_real), max(x_real), 0.01) \n",
    "X_grid = X_grid.reshape((len(X_grid), 1))\n",
    "\n",
    "x_grid_transform = sc_X.transform(X_grid)\n",
    "\n",
    "y_grid = regressor.predict(x_grid_transform)\n",
    "y_grid_real = sc_y.inverse_transform(y_grid)\n",
    "\n",
    "plt.scatter(x_real, y_real, color = 'red')\n",
    "plt.plot(X_grid, y_grid_real, color = 'blue')\n",
    "plt.title('Modelo SVR')\n",
    "plt.xlabel('Precio')\n",
    "plt.ylabel('Volumen')\n",
    "plt.show()"
   ]
  },
  {
   "cell_type": "code",
   "execution_count": null,
   "id": "3c4f18cd",
   "metadata": {},
   "outputs": [],
   "source": []
  }
 ],
 "metadata": {
  "kernelspec": {
   "display_name": "Python 3",
   "language": "python",
   "name": "python3"
  },
  "language_info": {
   "codemirror_mode": {
    "name": "ipython",
    "version": 3
   },
   "file_extension": ".py",
   "mimetype": "text/x-python",
   "name": "python",
   "nbconvert_exporter": "python",
   "pygments_lexer": "ipython3",
   "version": "3.8.8"
  }
 },
 "nbformat": 4,
 "nbformat_minor": 5
}
