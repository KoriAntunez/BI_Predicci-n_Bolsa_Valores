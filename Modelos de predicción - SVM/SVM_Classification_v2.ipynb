{
 "cells": [
  {
   "cell_type": "code",
   "execution_count": null,
   "metadata": {},
   "outputs": [],
   "source": [
    "!pip install plotly"
   ]
  },
  {
   "cell_type": "code",
   "execution_count": 4,
   "metadata": {
    "id": "VYtcsaCdAKLR"
   },
   "outputs": [],
   "source": [
    "# Machine learning\n",
    "from sklearn.svm import SVC\n",
    "from sklearn.metrics import accuracy_score\n",
    "  \n",
    "# For data manipulation\n",
    "import pandas as pd\n",
    "import numpy as np\n",
    "  \n",
    "# To plot\n",
    "import matplotlib.pyplot as plt\n",
    "plt.style.use('seaborn-darkgrid')\n",
    "  \n",
    "# To ignore warnings\n",
    "import warnings\n",
    "warnings.filterwarnings(\"ignore\")"
   ]
  },
  {
   "cell_type": "code",
   "execution_count": 5,
   "metadata": {
    "colab": {
     "base_uri": "https://localhost:8080/",
     "height": 661
    },
    "id": "GvZbgc6qDLBR",
    "outputId": "daaaefc9-6318-4e64-d932-fda55958a94c"
   },
   "outputs": [
    {
     "data": {
      "text/html": [
       "<div>\n",
       "<style scoped>\n",
       "    .dataframe tbody tr th:only-of-type {\n",
       "        vertical-align: middle;\n",
       "    }\n",
       "\n",
       "    .dataframe tbody tr th {\n",
       "        vertical-align: top;\n",
       "    }\n",
       "\n",
       "    .dataframe thead th {\n",
       "        text-align: right;\n",
       "    }\n",
       "</style>\n",
       "<table border=\"1\" class=\"dataframe\">\n",
       "  <thead>\n",
       "    <tr style=\"text-align: right;\">\n",
       "      <th></th>\n",
       "      <th>Date</th>\n",
       "      <th>Open</th>\n",
       "      <th>High</th>\n",
       "      <th>Low</th>\n",
       "      <th>Close</th>\n",
       "      <th>Adj Close</th>\n",
       "      <th>Volume</th>\n",
       "    </tr>\n",
       "  </thead>\n",
       "  <tbody>\n",
       "    <tr>\n",
       "      <th>0</th>\n",
       "      <td>2004-08-19</td>\n",
       "      <td>50.050049</td>\n",
       "      <td>52.082081</td>\n",
       "      <td>48.028027</td>\n",
       "      <td>50.220219</td>\n",
       "      <td>50.220219</td>\n",
       "      <td>44659096</td>\n",
       "    </tr>\n",
       "    <tr>\n",
       "      <th>1</th>\n",
       "      <td>2004-08-20</td>\n",
       "      <td>50.555557</td>\n",
       "      <td>54.594597</td>\n",
       "      <td>50.300301</td>\n",
       "      <td>54.209209</td>\n",
       "      <td>54.209209</td>\n",
       "      <td>22834343</td>\n",
       "    </tr>\n",
       "    <tr>\n",
       "      <th>2</th>\n",
       "      <td>2004-08-23</td>\n",
       "      <td>55.430431</td>\n",
       "      <td>56.796799</td>\n",
       "      <td>54.579578</td>\n",
       "      <td>54.754753</td>\n",
       "      <td>54.754753</td>\n",
       "      <td>18256126</td>\n",
       "    </tr>\n",
       "    <tr>\n",
       "      <th>3</th>\n",
       "      <td>2004-08-24</td>\n",
       "      <td>55.675674</td>\n",
       "      <td>55.855858</td>\n",
       "      <td>51.836838</td>\n",
       "      <td>52.487488</td>\n",
       "      <td>52.487488</td>\n",
       "      <td>15247337</td>\n",
       "    </tr>\n",
       "    <tr>\n",
       "      <th>4</th>\n",
       "      <td>2004-08-25</td>\n",
       "      <td>52.532532</td>\n",
       "      <td>54.054054</td>\n",
       "      <td>51.991993</td>\n",
       "      <td>53.053055</td>\n",
       "      <td>53.053055</td>\n",
       "      <td>9188602</td>\n",
       "    </tr>\n",
       "    <tr>\n",
       "      <th>...</th>\n",
       "      <td>...</td>\n",
       "      <td>...</td>\n",
       "      <td>...</td>\n",
       "      <td>...</td>\n",
       "      <td>...</td>\n",
       "      <td>...</td>\n",
       "      <td>...</td>\n",
       "    </tr>\n",
       "    <tr>\n",
       "      <th>4382</th>\n",
       "      <td>2022-01-13</td>\n",
       "      <td>2830.800049</td>\n",
       "      <td>2857.000000</td>\n",
       "      <td>2768.179932</td>\n",
       "      <td>2771.739990</td>\n",
       "      <td>2771.739990</td>\n",
       "      <td>1571800</td>\n",
       "    </tr>\n",
       "    <tr>\n",
       "      <th>4383</th>\n",
       "      <td>2022-01-14</td>\n",
       "      <td>2741.580078</td>\n",
       "      <td>2814.840088</td>\n",
       "      <td>2739.969971</td>\n",
       "      <td>2789.610107</td>\n",
       "      <td>2789.610107</td>\n",
       "      <td>1482100</td>\n",
       "    </tr>\n",
       "    <tr>\n",
       "      <th>4384</th>\n",
       "      <td>2022-01-18</td>\n",
       "      <td>2723.500000</td>\n",
       "      <td>2742.629883</td>\n",
       "      <td>2708.770020</td>\n",
       "      <td>2719.959961</td>\n",
       "      <td>2719.959961</td>\n",
       "      <td>1743600</td>\n",
       "    </tr>\n",
       "    <tr>\n",
       "      <th>4385</th>\n",
       "      <td>2022-01-19</td>\n",
       "      <td>2730.469971</td>\n",
       "      <td>2759.189941</td>\n",
       "      <td>2700.310059</td>\n",
       "      <td>2702.330078</td>\n",
       "      <td>2702.330078</td>\n",
       "      <td>1432400</td>\n",
       "    </tr>\n",
       "    <tr>\n",
       "      <th>4386</th>\n",
       "      <td>2022-01-20</td>\n",
       "      <td>2725.000000</td>\n",
       "      <td>2752.520020</td>\n",
       "      <td>2659.290039</td>\n",
       "      <td>2666.149902</td>\n",
       "      <td>2666.149902</td>\n",
       "      <td>1495400</td>\n",
       "    </tr>\n",
       "  </tbody>\n",
       "</table>\n",
       "<p>4387 rows × 7 columns</p>\n",
       "</div>"
      ],
      "text/plain": [
       "            Date         Open         High          Low        Close  \\\n",
       "0     2004-08-19    50.050049    52.082081    48.028027    50.220219   \n",
       "1     2004-08-20    50.555557    54.594597    50.300301    54.209209   \n",
       "2     2004-08-23    55.430431    56.796799    54.579578    54.754753   \n",
       "3     2004-08-24    55.675674    55.855858    51.836838    52.487488   \n",
       "4     2004-08-25    52.532532    54.054054    51.991993    53.053055   \n",
       "...          ...          ...          ...          ...          ...   \n",
       "4382  2022-01-13  2830.800049  2857.000000  2768.179932  2771.739990   \n",
       "4383  2022-01-14  2741.580078  2814.840088  2739.969971  2789.610107   \n",
       "4384  2022-01-18  2723.500000  2742.629883  2708.770020  2719.959961   \n",
       "4385  2022-01-19  2730.469971  2759.189941  2700.310059  2702.330078   \n",
       "4386  2022-01-20  2725.000000  2752.520020  2659.290039  2666.149902   \n",
       "\n",
       "        Adj Close    Volume  \n",
       "0       50.220219  44659096  \n",
       "1       54.209209  22834343  \n",
       "2       54.754753  18256126  \n",
       "3       52.487488  15247337  \n",
       "4       53.053055   9188602  \n",
       "...           ...       ...  \n",
       "4382  2771.739990   1571800  \n",
       "4383  2789.610107   1482100  \n",
       "4384  2719.959961   1743600  \n",
       "4385  2702.330078   1432400  \n",
       "4386  2666.149902   1495400  \n",
       "\n",
       "[4387 rows x 7 columns]"
      ]
     },
     "execution_count": 5,
     "metadata": {},
     "output_type": "execute_result"
    }
   ],
   "source": [
    "data = pd.read_csv('GOOGL.csv')\n",
    "data"
   ]
  },
  {
   "cell_type": "code",
   "execution_count": 6,
   "metadata": {
    "colab": {
     "base_uri": "https://localhost:8080/"
    },
    "id": "9zjw6OpPDd1W",
    "outputId": "76b299ef-f618-4472-d473-28655da3136f"
   },
   "outputs": [
    {
     "name": "stdout",
     "output_type": "stream",
     "text": [
      "<class 'pandas.core.frame.DataFrame'>\n",
      "RangeIndex: 4387 entries, 0 to 4386\n",
      "Data columns (total 7 columns):\n",
      " #   Column     Non-Null Count  Dtype  \n",
      "---  ------     --------------  -----  \n",
      " 0   Date       4387 non-null   object \n",
      " 1   Open       4387 non-null   float64\n",
      " 2   High       4387 non-null   float64\n",
      " 3   Low        4387 non-null   float64\n",
      " 4   Close      4387 non-null   float64\n",
      " 5   Adj Close  4387 non-null   float64\n",
      " 6   Volume     4387 non-null   int64  \n",
      "dtypes: float64(5), int64(1), object(1)\n",
      "memory usage: 240.0+ KB\n"
     ]
    }
   ],
   "source": [
    "data.info()"
   ]
  },
  {
   "cell_type": "code",
   "execution_count": 7,
   "metadata": {
    "colab": {
     "base_uri": "https://localhost:8080/",
     "height": 672
    },
    "id": "TVF3inEKDrkU",
    "outputId": "c9238920-a381-4b46-8854-74b76f161e48"
   },
   "outputs": [
    {
     "data": {
      "text/html": [
       "<div>\n",
       "<style scoped>\n",
       "    .dataframe tbody tr th:only-of-type {\n",
       "        vertical-align: middle;\n",
       "    }\n",
       "\n",
       "    .dataframe tbody tr th {\n",
       "        vertical-align: top;\n",
       "    }\n",
       "\n",
       "    .dataframe thead th {\n",
       "        text-align: right;\n",
       "    }\n",
       "</style>\n",
       "<table border=\"1\" class=\"dataframe\">\n",
       "  <thead>\n",
       "    <tr style=\"text-align: right;\">\n",
       "      <th></th>\n",
       "      <th>Open</th>\n",
       "      <th>High</th>\n",
       "      <th>Low</th>\n",
       "      <th>Close</th>\n",
       "      <th>Adj Close</th>\n",
       "      <th>Volume</th>\n",
       "    </tr>\n",
       "    <tr>\n",
       "      <th>Date</th>\n",
       "      <th></th>\n",
       "      <th></th>\n",
       "      <th></th>\n",
       "      <th></th>\n",
       "      <th></th>\n",
       "      <th></th>\n",
       "    </tr>\n",
       "  </thead>\n",
       "  <tbody>\n",
       "    <tr>\n",
       "      <th>2004-08-19</th>\n",
       "      <td>50.050049</td>\n",
       "      <td>52.082081</td>\n",
       "      <td>48.028027</td>\n",
       "      <td>50.220219</td>\n",
       "      <td>50.220219</td>\n",
       "      <td>44659096</td>\n",
       "    </tr>\n",
       "    <tr>\n",
       "      <th>2004-08-20</th>\n",
       "      <td>50.555557</td>\n",
       "      <td>54.594597</td>\n",
       "      <td>50.300301</td>\n",
       "      <td>54.209209</td>\n",
       "      <td>54.209209</td>\n",
       "      <td>22834343</td>\n",
       "    </tr>\n",
       "    <tr>\n",
       "      <th>2004-08-23</th>\n",
       "      <td>55.430431</td>\n",
       "      <td>56.796799</td>\n",
       "      <td>54.579578</td>\n",
       "      <td>54.754753</td>\n",
       "      <td>54.754753</td>\n",
       "      <td>18256126</td>\n",
       "    </tr>\n",
       "    <tr>\n",
       "      <th>2004-08-24</th>\n",
       "      <td>55.675674</td>\n",
       "      <td>55.855858</td>\n",
       "      <td>51.836838</td>\n",
       "      <td>52.487488</td>\n",
       "      <td>52.487488</td>\n",
       "      <td>15247337</td>\n",
       "    </tr>\n",
       "    <tr>\n",
       "      <th>2004-08-25</th>\n",
       "      <td>52.532532</td>\n",
       "      <td>54.054054</td>\n",
       "      <td>51.991993</td>\n",
       "      <td>53.053055</td>\n",
       "      <td>53.053055</td>\n",
       "      <td>9188602</td>\n",
       "    </tr>\n",
       "    <tr>\n",
       "      <th>...</th>\n",
       "      <td>...</td>\n",
       "      <td>...</td>\n",
       "      <td>...</td>\n",
       "      <td>...</td>\n",
       "      <td>...</td>\n",
       "      <td>...</td>\n",
       "    </tr>\n",
       "    <tr>\n",
       "      <th>2022-01-13</th>\n",
       "      <td>2830.800049</td>\n",
       "      <td>2857.000000</td>\n",
       "      <td>2768.179932</td>\n",
       "      <td>2771.739990</td>\n",
       "      <td>2771.739990</td>\n",
       "      <td>1571800</td>\n",
       "    </tr>\n",
       "    <tr>\n",
       "      <th>2022-01-14</th>\n",
       "      <td>2741.580078</td>\n",
       "      <td>2814.840088</td>\n",
       "      <td>2739.969971</td>\n",
       "      <td>2789.610107</td>\n",
       "      <td>2789.610107</td>\n",
       "      <td>1482100</td>\n",
       "    </tr>\n",
       "    <tr>\n",
       "      <th>2022-01-18</th>\n",
       "      <td>2723.500000</td>\n",
       "      <td>2742.629883</td>\n",
       "      <td>2708.770020</td>\n",
       "      <td>2719.959961</td>\n",
       "      <td>2719.959961</td>\n",
       "      <td>1743600</td>\n",
       "    </tr>\n",
       "    <tr>\n",
       "      <th>2022-01-19</th>\n",
       "      <td>2730.469971</td>\n",
       "      <td>2759.189941</td>\n",
       "      <td>2700.310059</td>\n",
       "      <td>2702.330078</td>\n",
       "      <td>2702.330078</td>\n",
       "      <td>1432400</td>\n",
       "    </tr>\n",
       "    <tr>\n",
       "      <th>2022-01-20</th>\n",
       "      <td>2725.000000</td>\n",
       "      <td>2752.520020</td>\n",
       "      <td>2659.290039</td>\n",
       "      <td>2666.149902</td>\n",
       "      <td>2666.149902</td>\n",
       "      <td>1495400</td>\n",
       "    </tr>\n",
       "  </tbody>\n",
       "</table>\n",
       "<p>4387 rows × 6 columns</p>\n",
       "</div>"
      ],
      "text/plain": [
       "                   Open         High          Low        Close    Adj Close  \\\n",
       "Date                                                                          \n",
       "2004-08-19    50.050049    52.082081    48.028027    50.220219    50.220219   \n",
       "2004-08-20    50.555557    54.594597    50.300301    54.209209    54.209209   \n",
       "2004-08-23    55.430431    56.796799    54.579578    54.754753    54.754753   \n",
       "2004-08-24    55.675674    55.855858    51.836838    52.487488    52.487488   \n",
       "2004-08-25    52.532532    54.054054    51.991993    53.053055    53.053055   \n",
       "...                 ...          ...          ...          ...          ...   \n",
       "2022-01-13  2830.800049  2857.000000  2768.179932  2771.739990  2771.739990   \n",
       "2022-01-14  2741.580078  2814.840088  2739.969971  2789.610107  2789.610107   \n",
       "2022-01-18  2723.500000  2742.629883  2708.770020  2719.959961  2719.959961   \n",
       "2022-01-19  2730.469971  2759.189941  2700.310059  2702.330078  2702.330078   \n",
       "2022-01-20  2725.000000  2752.520020  2659.290039  2666.149902  2666.149902   \n",
       "\n",
       "              Volume  \n",
       "Date                  \n",
       "2004-08-19  44659096  \n",
       "2004-08-20  22834343  \n",
       "2004-08-23  18256126  \n",
       "2004-08-24  15247337  \n",
       "2004-08-25   9188602  \n",
       "...              ...  \n",
       "2022-01-13   1571800  \n",
       "2022-01-14   1482100  \n",
       "2022-01-18   1743600  \n",
       "2022-01-19   1432400  \n",
       "2022-01-20   1495400  \n",
       "\n",
       "[4387 rows x 6 columns]"
      ]
     },
     "execution_count": 7,
     "metadata": {},
     "output_type": "execute_result"
    }
   ],
   "source": [
    "data.index = pd.to_datetime(data['Date'])\n",
    "data = data.drop(['Date'], axis='columns')\n",
    "data"
   ]
  },
  {
   "cell_type": "markdown",
   "metadata": {
    "id": "mKlHLlIWGicJ"
   },
   "source": [
    "La X consiste en variables como 'Abrir – Cerrar' y 'Alto – Bajo'. Estos pueden entenderse como indicadores en base a los cuales el algoritmo predecirá la tendencia del mañana."
   ]
  },
  {
   "cell_type": "code",
   "execution_count": 8,
   "metadata": {
    "colab": {
     "base_uri": "https://localhost:8080/",
     "height": 710
    },
    "id": "xg9B-6lvFtpE",
    "outputId": "756697f7-2b1f-4c2f-a833-0edc510a837b"
   },
   "outputs": [
    {
     "data": {
      "text/html": [
       "<div>\n",
       "<style scoped>\n",
       "    .dataframe tbody tr th:only-of-type {\n",
       "        vertical-align: middle;\n",
       "    }\n",
       "\n",
       "    .dataframe tbody tr th {\n",
       "        vertical-align: top;\n",
       "    }\n",
       "\n",
       "    .dataframe thead th {\n",
       "        text-align: right;\n",
       "    }\n",
       "</style>\n",
       "<table border=\"1\" class=\"dataframe\">\n",
       "  <thead>\n",
       "    <tr style=\"text-align: right;\">\n",
       "      <th></th>\n",
       "      <th>Open</th>\n",
       "      <th>High</th>\n",
       "      <th>Low</th>\n",
       "      <th>Close</th>\n",
       "      <th>Adj Close</th>\n",
       "      <th>Volume</th>\n",
       "      <th>Open-Close</th>\n",
       "      <th>High-Low</th>\n",
       "    </tr>\n",
       "    <tr>\n",
       "      <th>Date</th>\n",
       "      <th></th>\n",
       "      <th></th>\n",
       "      <th></th>\n",
       "      <th></th>\n",
       "      <th></th>\n",
       "      <th></th>\n",
       "      <th></th>\n",
       "      <th></th>\n",
       "    </tr>\n",
       "  </thead>\n",
       "  <tbody>\n",
       "    <tr>\n",
       "      <th>2004-08-19</th>\n",
       "      <td>50.050049</td>\n",
       "      <td>52.082081</td>\n",
       "      <td>48.028027</td>\n",
       "      <td>50.220219</td>\n",
       "      <td>50.220219</td>\n",
       "      <td>44659096</td>\n",
       "      <td>-0.170170</td>\n",
       "      <td>4.054054</td>\n",
       "    </tr>\n",
       "    <tr>\n",
       "      <th>2004-08-20</th>\n",
       "      <td>50.555557</td>\n",
       "      <td>54.594597</td>\n",
       "      <td>50.300301</td>\n",
       "      <td>54.209209</td>\n",
       "      <td>54.209209</td>\n",
       "      <td>22834343</td>\n",
       "      <td>-3.653652</td>\n",
       "      <td>4.294296</td>\n",
       "    </tr>\n",
       "    <tr>\n",
       "      <th>2004-08-23</th>\n",
       "      <td>55.430431</td>\n",
       "      <td>56.796799</td>\n",
       "      <td>54.579578</td>\n",
       "      <td>54.754753</td>\n",
       "      <td>54.754753</td>\n",
       "      <td>18256126</td>\n",
       "      <td>0.675678</td>\n",
       "      <td>2.217221</td>\n",
       "    </tr>\n",
       "    <tr>\n",
       "      <th>2004-08-24</th>\n",
       "      <td>55.675674</td>\n",
       "      <td>55.855858</td>\n",
       "      <td>51.836838</td>\n",
       "      <td>52.487488</td>\n",
       "      <td>52.487488</td>\n",
       "      <td>15247337</td>\n",
       "      <td>3.188186</td>\n",
       "      <td>4.019020</td>\n",
       "    </tr>\n",
       "    <tr>\n",
       "      <th>2004-08-25</th>\n",
       "      <td>52.532532</td>\n",
       "      <td>54.054054</td>\n",
       "      <td>51.991993</td>\n",
       "      <td>53.053055</td>\n",
       "      <td>53.053055</td>\n",
       "      <td>9188602</td>\n",
       "      <td>-0.520523</td>\n",
       "      <td>2.062061</td>\n",
       "    </tr>\n",
       "    <tr>\n",
       "      <th>...</th>\n",
       "      <td>...</td>\n",
       "      <td>...</td>\n",
       "      <td>...</td>\n",
       "      <td>...</td>\n",
       "      <td>...</td>\n",
       "      <td>...</td>\n",
       "      <td>...</td>\n",
       "      <td>...</td>\n",
       "    </tr>\n",
       "    <tr>\n",
       "      <th>2022-01-13</th>\n",
       "      <td>2830.800049</td>\n",
       "      <td>2857.000000</td>\n",
       "      <td>2768.179932</td>\n",
       "      <td>2771.739990</td>\n",
       "      <td>2771.739990</td>\n",
       "      <td>1571800</td>\n",
       "      <td>59.060059</td>\n",
       "      <td>88.820068</td>\n",
       "    </tr>\n",
       "    <tr>\n",
       "      <th>2022-01-14</th>\n",
       "      <td>2741.580078</td>\n",
       "      <td>2814.840088</td>\n",
       "      <td>2739.969971</td>\n",
       "      <td>2789.610107</td>\n",
       "      <td>2789.610107</td>\n",
       "      <td>1482100</td>\n",
       "      <td>-48.030029</td>\n",
       "      <td>74.870117</td>\n",
       "    </tr>\n",
       "    <tr>\n",
       "      <th>2022-01-18</th>\n",
       "      <td>2723.500000</td>\n",
       "      <td>2742.629883</td>\n",
       "      <td>2708.770020</td>\n",
       "      <td>2719.959961</td>\n",
       "      <td>2719.959961</td>\n",
       "      <td>1743600</td>\n",
       "      <td>3.540039</td>\n",
       "      <td>33.859863</td>\n",
       "    </tr>\n",
       "    <tr>\n",
       "      <th>2022-01-19</th>\n",
       "      <td>2730.469971</td>\n",
       "      <td>2759.189941</td>\n",
       "      <td>2700.310059</td>\n",
       "      <td>2702.330078</td>\n",
       "      <td>2702.330078</td>\n",
       "      <td>1432400</td>\n",
       "      <td>28.139893</td>\n",
       "      <td>58.879882</td>\n",
       "    </tr>\n",
       "    <tr>\n",
       "      <th>2022-01-20</th>\n",
       "      <td>2725.000000</td>\n",
       "      <td>2752.520020</td>\n",
       "      <td>2659.290039</td>\n",
       "      <td>2666.149902</td>\n",
       "      <td>2666.149902</td>\n",
       "      <td>1495400</td>\n",
       "      <td>58.850098</td>\n",
       "      <td>93.229981</td>\n",
       "    </tr>\n",
       "  </tbody>\n",
       "</table>\n",
       "<p>4387 rows × 8 columns</p>\n",
       "</div>"
      ],
      "text/plain": [
       "                   Open         High          Low        Close    Adj Close  \\\n",
       "Date                                                                          \n",
       "2004-08-19    50.050049    52.082081    48.028027    50.220219    50.220219   \n",
       "2004-08-20    50.555557    54.594597    50.300301    54.209209    54.209209   \n",
       "2004-08-23    55.430431    56.796799    54.579578    54.754753    54.754753   \n",
       "2004-08-24    55.675674    55.855858    51.836838    52.487488    52.487488   \n",
       "2004-08-25    52.532532    54.054054    51.991993    53.053055    53.053055   \n",
       "...                 ...          ...          ...          ...          ...   \n",
       "2022-01-13  2830.800049  2857.000000  2768.179932  2771.739990  2771.739990   \n",
       "2022-01-14  2741.580078  2814.840088  2739.969971  2789.610107  2789.610107   \n",
       "2022-01-18  2723.500000  2742.629883  2708.770020  2719.959961  2719.959961   \n",
       "2022-01-19  2730.469971  2759.189941  2700.310059  2702.330078  2702.330078   \n",
       "2022-01-20  2725.000000  2752.520020  2659.290039  2666.149902  2666.149902   \n",
       "\n",
       "              Volume  Open-Close   High-Low  \n",
       "Date                                         \n",
       "2004-08-19  44659096   -0.170170   4.054054  \n",
       "2004-08-20  22834343   -3.653652   4.294296  \n",
       "2004-08-23  18256126    0.675678   2.217221  \n",
       "2004-08-24  15247337    3.188186   4.019020  \n",
       "2004-08-25   9188602   -0.520523   2.062061  \n",
       "...              ...         ...        ...  \n",
       "2022-01-13   1571800   59.060059  88.820068  \n",
       "2022-01-14   1482100  -48.030029  74.870117  \n",
       "2022-01-18   1743600    3.540039  33.859863  \n",
       "2022-01-19   1432400   28.139893  58.879882  \n",
       "2022-01-20   1495400   58.850098  93.229981  \n",
       "\n",
       "[4387 rows x 8 columns]"
      ]
     },
     "execution_count": 8,
     "metadata": {},
     "output_type": "execute_result"
    }
   ],
   "source": [
    "# Create predictor variables\n",
    "data['Open-Close'] = data.Open - data.Close\n",
    "data['High-Low'] = data.High - data.Low\n",
    "data"
   ]
  },
  {
   "cell_type": "code",
   "execution_count": 9,
   "metadata": {
    "colab": {
     "base_uri": "https://localhost:8080/",
     "height": 237
    },
    "id": "qvuUiDDIGImX",
    "outputId": "49441093-f0e4-4205-a79e-30c687dfd97b"
   },
   "outputs": [
    {
     "data": {
      "text/html": [
       "<div>\n",
       "<style scoped>\n",
       "    .dataframe tbody tr th:only-of-type {\n",
       "        vertical-align: middle;\n",
       "    }\n",
       "\n",
       "    .dataframe tbody tr th {\n",
       "        vertical-align: top;\n",
       "    }\n",
       "\n",
       "    .dataframe thead th {\n",
       "        text-align: right;\n",
       "    }\n",
       "</style>\n",
       "<table border=\"1\" class=\"dataframe\">\n",
       "  <thead>\n",
       "    <tr style=\"text-align: right;\">\n",
       "      <th></th>\n",
       "      <th>Open-Close</th>\n",
       "      <th>High-Low</th>\n",
       "    </tr>\n",
       "    <tr>\n",
       "      <th>Date</th>\n",
       "      <th></th>\n",
       "      <th></th>\n",
       "    </tr>\n",
       "  </thead>\n",
       "  <tbody>\n",
       "    <tr>\n",
       "      <th>2004-08-19</th>\n",
       "      <td>-0.170170</td>\n",
       "      <td>4.054054</td>\n",
       "    </tr>\n",
       "    <tr>\n",
       "      <th>2004-08-20</th>\n",
       "      <td>-3.653652</td>\n",
       "      <td>4.294296</td>\n",
       "    </tr>\n",
       "    <tr>\n",
       "      <th>2004-08-23</th>\n",
       "      <td>0.675678</td>\n",
       "      <td>2.217221</td>\n",
       "    </tr>\n",
       "    <tr>\n",
       "      <th>2004-08-24</th>\n",
       "      <td>3.188186</td>\n",
       "      <td>4.019020</td>\n",
       "    </tr>\n",
       "    <tr>\n",
       "      <th>2004-08-25</th>\n",
       "      <td>-0.520523</td>\n",
       "      <td>2.062061</td>\n",
       "    </tr>\n",
       "  </tbody>\n",
       "</table>\n",
       "</div>"
      ],
      "text/plain": [
       "            Open-Close  High-Low\n",
       "Date                            \n",
       "2004-08-19   -0.170170  4.054054\n",
       "2004-08-20   -3.653652  4.294296\n",
       "2004-08-23    0.675678  2.217221\n",
       "2004-08-24    3.188186  4.019020\n",
       "2004-08-25   -0.520523  2.062061"
      ]
     },
     "execution_count": 9,
     "metadata": {},
     "output_type": "execute_result"
    }
   ],
   "source": [
    "# Store all predictor variables in a variable X\n",
    "X = data[['Open-Close', 'High-Low']]\n",
    "X.head()"
   ]
  },
  {
   "cell_type": "markdown",
   "metadata": {
    "id": "h-8YVMfOGrdF"
   },
   "source": [
    "Y es un conjunto de datos objetivo que almacena la señal comercial correcta que el algoritmo de aprendizaje automático intentará predecir.\n",
    "Si el precio de mañana es mayor que el precio de hoy, entonces compraremos la acción en particular, de lo contrario no tendremos posición en el. Almacenaremos +1 para una señal de compra y 0 para una posición de no en y"
   ]
  },
  {
   "cell_type": "code",
   "execution_count": 10,
   "metadata": {
    "colab": {
     "base_uri": "https://localhost:8080/"
    },
    "id": "y1Sa59pRGr_e",
    "outputId": "abe4ce5d-62a8-4cf0-8be6-7e61ef2df6e2"
   },
   "outputs": [
    {
     "data": {
      "text/plain": [
       "array([1, 1, 0, ..., 0, 0, 0])"
      ]
     },
     "execution_count": 10,
     "metadata": {},
     "output_type": "execute_result"
    }
   ],
   "source": [
    "y = np.where(data['Close'].shift(-1) > data['Close'], 1, 0)\n",
    "y"
   ]
  },
  {
   "cell_type": "markdown",
   "metadata": {
    "id": "Fd8fs1Q4HhSV"
   },
   "source": [
    "Dividiremos los datos en conjuntos de datos de entrenamiento y prueba."
   ]
  },
  {
   "cell_type": "code",
   "execution_count": 11,
   "metadata": {
    "id": "nJy0i2gmHjhZ"
   },
   "outputs": [],
   "source": [
    "split_percentage = 0.8\n",
    "split = int(split_percentage*len(data))\n",
    "  \n",
    "# Train data set\n",
    "X_train = X[:split]\n",
    "y_train = y[:split]\n",
    "  \n",
    "# Test data set\n",
    "X_test = X[split:]\n",
    "y_test = y[split:]"
   ]
  },
  {
   "cell_type": "markdown",
   "metadata": {
    "id": "kn0gZnfJfTyM"
   },
   "source": [
    "## MODELO DE CLÁSIFICADOR DE VECTORES DE SOPORTE (SVC)"
   ]
  },
  {
   "cell_type": "markdown",
   "metadata": {
    "id": "4KURNx9JHrUP"
   },
   "source": [
    "Clasificador de vectores de soporte (SVC)\n",
    "\n",
    "Creación del modelo clasificador utilizando el método fit() en el conjunto de datos de entrenamiento\n",
    "\n",
    "Usaremos la función SVC() de la biblioteca sklearn.svm.SVC para crear nuestro modelo clasificador usando el método fit() en el conjunto de datos de entrenamiento."
   ]
  },
  {
   "cell_type": "code",
   "execution_count": 12,
   "metadata": {
    "id": "SkhUUBGRHqll"
   },
   "outputs": [],
   "source": [
    "from sklearn import svm\n",
    "cls = svm.SVC(probability=True).fit(X_train, y_train)"
   ]
  },
  {
   "cell_type": "code",
   "execution_count": 13,
   "metadata": {
    "colab": {
     "base_uri": "https://localhost:8080/"
    },
    "id": "ct4BaKWxyq6w",
    "outputId": "ff055e46-0dff-4f42-98f8-f682cca44844"
   },
   "outputs": [
    {
     "data": {
      "text/plain": [
       "array([1, 0, 0, 0, 1, 1, 1, 0, 0, 1, 1, 0, 0, 0, 0, 0, 0, 1, 0, 1, 0, 0,\n",
       "       1, 0, 0, 0, 0, 1, 1, 0, 1, 1, 0, 0, 1, 0, 0, 0, 0, 0, 1, 0, 0, 0,\n",
       "       1, 0, 0, 1, 1, 0, 1, 1, 1, 1, 1, 0, 1, 0, 1, 0, 0, 1, 1, 1, 1, 1,\n",
       "       1, 1, 0, 0, 1, 1, 1, 0, 0, 0, 0, 0, 1, 0, 1, 1, 1, 1, 0, 0, 1, 0,\n",
       "       1, 0, 1, 1, 1, 1, 0, 0, 0, 0, 1, 1, 1, 1, 1, 1, 0, 0, 0, 0, 1, 1,\n",
       "       1, 0, 0, 1, 0, 1, 1, 1, 1, 0, 0, 0, 0, 0, 0, 0, 0, 1, 1, 0, 1, 1,\n",
       "       0, 1, 0, 1, 1, 1, 0, 0, 0, 0, 0, 0, 1, 0, 0, 0, 1, 0, 1, 1, 0, 1,\n",
       "       1, 1, 1, 1, 1, 1, 0, 1, 1, 0, 0, 0, 0, 1, 1, 0, 0, 1, 0, 1, 1, 1,\n",
       "       1, 1, 1, 1, 1, 1, 1, 1, 1, 1, 1, 1, 1, 0, 0, 0, 0, 1, 0, 1, 0, 0,\n",
       "       0, 0, 0, 1, 0, 1, 1, 1, 0, 0, 0, 0, 1, 1, 1, 0, 0, 1, 1, 0, 0, 1,\n",
       "       0, 1, 1, 1, 1, 1, 1, 1, 0, 0, 1, 1, 1, 0, 1, 0, 1, 1, 0, 1, 1, 1,\n",
       "       0, 1, 0, 0, 0, 0, 0, 0, 1, 0, 1, 0, 0, 0, 0, 0, 1, 1, 0, 1, 1, 0,\n",
       "       1, 1, 0, 1, 1, 0, 1, 0, 0, 0, 0, 1, 0, 1, 1, 1, 0, 0, 1, 0, 0, 1,\n",
       "       1, 0, 0, 0, 0, 0, 1, 1, 0, 1, 0, 0, 1, 1, 1, 1, 1, 0, 1, 1, 1, 1,\n",
       "       1, 0, 1, 1, 1, 1, 0, 1, 0, 0, 1, 0, 0, 1, 1, 1, 0, 1, 1, 1, 1, 1,\n",
       "       0, 0, 0, 0, 1, 0, 1, 1, 1, 0, 1, 1, 1, 1, 0, 1, 1, 0, 1, 0, 1, 1,\n",
       "       1, 1, 1, 1, 1, 1, 0, 1, 1, 1, 0, 1, 0, 0, 1, 0, 1, 1, 1, 1, 0, 1,\n",
       "       1, 0, 0, 1, 0, 1, 1, 1, 1, 0, 1, 0, 1, 0, 1, 0, 0, 0, 1, 0, 0, 0,\n",
       "       1, 1, 1, 1, 1, 1, 1, 1, 0, 1, 1, 1, 1, 1, 1, 1, 1, 1, 0, 1, 0, 1,\n",
       "       1, 1, 1, 1, 0, 1, 1, 0, 1, 1, 0, 1, 0, 1, 1, 0, 0, 1, 1, 1, 1, 0,\n",
       "       1, 1, 1, 1, 1, 1, 0, 0, 0, 0, 1, 1, 1, 1, 1, 0, 1, 0, 0, 0, 1, 1,\n",
       "       1, 0, 0, 1, 0, 1, 1, 1, 0, 1, 1, 1, 0, 0, 0, 0, 1, 1, 1, 0, 1, 1,\n",
       "       1, 1, 1, 1, 0, 0, 1, 0, 1, 1, 1, 1, 0, 0, 0, 0, 1, 1, 1, 0, 1, 1,\n",
       "       1, 0, 0, 0, 1, 1, 1, 0, 1, 1, 0, 0, 1, 0, 1, 1, 0, 1, 1, 0, 0, 0,\n",
       "       1, 0, 1, 1, 1, 1, 1, 1, 1, 1, 1, 1, 1, 1, 1, 1, 1, 1, 0, 0, 1, 0,\n",
       "       0, 1, 1, 1, 1, 1, 1, 0, 1, 1, 0, 1, 1, 1, 1, 1, 1, 1, 1, 1, 1, 1,\n",
       "       1, 1, 1, 1, 1, 1, 0, 0, 0, 1, 1, 0, 1, 0, 1, 1, 0, 1, 0, 1, 0, 0,\n",
       "       0, 0, 0, 1, 1, 1, 1, 0, 0, 0, 0, 0, 0, 0, 0, 0, 0, 1, 1, 1, 1, 1,\n",
       "       0, 1, 0, 1, 1, 1, 1, 1, 1, 1, 0, 1, 1, 1, 1, 1, 1, 1, 1, 1, 0, 1,\n",
       "       0, 0, 0, 1, 1, 1, 0, 0, 1, 1, 0, 1, 1, 1, 1, 1, 1, 1, 1, 0, 1, 0,\n",
       "       1, 1, 1, 1, 1, 1, 1, 1, 1, 0, 1, 0, 0, 1, 1, 1, 0, 1, 0, 1, 0, 0,\n",
       "       0, 0, 0, 1, 1, 1, 1, 0, 1, 0, 1, 1, 1, 1, 1, 0, 0, 0, 1, 0, 1, 1,\n",
       "       1, 1, 1, 0, 1, 0, 0, 0, 1, 0, 0, 1, 1, 0, 1, 1, 0, 1, 1, 0, 1, 0,\n",
       "       1, 1, 0, 0, 1, 0, 1, 0, 0, 0, 0, 1, 1, 1, 0, 1, 1, 1, 1, 1, 1, 0,\n",
       "       1, 1, 1, 0, 1, 1, 1, 1, 0, 0, 0, 1, 0, 1, 0, 1, 0, 0, 1, 0, 1, 1,\n",
       "       0, 0, 0, 1, 1, 0, 0, 0, 1, 1, 1, 1, 1, 0, 0, 0, 1, 1, 0, 1, 1, 1,\n",
       "       1, 1, 1, 0, 0, 1, 0, 1, 1, 0, 1, 1, 0, 1, 0, 1, 0, 1, 1, 0, 1, 0,\n",
       "       1, 1, 1, 0, 1, 1, 1, 1, 1, 1, 1, 1, 1, 1, 1, 1, 1, 1, 1, 0, 0, 1,\n",
       "       1, 0, 1, 1, 1, 0, 1, 1, 1, 1, 1, 0, 1, 1, 1, 1, 1, 1, 1, 1, 0, 1,\n",
       "       1, 1, 1, 1, 1, 0, 0, 1, 1, 1, 1, 1, 1, 1, 1, 1, 1, 1, 1, 1])"
      ]
     },
     "execution_count": 13,
     "metadata": {},
     "output_type": "execute_result"
    }
   ],
   "source": [
    "#Predict the response for test dataset\n",
    "y_pred = cls.predict(X_test)\n",
    "y_pred"
   ]
  },
  {
   "cell_type": "markdown",
   "metadata": {
    "id": "1sT0gJpOyslz"
   },
   "source": [
    "## EVALUACIÓN DEL MODELO"
   ]
  },
  {
   "cell_type": "code",
   "execution_count": 14,
   "metadata": {
    "colab": {
     "base_uri": "https://localhost:8080/"
    },
    "id": "Lg16xDd9BG-a",
    "outputId": "647bfd5f-2653-4164-ebdf-15a3c319aa92"
   },
   "outputs": [
    {
     "name": "stdout",
     "output_type": "stream",
     "text": [
      "              precision    recall  f1-score   support\n",
      "\n",
      "           0       0.49      0.42      0.45       402\n",
      "           1       0.57      0.64      0.60       476\n",
      "\n",
      "    accuracy                           0.54       878\n",
      "   macro avg       0.53      0.53      0.53       878\n",
      "weighted avg       0.53      0.54      0.53       878\n",
      "\n"
     ]
    }
   ],
   "source": [
    "# REPORTE DE MÉTRICAS\n",
    "from sklearn.metrics import classification_report\n",
    "print(classification_report(y_test, y_pred))"
   ]
  },
  {
   "cell_type": "code",
   "execution_count": 15,
   "metadata": {
    "colab": {
     "base_uri": "https://localhost:8080/",
     "height": 542
    },
    "id": "u5itkZTddEcW",
    "outputId": "efb4f6aa-103c-46c0-ebc1-7a254965a262"
   },
   "outputs": [
    {
     "ename": "ModuleNotFoundError",
     "evalue": "No module named 'plotly'",
     "output_type": "error",
     "traceback": [
      "\u001b[1;31m---------------------------------------------------------------------------\u001b[0m",
      "\u001b[1;31mModuleNotFoundError\u001b[0m                       Traceback (most recent call last)",
      "\u001b[1;32m<ipython-input-15-a4b99e036171>\u001b[0m in \u001b[0;36m<module>\u001b[1;34m\u001b[0m\n\u001b[0;32m      1\u001b[0m \u001b[1;31m# MATRIZ DE CONFUSIÓN\u001b[0m\u001b[1;33m\u001b[0m\u001b[1;33m\u001b[0m\u001b[1;33m\u001b[0m\u001b[0m\n\u001b[0;32m      2\u001b[0m \u001b[1;32mfrom\u001b[0m \u001b[0msklearn\u001b[0m\u001b[1;33m.\u001b[0m\u001b[0mmetrics\u001b[0m \u001b[1;32mimport\u001b[0m \u001b[0mconfusion_matrix\u001b[0m\u001b[1;33m\u001b[0m\u001b[1;33m\u001b[0m\u001b[0m\n\u001b[1;32m----> 3\u001b[1;33m \u001b[1;32mimport\u001b[0m \u001b[0mplotly\u001b[0m\u001b[1;33m.\u001b[0m\u001b[0mexpress\u001b[0m \u001b[1;32mas\u001b[0m \u001b[0mpx\u001b[0m\u001b[1;33m\u001b[0m\u001b[1;33m\u001b[0m\u001b[0m\n\u001b[0m\u001b[0;32m      4\u001b[0m \u001b[0mconfusion_matrix\u001b[0m \u001b[1;33m=\u001b[0m \u001b[0mconfusion_matrix\u001b[0m\u001b[1;33m(\u001b[0m\u001b[0my_test\u001b[0m\u001b[1;33m,\u001b[0m \u001b[0my_pred\u001b[0m\u001b[1;33m)\u001b[0m\u001b[1;33m.\u001b[0m\u001b[0mastype\u001b[0m\u001b[1;33m(\u001b[0m\u001b[0mint\u001b[0m\u001b[1;33m)\u001b[0m\u001b[1;33m\u001b[0m\u001b[1;33m\u001b[0m\u001b[0m\n\u001b[0;32m      5\u001b[0m \u001b[0mfig\u001b[0m \u001b[1;33m=\u001b[0m \u001b[0mpx\u001b[0m\u001b[1;33m.\u001b[0m\u001b[0mimshow\u001b[0m\u001b[1;33m(\u001b[0m\u001b[0mconfusion_matrix\u001b[0m\u001b[1;33m,\u001b[0m \u001b[0mtext_auto\u001b[0m\u001b[1;33m=\u001b[0m\u001b[1;32mTrue\u001b[0m\u001b[1;33m)\u001b[0m\u001b[1;33m\u001b[0m\u001b[1;33m\u001b[0m\u001b[0m\n",
      "\u001b[1;31mModuleNotFoundError\u001b[0m: No module named 'plotly'"
     ]
    }
   ],
   "source": [
    "# MATRIZ DE CONFUSIÓN\n",
    "from sklearn.metrics import confusion_matrix\n",
    "import plotly.express as px\n",
    "confusion_matrix = confusion_matrix(y_test, y_pred).astype(int)\n",
    "fig = px.imshow(confusion_matrix, text_auto=True)\n",
    "fig.show()"
   ]
  },
  {
   "cell_type": "code",
   "execution_count": null,
   "metadata": {
    "colab": {
     "base_uri": "https://localhost:8080/"
    },
    "id": "dLMoenSOhIS5",
    "outputId": "b0ead910-fbd4-4bb5-83b2-a0d789099d76"
   },
   "outputs": [],
   "source": [
    "#Import scikit-learn metrics module for accuracy calculation\n",
    "from sklearn import metrics\n",
    "accuracy = metrics.accuracy_score(y_test, y_pred)\n",
    "precision = metrics.precision_score(y_test, y_pred)\n",
    "sensivity = metrics.recall_score(y_test, y_pred)\n",
    "f1_score = metrics.f1_score(y_test, y_pred)\n",
    "\n",
    "# DATAFRAME DE MÉTRICAS\n",
    "metrics = {\n",
    "    'metrics' : ['Exactitud', 'Precisión', 'Sensibilidad','F1-score'],\n",
    "    'valor': [accuracy, precision, sensivity,f1_score]\n",
    "}\n",
    "metrics = pd.DataFrame(metrics)\n"
   ]
  },
  {
   "cell_type": "code",
   "execution_count": null,
   "metadata": {
    "colab": {
     "base_uri": "https://localhost:8080/",
     "height": 542
    },
    "id": "9K-UiCH8GK-k",
    "outputId": "a270eb7e-7b0a-47d6-91ce-648f767a9460"
   },
   "outputs": [],
   "source": [
    "# GRÁFICA DE LAS PRINCIPALES MÉTRICAS\n",
    "import plotly.express as px\n",
    "\n",
    "fig = px.bar(metrics, x=\"metrics\", y=\"valor\", color=\"metrics\",text_auto=True,title=\"Métricas del modelo SVM \")\n",
    "fig.show()"
   ]
  },
  {
   "cell_type": "code",
   "execution_count": null,
   "metadata": {
    "colab": {
     "base_uri": "https://localhost:8080/",
     "height": 465
    },
    "id": "Dh-ca2PkbKi0",
    "outputId": "ef7dfa36-47a7-4155-c669-99b3224fd4b9"
   },
   "outputs": [],
   "source": [
    "from sklearn.metrics import roc_curve, auc\n",
    "# svm\n",
    "predictions_cls = cls.predict_proba(X_test)\n",
    "predictions_cls = predictions_cls[:, 1]\n",
    "cls_fpr, cls_tpr, threshold = roc_curve(y_test, predictions_cls)\n",
    "auc_cls = auc(cls_fpr, cls_tpr)\n",
    "\n",
    "plt.figure(figsize=(5, 5), dpi=100)\n",
    "\n",
    "plt.plot(cls_fpr, cls_tpr, linestyle='-', label='Support Vector Machine (auc = %0.3f)' % auc_cls)\n",
    "\n",
    "plt.xlabel('False Positive Rate')\n",
    "plt.ylabel('True Positive Rate')\n",
    "\n",
    "plt.legend()\n",
    "\n",
    "plt.show()"
   ]
  },
  {
   "cell_type": "markdown",
   "metadata": {
    "id": "fDwWwURve5Qy"
   },
   "source": [
    "## ESTRATEGIA DE LA IMPLEMENTACIÓN"
   ]
  },
  {
   "cell_type": "code",
   "execution_count": null,
   "metadata": {
    "colab": {
     "base_uri": "https://localhost:8080/"
    },
    "id": "3Ml7WiuitTUy",
    "outputId": "71be19d9-ceb9-4905-a495-92512185b310"
   },
   "outputs": [],
   "source": [
    "data['Predicted_Signal'] = cls.predict(X)\n",
    "data['Predicted_Signal']"
   ]
  },
  {
   "cell_type": "code",
   "execution_count": null,
   "metadata": {
    "colab": {
     "base_uri": "https://localhost:8080/",
     "height": 710
    },
    "id": "Yp01eDnqegUw",
    "outputId": "066be952-03ad-4a74-f574-d7862403c64c"
   },
   "outputs": [],
   "source": [
    "conditionlist = [\n",
    "    (data['Predicted_Signal'] == 1) ,\n",
    "    (data['Predicted_Signal'] == 0)]\n",
    "choicelist = ['Comprar','Vender']\n",
    "data['Decision'] = np.select(conditionlist, choicelist)\n",
    "data"
   ]
  },
  {
   "cell_type": "markdown",
   "metadata": {
    "id": "NopOw-qJKBTj"
   },
   "source": [
    "Predeciremos la señal (comprar o vender) usando la función cls.predict()."
   ]
  },
  {
   "cell_type": "markdown",
   "metadata": {
    "id": "ewQb4edeKD27"
   },
   "source": [
    "Calcular devoluciones diarias"
   ]
  },
  {
   "cell_type": "code",
   "execution_count": null,
   "metadata": {
    "colab": {
     "base_uri": "https://localhost:8080/",
     "height": 710
    },
    "id": "zWU7IuvwJ-pr",
    "outputId": "10545c96-54fe-4afb-bb31-577d2cea5daf"
   },
   "outputs": [],
   "source": [
    "# Calculate daily returns\n",
    "data['Return'] = data.Close.pct_change()\n",
    "data"
   ]
  },
  {
   "cell_type": "markdown",
   "metadata": {
    "id": "GcCNqh0jKVRR"
   },
   "source": [
    "Calcular los rendimientos de la estrategia"
   ]
  },
  {
   "cell_type": "code",
   "execution_count": null,
   "metadata": {
    "colab": {
     "base_uri": "https://localhost:8080/",
     "height": 710
    },
    "id": "W7MbxZAlKbze",
    "outputId": "db04ba71-d8cf-4b4c-c981-49e7da8d3770"
   },
   "outputs": [],
   "source": [
    "data['Strategy_Return'] = data.Return *data.Predicted_Signal.shift(1)\n",
    "data"
   ]
  },
  {
   "cell_type": "markdown",
   "metadata": {
    "id": "xkVPyJOqKmJk"
   },
   "source": [
    "Calcular rendimientos acumulativos"
   ]
  },
  {
   "cell_type": "code",
   "execution_count": null,
   "metadata": {
    "colab": {
     "base_uri": "https://localhost:8080/",
     "height": 710
    },
    "id": "_nunuW3jKn4k",
    "outputId": "03fe9fe2-ab5c-4ef1-8ea9-29f950443fab"
   },
   "outputs": [],
   "source": [
    "data['Cum_Ret'] = data['Return'].cumsum()\n",
    "data"
   ]
  },
  {
   "cell_type": "markdown",
   "metadata": {
    "id": "BAfZPxKJKvYB"
   },
   "source": [
    "Calcular los rendimientos acumulativos de la estrategia"
   ]
  },
  {
   "cell_type": "code",
   "execution_count": null,
   "metadata": {
    "colab": {
     "base_uri": "https://localhost:8080/",
     "height": 710
    },
    "id": "PG57G-jdKwnj",
    "outputId": "4e3d6bbd-d058-42fd-dd8f-2b0d49df3da0"
   },
   "outputs": [],
   "source": [
    "data['Cum_Strategy'] = data['Strategy_Return'].cumsum()\n",
    "data"
   ]
  },
  {
   "cell_type": "markdown",
   "metadata": {
    "id": "3lLYF6I6K-WM"
   },
   "source": [
    "### Retornos de la estrategia de trama vs rendimientos originales"
   ]
  },
  {
   "cell_type": "code",
   "execution_count": null,
   "metadata": {
    "colab": {
     "base_uri": "https://localhost:8080/",
     "height": 278
    },
    "id": "jziOU3_6LAcp",
    "outputId": "aed9b500-a2cc-47fb-dc68-19849a866a81"
   },
   "outputs": [],
   "source": [
    "import matplotlib.pyplot as plt\n",
    "%matplotlib inline\n",
    "  \n",
    "plt.plot(data['Cum_Ret'],color='red')\n",
    "plt.plot(data['Cum_Strategy'],color='blue')"
   ]
  },
  {
   "cell_type": "markdown",
   "metadata": {
    "id": "f2wCFSzkfFh1"
   },
   "source": [
    "## GRÁFICO DE VELAS"
   ]
  },
  {
   "cell_type": "code",
   "execution_count": null,
   "metadata": {
    "colab": {
     "base_uri": "https://localhost:8080/",
     "height": 636
    },
    "id": "1E0rfm_VYANn",
    "outputId": "8ba93357-9721-4512-e40d-faa68ef63261"
   },
   "outputs": [],
   "source": [
    "#pip install plotly\n",
    "import plotly.graph_objects as go\n",
    "candlestick = go.Candlestick(\n",
    "                            x=data.index,\n",
    "                            open=data['Open'],\n",
    "                            high=data['High'],\n",
    "                            low=data['Low'],\n",
    "                            close=data['Close']\n",
    "                            )\n",
    "\n",
    "fig = go.Figure(data=[candlestick])\n",
    "\n",
    "fig.update_layout(\n",
    "    width=800, height=600,\n",
    "    title=\"GOOGLE\",\n",
    "    yaxis_title='Price Stock'\n",
    ")\n",
    "\n",
    "fig.show()"
   ]
  },
  {
   "cell_type": "code",
   "execution_count": null,
   "metadata": {},
   "outputs": [],
   "source": []
  }
 ],
 "metadata": {
  "colab": {
   "name": "SVM_Classification v2.ipynb",
   "provenance": []
  },
  "kernelspec": {
   "display_name": "Python 3",
   "language": "python",
   "name": "python3"
  },
  "language_info": {
   "codemirror_mode": {
    "name": "ipython",
    "version": 3
   },
   "file_extension": ".py",
   "mimetype": "text/x-python",
   "name": "python",
   "nbconvert_exporter": "python",
   "pygments_lexer": "ipython3",
   "version": "3.8.8"
  }
 },
 "nbformat": 4,
 "nbformat_minor": 1
}
