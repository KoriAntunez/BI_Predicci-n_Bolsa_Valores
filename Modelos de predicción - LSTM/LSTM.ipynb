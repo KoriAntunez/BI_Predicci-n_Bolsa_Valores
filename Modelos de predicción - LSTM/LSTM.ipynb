{
 "cells": [
  {
   "cell_type": "markdown",
   "metadata": {
    "cell_id": "363f1674-97b4-49f5-a566-01313a13faa9",
    "deepnote_cell_type": "markdown",
    "tags": []
   },
   "source": [
    "# LSTM -BI \n"
   ]
  },
  {
   "cell_type": "code",
   "execution_count": null,
   "metadata": {
    "cell_id": "85f41af0-b3d8-4275-b86d-d007071be9db",
    "deepnote_cell_type": "code",
    "tags": []
   },
   "outputs": [],
   "source": [
    "# LSTM -BI "
   ]
  },
  {
   "cell_type": "code",
   "execution_count": 1,
   "metadata": {
    "cell_id": "53ce9997-0726-4e4a-a1dc-64facef57771",
    "deepnote_cell_type": "code",
    "deepnote_to_be_reexecuted": false,
    "execution_millis": 3489,
    "execution_start": 1642756073912,
    "source_hash": "74f06fe8",
    "tags": []
   },
   "outputs": [
    {
     "name": "stdout",
     "output_type": "stream",
     "text": [
      "Requirement already satisfied: pandas_datareader==0.10.0 in c:\\anacond\\lib\\site-packages (0.10.0)\n",
      "Requirement already satisfied: requests>=2.19.0 in c:\\anacond\\lib\\site-packages (from pandas_datareader==0.10.0) (2.25.1)\n",
      "Requirement already satisfied: lxml in c:\\anacond\\lib\\site-packages (from pandas_datareader==0.10.0) (4.6.3)\n",
      "Requirement already satisfied: pandas>=0.23 in c:\\anacond\\lib\\site-packages (from pandas_datareader==0.10.0) (1.2.4)\n",
      "Requirement already satisfied: pytz>=2017.3 in c:\\anacond\\lib\\site-packages (from pandas>=0.23->pandas_datareader==0.10.0) (2021.1)\n",
      "Requirement already satisfied: numpy>=1.16.5 in c:\\anacond\\lib\\site-packages (from pandas>=0.23->pandas_datareader==0.10.0) (1.20.1)\n",
      "Requirement already satisfied: python-dateutil>=2.7.3 in c:\\anacond\\lib\\site-packages (from pandas>=0.23->pandas_datareader==0.10.0) (2.8.1)\n",
      "Requirement already satisfied: six>=1.5 in c:\\anacond\\lib\\site-packages (from python-dateutil>=2.7.3->pandas>=0.23->pandas_datareader==0.10.0) (1.15.0)\n",
      "Requirement already satisfied: chardet<5,>=3.0.2 in c:\\anacond\\lib\\site-packages (from requests>=2.19.0->pandas_datareader==0.10.0) (4.0.0)\n",
      "Requirement already satisfied: idna<3,>=2.5 in c:\\anacond\\lib\\site-packages (from requests>=2.19.0->pandas_datareader==0.10.0) (2.10)\n",
      "Requirement already satisfied: certifi>=2017.4.17 in c:\\anacond\\lib\\site-packages (from requests>=2.19.0->pandas_datareader==0.10.0) (2020.12.5)\n",
      "Requirement already satisfied: urllib3<1.27,>=1.21.1 in c:\\anacond\\lib\\site-packages (from requests>=2.19.0->pandas_datareader==0.10.0) (1.26.4)\n"
     ]
    }
   ],
   "source": [
    "!pip install pandas_datareader==0.10.0"
   ]
  },
  {
   "cell_type": "code",
   "execution_count": 2,
   "metadata": {
    "cell_id": "e8e4dea2-4240-4535-8781-6c0d9880aaca",
    "deepnote_cell_type": "code",
    "deepnote_to_be_reexecuted": false,
    "execution_millis": 17,
    "execution_start": 1642756081658,
    "source_hash": "a73b4516",
    "tags": []
   },
   "outputs": [],
   "source": [
    "import numpy as np\n",
    "import pandas as pd\n",
    "import matplotlib.pyplot as plt\n",
    "import pandas_datareader as data\n"
   ]
  },
  {
   "cell_type": "code",
   "execution_count": 3,
   "metadata": {
    "cell_id": "ad45dd0d-7633-43e1-b593-553e0c3fd8d8",
    "deepnote_cell_type": "code",
    "deepnote_output_heights": [
     266
    ],
    "deepnote_to_be_reexecuted": false,
    "execution_millis": 555,
    "execution_start": 1642756085713,
    "source_hash": "e2db3540",
    "tags": []
   },
   "outputs": [
    {
     "data": {
      "text/html": [
       "<div>\n",
       "<style scoped>\n",
       "    .dataframe tbody tr th:only-of-type {\n",
       "        vertical-align: middle;\n",
       "    }\n",
       "\n",
       "    .dataframe tbody tr th {\n",
       "        vertical-align: top;\n",
       "    }\n",
       "\n",
       "    .dataframe thead th {\n",
       "        text-align: right;\n",
       "    }\n",
       "</style>\n",
       "<table border=\"1\" class=\"dataframe\">\n",
       "  <thead>\n",
       "    <tr style=\"text-align: right;\">\n",
       "      <th></th>\n",
       "      <th>High</th>\n",
       "      <th>Low</th>\n",
       "      <th>Open</th>\n",
       "      <th>Close</th>\n",
       "      <th>Volume</th>\n",
       "      <th>Adj Close</th>\n",
       "    </tr>\n",
       "    <tr>\n",
       "      <th>Date</th>\n",
       "      <th></th>\n",
       "      <th></th>\n",
       "      <th></th>\n",
       "      <th></th>\n",
       "      <th></th>\n",
       "      <th></th>\n",
       "    </tr>\n",
       "  </thead>\n",
       "  <tbody>\n",
       "    <tr>\n",
       "      <th>2004-08-19</th>\n",
       "      <td>51.835709</td>\n",
       "      <td>47.800831</td>\n",
       "      <td>49.813290</td>\n",
       "      <td>49.982655</td>\n",
       "      <td>44871361.0</td>\n",
       "      <td>49.982655</td>\n",
       "    </tr>\n",
       "    <tr>\n",
       "      <th>2004-08-20</th>\n",
       "      <td>54.336334</td>\n",
       "      <td>50.062355</td>\n",
       "      <td>50.316402</td>\n",
       "      <td>53.952770</td>\n",
       "      <td>22942874.0</td>\n",
       "      <td>53.952770</td>\n",
       "    </tr>\n",
       "    <tr>\n",
       "      <th>2004-08-23</th>\n",
       "      <td>56.528118</td>\n",
       "      <td>54.321388</td>\n",
       "      <td>55.168217</td>\n",
       "      <td>54.495735</td>\n",
       "      <td>18342897.0</td>\n",
       "      <td>54.495735</td>\n",
       "    </tr>\n",
       "    <tr>\n",
       "      <th>2004-08-24</th>\n",
       "      <td>55.591629</td>\n",
       "      <td>51.591621</td>\n",
       "      <td>55.412300</td>\n",
       "      <td>52.239197</td>\n",
       "      <td>15319808.0</td>\n",
       "      <td>52.239197</td>\n",
       "    </tr>\n",
       "    <tr>\n",
       "      <th>2004-08-25</th>\n",
       "      <td>53.798351</td>\n",
       "      <td>51.746044</td>\n",
       "      <td>52.284027</td>\n",
       "      <td>52.802086</td>\n",
       "      <td>9232276.0</td>\n",
       "      <td>52.802086</td>\n",
       "    </tr>\n",
       "  </tbody>\n",
       "</table>\n",
       "</div>"
      ],
      "text/plain": [
       "                 High        Low       Open      Close      Volume  Adj Close\n",
       "Date                                                                         \n",
       "2004-08-19  51.835709  47.800831  49.813290  49.982655  44871361.0  49.982655\n",
       "2004-08-20  54.336334  50.062355  50.316402  53.952770  22942874.0  53.952770\n",
       "2004-08-23  56.528118  54.321388  55.168217  54.495735  18342897.0  54.495735\n",
       "2004-08-24  55.591629  51.591621  55.412300  52.239197  15319808.0  52.239197\n",
       "2004-08-25  53.798351  51.746044  52.284027  52.802086   9232276.0  52.802086"
      ]
     },
     "execution_count": 3,
     "metadata": {},
     "output_type": "execute_result"
    }
   ],
   "source": [
    "start = '2004-08-18'\n",
    "end = '2022-01-20'\n",
    "\n",
    "df = data.DataReader('GOOG', 'yahoo', start, end)\n",
    "\n",
    "df.head()"
   ]
  },
  {
   "cell_type": "code",
   "execution_count": 4,
   "metadata": {
    "cell_id": "0103476f-98ee-4ee2-a0ef-6520c2963748",
    "deepnote_cell_type": "code",
    "deepnote_output_heights": [
     266
    ],
    "deepnote_to_be_reexecuted": false,
    "execution_millis": 39,
    "execution_start": 1642756090085,
    "source_hash": "838c0c28",
    "tags": []
   },
   "outputs": [
    {
     "data": {
      "text/html": [
       "<div>\n",
       "<style scoped>\n",
       "    .dataframe tbody tr th:only-of-type {\n",
       "        vertical-align: middle;\n",
       "    }\n",
       "\n",
       "    .dataframe tbody tr th {\n",
       "        vertical-align: top;\n",
       "    }\n",
       "\n",
       "    .dataframe thead th {\n",
       "        text-align: right;\n",
       "    }\n",
       "</style>\n",
       "<table border=\"1\" class=\"dataframe\">\n",
       "  <thead>\n",
       "    <tr style=\"text-align: right;\">\n",
       "      <th></th>\n",
       "      <th>High</th>\n",
       "      <th>Low</th>\n",
       "      <th>Open</th>\n",
       "      <th>Close</th>\n",
       "      <th>Volume</th>\n",
       "      <th>Adj Close</th>\n",
       "    </tr>\n",
       "    <tr>\n",
       "      <th>Date</th>\n",
       "      <th></th>\n",
       "      <th></th>\n",
       "      <th></th>\n",
       "      <th></th>\n",
       "      <th></th>\n",
       "      <th></th>\n",
       "    </tr>\n",
       "  </thead>\n",
       "  <tbody>\n",
       "    <tr>\n",
       "      <th>2022-01-13</th>\n",
       "      <td>2863.709961</td>\n",
       "      <td>2778.280029</td>\n",
       "      <td>2836.810059</td>\n",
       "      <td>2782.620117</td>\n",
       "      <td>1328300.0</td>\n",
       "      <td>2782.620117</td>\n",
       "    </tr>\n",
       "    <tr>\n",
       "      <th>2022-01-14</th>\n",
       "      <td>2824.010010</td>\n",
       "      <td>2750.000000</td>\n",
       "      <td>2750.000000</td>\n",
       "      <td>2795.729980</td>\n",
       "      <td>1190700.0</td>\n",
       "      <td>2795.729980</td>\n",
       "    </tr>\n",
       "    <tr>\n",
       "      <th>2022-01-18</th>\n",
       "      <td>2747.830078</td>\n",
       "      <td>2712.340088</td>\n",
       "      <td>2732.000000</td>\n",
       "      <td>2725.810059</td>\n",
       "      <td>1369100.0</td>\n",
       "      <td>2725.810059</td>\n",
       "    </tr>\n",
       "    <tr>\n",
       "      <th>2022-01-19</th>\n",
       "      <td>2767.989990</td>\n",
       "      <td>2710.000000</td>\n",
       "      <td>2738.770020</td>\n",
       "      <td>2713.040039</td>\n",
       "      <td>1039800.0</td>\n",
       "      <td>2713.040039</td>\n",
       "    </tr>\n",
       "    <tr>\n",
       "      <th>2022-01-20</th>\n",
       "      <td>2758.239990</td>\n",
       "      <td>2662.889893</td>\n",
       "      <td>2730.280029</td>\n",
       "      <td>2670.129883</td>\n",
       "      <td>1093900.0</td>\n",
       "      <td>2670.129883</td>\n",
       "    </tr>\n",
       "  </tbody>\n",
       "</table>\n",
       "</div>"
      ],
      "text/plain": [
       "                   High          Low         Open        Close     Volume  \\\n",
       "Date                                                                        \n",
       "2022-01-13  2863.709961  2778.280029  2836.810059  2782.620117  1328300.0   \n",
       "2022-01-14  2824.010010  2750.000000  2750.000000  2795.729980  1190700.0   \n",
       "2022-01-18  2747.830078  2712.340088  2732.000000  2725.810059  1369100.0   \n",
       "2022-01-19  2767.989990  2710.000000  2738.770020  2713.040039  1039800.0   \n",
       "2022-01-20  2758.239990  2662.889893  2730.280029  2670.129883  1093900.0   \n",
       "\n",
       "              Adj Close  \n",
       "Date                     \n",
       "2022-01-13  2782.620117  \n",
       "2022-01-14  2795.729980  \n",
       "2022-01-18  2725.810059  \n",
       "2022-01-19  2713.040039  \n",
       "2022-01-20  2670.129883  "
      ]
     },
     "execution_count": 4,
     "metadata": {},
     "output_type": "execute_result"
    }
   ],
   "source": [
    "df.tail()"
   ]
  },
  {
   "cell_type": "code",
   "execution_count": 5,
   "metadata": {
    "cell_id": "34a44eb0-d92f-4631-91dd-acfc0ebf43c0",
    "deepnote_cell_type": "code",
    "deepnote_output_heights": [
     237
    ],
    "deepnote_to_be_reexecuted": false,
    "execution_millis": 55,
    "execution_start": 1642756095080,
    "source_hash": "c42e24ba",
    "tags": []
   },
   "outputs": [
    {
     "data": {
      "text/html": [
       "<div>\n",
       "<style scoped>\n",
       "    .dataframe tbody tr th:only-of-type {\n",
       "        vertical-align: middle;\n",
       "    }\n",
       "\n",
       "    .dataframe tbody tr th {\n",
       "        vertical-align: top;\n",
       "    }\n",
       "\n",
       "    .dataframe thead th {\n",
       "        text-align: right;\n",
       "    }\n",
       "</style>\n",
       "<table border=\"1\" class=\"dataframe\">\n",
       "  <thead>\n",
       "    <tr style=\"text-align: right;\">\n",
       "      <th></th>\n",
       "      <th>Date</th>\n",
       "      <th>High</th>\n",
       "      <th>Low</th>\n",
       "      <th>Open</th>\n",
       "      <th>Close</th>\n",
       "      <th>Volume</th>\n",
       "      <th>Adj Close</th>\n",
       "    </tr>\n",
       "  </thead>\n",
       "  <tbody>\n",
       "    <tr>\n",
       "      <th>0</th>\n",
       "      <td>2004-08-19</td>\n",
       "      <td>51.835709</td>\n",
       "      <td>47.800831</td>\n",
       "      <td>49.813290</td>\n",
       "      <td>49.982655</td>\n",
       "      <td>44871361.0</td>\n",
       "      <td>49.982655</td>\n",
       "    </tr>\n",
       "    <tr>\n",
       "      <th>1</th>\n",
       "      <td>2004-08-20</td>\n",
       "      <td>54.336334</td>\n",
       "      <td>50.062355</td>\n",
       "      <td>50.316402</td>\n",
       "      <td>53.952770</td>\n",
       "      <td>22942874.0</td>\n",
       "      <td>53.952770</td>\n",
       "    </tr>\n",
       "    <tr>\n",
       "      <th>2</th>\n",
       "      <td>2004-08-23</td>\n",
       "      <td>56.528118</td>\n",
       "      <td>54.321388</td>\n",
       "      <td>55.168217</td>\n",
       "      <td>54.495735</td>\n",
       "      <td>18342897.0</td>\n",
       "      <td>54.495735</td>\n",
       "    </tr>\n",
       "    <tr>\n",
       "      <th>3</th>\n",
       "      <td>2004-08-24</td>\n",
       "      <td>55.591629</td>\n",
       "      <td>51.591621</td>\n",
       "      <td>55.412300</td>\n",
       "      <td>52.239197</td>\n",
       "      <td>15319808.0</td>\n",
       "      <td>52.239197</td>\n",
       "    </tr>\n",
       "    <tr>\n",
       "      <th>4</th>\n",
       "      <td>2004-08-25</td>\n",
       "      <td>53.798351</td>\n",
       "      <td>51.746044</td>\n",
       "      <td>52.284027</td>\n",
       "      <td>52.802086</td>\n",
       "      <td>9232276.0</td>\n",
       "      <td>52.802086</td>\n",
       "    </tr>\n",
       "  </tbody>\n",
       "</table>\n",
       "</div>"
      ],
      "text/plain": [
       "        Date       High        Low       Open      Close      Volume  \\\n",
       "0 2004-08-19  51.835709  47.800831  49.813290  49.982655  44871361.0   \n",
       "1 2004-08-20  54.336334  50.062355  50.316402  53.952770  22942874.0   \n",
       "2 2004-08-23  56.528118  54.321388  55.168217  54.495735  18342897.0   \n",
       "3 2004-08-24  55.591629  51.591621  55.412300  52.239197  15319808.0   \n",
       "4 2004-08-25  53.798351  51.746044  52.284027  52.802086   9232276.0   \n",
       "\n",
       "   Adj Close  \n",
       "0  49.982655  \n",
       "1  53.952770  \n",
       "2  54.495735  \n",
       "3  52.239197  \n",
       "4  52.802086  "
      ]
     },
     "execution_count": 5,
     "metadata": {},
     "output_type": "execute_result"
    }
   ],
   "source": [
    "df = df.reset_index()\n",
    "df.head()"
   ]
  },
  {
   "cell_type": "code",
   "execution_count": 6,
   "metadata": {
    "cell_id": "3cfe3321-3c41-4c14-bb35-a645ef247e94",
    "deepnote_cell_type": "code",
    "deepnote_output_heights": [
     237
    ],
    "deepnote_to_be_reexecuted": false,
    "execution_millis": 44,
    "execution_start": 1642756100383,
    "source_hash": "645edcfc",
    "tags": []
   },
   "outputs": [
    {
     "data": {
      "text/html": [
       "<div>\n",
       "<style scoped>\n",
       "    .dataframe tbody tr th:only-of-type {\n",
       "        vertical-align: middle;\n",
       "    }\n",
       "\n",
       "    .dataframe tbody tr th {\n",
       "        vertical-align: top;\n",
       "    }\n",
       "\n",
       "    .dataframe thead th {\n",
       "        text-align: right;\n",
       "    }\n",
       "</style>\n",
       "<table border=\"1\" class=\"dataframe\">\n",
       "  <thead>\n",
       "    <tr style=\"text-align: right;\">\n",
       "      <th></th>\n",
       "      <th>High</th>\n",
       "      <th>Low</th>\n",
       "      <th>Open</th>\n",
       "      <th>Close</th>\n",
       "      <th>Volume</th>\n",
       "    </tr>\n",
       "  </thead>\n",
       "  <tbody>\n",
       "    <tr>\n",
       "      <th>0</th>\n",
       "      <td>51.835709</td>\n",
       "      <td>47.800831</td>\n",
       "      <td>49.813290</td>\n",
       "      <td>49.982655</td>\n",
       "      <td>44871361.0</td>\n",
       "    </tr>\n",
       "    <tr>\n",
       "      <th>1</th>\n",
       "      <td>54.336334</td>\n",
       "      <td>50.062355</td>\n",
       "      <td>50.316402</td>\n",
       "      <td>53.952770</td>\n",
       "      <td>22942874.0</td>\n",
       "    </tr>\n",
       "    <tr>\n",
       "      <th>2</th>\n",
       "      <td>56.528118</td>\n",
       "      <td>54.321388</td>\n",
       "      <td>55.168217</td>\n",
       "      <td>54.495735</td>\n",
       "      <td>18342897.0</td>\n",
       "    </tr>\n",
       "    <tr>\n",
       "      <th>3</th>\n",
       "      <td>55.591629</td>\n",
       "      <td>51.591621</td>\n",
       "      <td>55.412300</td>\n",
       "      <td>52.239197</td>\n",
       "      <td>15319808.0</td>\n",
       "    </tr>\n",
       "    <tr>\n",
       "      <th>4</th>\n",
       "      <td>53.798351</td>\n",
       "      <td>51.746044</td>\n",
       "      <td>52.284027</td>\n",
       "      <td>52.802086</td>\n",
       "      <td>9232276.0</td>\n",
       "    </tr>\n",
       "  </tbody>\n",
       "</table>\n",
       "</div>"
      ],
      "text/plain": [
       "        High        Low       Open      Close      Volume\n",
       "0  51.835709  47.800831  49.813290  49.982655  44871361.0\n",
       "1  54.336334  50.062355  50.316402  53.952770  22942874.0\n",
       "2  56.528118  54.321388  55.168217  54.495735  18342897.0\n",
       "3  55.591629  51.591621  55.412300  52.239197  15319808.0\n",
       "4  53.798351  51.746044  52.284027  52.802086   9232276.0"
      ]
     },
     "execution_count": 6,
     "metadata": {},
     "output_type": "execute_result"
    }
   ],
   "source": [
    "df = df.drop(['Date','Adj Close'], axis=1)\n",
    "df.head()"
   ]
  },
  {
   "cell_type": "code",
   "execution_count": 7,
   "metadata": {
    "cell_id": "371e73ff-e27f-40bd-b521-8e073f77f76a",
    "deepnote_cell_type": "code",
    "deepnote_output_heights": [
     81,
     310
    ],
    "deepnote_to_be_reexecuted": false,
    "execution_millis": 223,
    "execution_start": 1642756109658,
    "source_hash": "2888e588",
    "tags": []
   },
   "outputs": [
    {
     "data": {
      "text/plain": [
       "[<matplotlib.lines.Line2D at 0x2e0c2b69be0>]"
      ]
     },
     "execution_count": 7,
     "metadata": {},
     "output_type": "execute_result"
    },
    {
     "data": {
      "image/png": "[encoded data removed]",
      "text/plain": [
       "<Figure size 432x288 with 1 Axes>"
      ]
     },
     "metadata": {
      "needs_background": "light"
     },
     "output_type": "display_data"
    }
   ],
   "source": [
    "plt.plot(df.Close)"
   ]
  },
  {
   "cell_type": "code",
   "execution_count": 8,
   "metadata": {
    "cell_id": "26f60434-fc88-4930-a72a-e65f0fe529c2",
    "deepnote_cell_type": "code",
    "deepnote_output_heights": [
     442
    ],
    "deepnote_to_be_reexecuted": false,
    "execution_millis": 63,
    "execution_start": 1642756118510,
    "source_hash": "f804c160",
    "tags": []
   },
   "outputs": [
    {
     "data": {
      "text/html": [
       "<div>\n",
       "<style scoped>\n",
       "    .dataframe tbody tr th:only-of-type {\n",
       "        vertical-align: middle;\n",
       "    }\n",
       "\n",
       "    .dataframe tbody tr th {\n",
       "        vertical-align: top;\n",
       "    }\n",
       "\n",
       "    .dataframe thead th {\n",
       "        text-align: right;\n",
       "    }\n",
       "</style>\n",
       "<table border=\"1\" class=\"dataframe\">\n",
       "  <thead>\n",
       "    <tr style=\"text-align: right;\">\n",
       "      <th></th>\n",
       "      <th>High</th>\n",
       "      <th>Low</th>\n",
       "      <th>Open</th>\n",
       "      <th>Close</th>\n",
       "      <th>Volume</th>\n",
       "    </tr>\n",
       "  </thead>\n",
       "  <tbody>\n",
       "    <tr>\n",
       "      <th>0</th>\n",
       "      <td>51.835709</td>\n",
       "      <td>47.800831</td>\n",
       "      <td>49.813290</td>\n",
       "      <td>49.982655</td>\n",
       "      <td>44871361.0</td>\n",
       "    </tr>\n",
       "    <tr>\n",
       "      <th>1</th>\n",
       "      <td>54.336334</td>\n",
       "      <td>50.062355</td>\n",
       "      <td>50.316402</td>\n",
       "      <td>53.952770</td>\n",
       "      <td>22942874.0</td>\n",
       "    </tr>\n",
       "    <tr>\n",
       "      <th>2</th>\n",
       "      <td>56.528118</td>\n",
       "      <td>54.321388</td>\n",
       "      <td>55.168217</td>\n",
       "      <td>54.495735</td>\n",
       "      <td>18342897.0</td>\n",
       "    </tr>\n",
       "    <tr>\n",
       "      <th>3</th>\n",
       "      <td>55.591629</td>\n",
       "      <td>51.591621</td>\n",
       "      <td>55.412300</td>\n",
       "      <td>52.239197</td>\n",
       "      <td>15319808.0</td>\n",
       "    </tr>\n",
       "    <tr>\n",
       "      <th>4</th>\n",
       "      <td>53.798351</td>\n",
       "      <td>51.746044</td>\n",
       "      <td>52.284027</td>\n",
       "      <td>52.802086</td>\n",
       "      <td>9232276.0</td>\n",
       "    </tr>\n",
       "    <tr>\n",
       "      <th>...</th>\n",
       "      <td>...</td>\n",
       "      <td>...</td>\n",
       "      <td>...</td>\n",
       "      <td>...</td>\n",
       "      <td>...</td>\n",
       "    </tr>\n",
       "    <tr>\n",
       "      <th>4382</th>\n",
       "      <td>2863.709961</td>\n",
       "      <td>2778.280029</td>\n",
       "      <td>2836.810059</td>\n",
       "      <td>2782.620117</td>\n",
       "      <td>1328300.0</td>\n",
       "    </tr>\n",
       "    <tr>\n",
       "      <th>4383</th>\n",
       "      <td>2824.010010</td>\n",
       "      <td>2750.000000</td>\n",
       "      <td>2750.000000</td>\n",
       "      <td>2795.729980</td>\n",
       "      <td>1190700.0</td>\n",
       "    </tr>\n",
       "    <tr>\n",
       "      <th>4384</th>\n",
       "      <td>2747.830078</td>\n",
       "      <td>2712.340088</td>\n",
       "      <td>2732.000000</td>\n",
       "      <td>2725.810059</td>\n",
       "      <td>1369100.0</td>\n",
       "    </tr>\n",
       "    <tr>\n",
       "      <th>4385</th>\n",
       "      <td>2767.989990</td>\n",
       "      <td>2710.000000</td>\n",
       "      <td>2738.770020</td>\n",
       "      <td>2713.040039</td>\n",
       "      <td>1039800.0</td>\n",
       "    </tr>\n",
       "    <tr>\n",
       "      <th>4386</th>\n",
       "      <td>2758.239990</td>\n",
       "      <td>2662.889893</td>\n",
       "      <td>2730.280029</td>\n",
       "      <td>2670.129883</td>\n",
       "      <td>1093900.0</td>\n",
       "    </tr>\n",
       "  </tbody>\n",
       "</table>\n",
       "<p>4387 rows × 5 columns</p>\n",
       "</div>"
      ],
      "text/plain": [
       "             High          Low         Open        Close      Volume\n",
       "0       51.835709    47.800831    49.813290    49.982655  44871361.0\n",
       "1       54.336334    50.062355    50.316402    53.952770  22942874.0\n",
       "2       56.528118    54.321388    55.168217    54.495735  18342897.0\n",
       "3       55.591629    51.591621    55.412300    52.239197  15319808.0\n",
       "4       53.798351    51.746044    52.284027    52.802086   9232276.0\n",
       "...           ...          ...          ...          ...         ...\n",
       "4382  2863.709961  2778.280029  2836.810059  2782.620117   1328300.0\n",
       "4383  2824.010010  2750.000000  2750.000000  2795.729980   1190700.0\n",
       "4384  2747.830078  2712.340088  2732.000000  2725.810059   1369100.0\n",
       "4385  2767.989990  2710.000000  2738.770020  2713.040039   1039800.0\n",
       "4386  2758.239990  2662.889893  2730.280029  2670.129883   1093900.0\n",
       "\n",
       "[4387 rows x 5 columns]"
      ]
     },
     "execution_count": 8,
     "metadata": {},
     "output_type": "execute_result"
    }
   ],
   "source": [
    "df"
   ]
  },
  {
   "cell_type": "code",
   "execution_count": 9,
   "metadata": {
    "cell_id": "30a86cb2-d763-4874-81c3-817896523a28",
    "deepnote_cell_type": "code",
    "deepnote_output_heights": [
     293
    ],
    "deepnote_to_be_reexecuted": false,
    "execution_millis": 10,
    "execution_start": 1642756123142,
    "source_hash": "37c88d3b",
    "tags": []
   },
   "outputs": [
    {
     "data": {
      "text/plain": [
       "0               NaN\n",
       "1               NaN\n",
       "2               NaN\n",
       "3               NaN\n",
       "4               NaN\n",
       "           ...     \n",
       "4382    2870.679209\n",
       "4383    2870.156809\n",
       "4384    2868.824910\n",
       "4385    2867.530710\n",
       "4386    2865.321909\n",
       "Name: Close, Length: 4387, dtype: float64"
      ]
     },
     "execution_count": 9,
     "metadata": {},
     "output_type": "execute_result"
    }
   ],
   "source": [
    "ma100 = df.Close.rolling(100).mean()\n",
    "ma100"
   ]
  },
  {
   "cell_type": "code",
   "execution_count": 10,
   "metadata": {
    "cell_id": "5f3e0474-00bf-4a81-9309-06a5d5b4b48c",
    "deepnote_cell_type": "code",
    "deepnote_output_heights": [
     81,
     419
    ],
    "deepnote_to_be_reexecuted": false,
    "execution_millis": 244,
    "execution_start": 1642756130227,
    "source_hash": "d9c4a810",
    "tags": []
   },
   "outputs": [
    {
     "data": {
      "text/plain": [
       "[<matplotlib.lines.Line2D at 0x2e0c2757e20>]"
      ]
     },
     "execution_count": 10,
     "metadata": {},
     "output_type": "execute_result"
    },
    {
     "data": {
      "image/png": "[encoded data removed]",
      "text/plain": [
       "<Figure size 864x432 with 1 Axes>"
      ]
     },
     "metadata": {
      "needs_background": "light"
     },
     "output_type": "display_data"
    }
   ],
   "source": [
    "plt.figure(figsize=(12,6))\n",
    "plt.plot(df.Close)\n",
    "plt.plot(ma100,'r')"
   ]
  },
  {
   "cell_type": "code",
   "execution_count": 11,
   "metadata": {
    "cell_id": "3c724ca1-aa96-4a06-b84e-44f1936dd664",
    "deepnote_cell_type": "code",
    "deepnote_output_heights": [
     262.390625
    ],
    "deepnote_to_be_reexecuted": false,
    "execution_millis": 12,
    "execution_start": 1642756137120,
    "source_hash": "7d7f966b",
    "tags": []
   },
   "outputs": [
    {
     "data": {
      "text/plain": [
       "0               NaN\n",
       "1               NaN\n",
       "2               NaN\n",
       "3               NaN\n",
       "4               NaN\n",
       "           ...     \n",
       "4382    2684.307854\n",
       "4383    2687.597754\n",
       "4384    2690.099054\n",
       "4385    2692.540504\n",
       "4386    2694.642754\n",
       "Name: Close, Length: 4387, dtype: float64"
      ]
     },
     "execution_count": 11,
     "metadata": {},
     "output_type": "execute_result"
    }
   ],
   "source": [
    "ma200 = df.Close.rolling(200).mean()\n",
    "ma200"
   ]
  },
  {
   "cell_type": "code",
   "execution_count": 12,
   "metadata": {
    "cell_id": "a36d1efd-24fc-4f26-bb4d-9b700f047c6a",
    "deepnote_cell_type": "code",
    "deepnote_output_heights": [
     51.1875,
     389
    ],
    "deepnote_to_be_reexecuted": false,
    "execution_millis": 206,
    "execution_start": 1642756145553,
    "source_hash": "60f9048b",
    "tags": []
   },
   "outputs": [
    {
     "data": {
      "text/plain": [
       "[<matplotlib.lines.Line2D at 0x2e0c29bb160>]"
      ]
     },
     "execution_count": 12,
     "metadata": {},
     "output_type": "execute_result"
    },
    {
     "data": {
      "image/png": "[encoded data removed]",
      "text/plain": [
       "<Figure size 864x432 with 1 Axes>"
      ]
     },
     "metadata": {
      "needs_background": "light"
     },
     "output_type": "display_data"
    }
   ],
   "source": [
    "plt.figure(figsize=(12,6))\n",
    "plt.plot(df.Close)\n",
    "plt.plot(ma100,'r')\n",
    "plt.plot(ma200,'g')"
   ]
  },
  {
   "cell_type": "code",
   "execution_count": 13,
   "metadata": {
    "cell_id": "34ac596a-6f78-463c-8e15-909de8ad7e1b",
    "deepnote_cell_type": "code",
    "deepnote_output_heights": [
     51.1875
    ],
    "deepnote_to_be_reexecuted": false,
    "execution_millis": 14,
    "execution_start": 1642756152951,
    "source_hash": "14f60b8f",
    "tags": []
   },
   "outputs": [
    {
     "data": {
      "text/plain": [
       "(4387, 5)"
      ]
     },
     "execution_count": 13,
     "metadata": {},
     "output_type": "execute_result"
    }
   ],
   "source": [
    "df.shape"
   ]
  },
  {
   "cell_type": "code",
   "execution_count": 14,
   "metadata": {
    "cell_id": "9508f9c8-faa5-44c7-94ff-63ca04809032",
    "deepnote_cell_type": "code",
    "deepnote_to_be_reexecuted": false,
    "execution_millis": 0,
    "execution_start": 1642756158063,
    "source_hash": "52ee77a0",
    "tags": []
   },
   "outputs": [],
   "source": [
    "# Splitting data into training and testing "
   ]
  },
  {
   "cell_type": "code",
   "execution_count": 15,
   "metadata": {
    "cell_id": "58f33dc4-eaff-4a7a-a756-f3df6c3d1376",
    "deepnote_cell_type": "code",
    "deepnote_to_be_reexecuted": false,
    "execution_millis": 5,
    "execution_start": 1642756161787,
    "source_hash": "6ce03bcd",
    "tags": []
   },
   "outputs": [
    {
     "name": "stdout",
     "output_type": "stream",
     "text": [
      "(3070, 1)\n",
      "(1317, 1)\n"
     ]
    }
   ],
   "source": [
    "data_training = pd.DataFrame(df['Close'][0:int(len(df)*0.70)])\n",
    "data_testing = pd.DataFrame(df['Close'][int(len(df)*0.70): int(len(df))])\n",
    "\n",
    "print(data_training.shape)\n",
    "print(data_testing.shape)"
   ]
  },
  {
   "cell_type": "code",
   "execution_count": 16,
   "metadata": {
    "cell_id": "b4bddc6d-297d-42b1-a2fb-f796cad27551",
    "deepnote_cell_type": "code",
    "deepnote_output_heights": [
     207
    ],
    "deepnote_to_be_reexecuted": false,
    "execution_millis": 0,
    "execution_start": 1642756167974,
    "source_hash": "5e4af317",
    "tags": []
   },
   "outputs": [
    {
     "data": {
      "text/html": [
       "<div>\n",
       "<style scoped>\n",
       "    .dataframe tbody tr th:only-of-type {\n",
       "        vertical-align: middle;\n",
       "    }\n",
       "\n",
       "    .dataframe tbody tr th {\n",
       "        vertical-align: top;\n",
       "    }\n",
       "\n",
       "    .dataframe thead th {\n",
       "        text-align: right;\n",
       "    }\n",
       "</style>\n",
       "<table border=\"1\" class=\"dataframe\">\n",
       "  <thead>\n",
       "    <tr style=\"text-align: right;\">\n",
       "      <th></th>\n",
       "      <th>Close</th>\n",
       "    </tr>\n",
       "  </thead>\n",
       "  <tbody>\n",
       "    <tr>\n",
       "      <th>0</th>\n",
       "      <td>49.982655</td>\n",
       "    </tr>\n",
       "    <tr>\n",
       "      <th>1</th>\n",
       "      <td>53.952770</td>\n",
       "    </tr>\n",
       "    <tr>\n",
       "      <th>2</th>\n",
       "      <td>54.495735</td>\n",
       "    </tr>\n",
       "    <tr>\n",
       "      <th>3</th>\n",
       "      <td>52.239197</td>\n",
       "    </tr>\n",
       "    <tr>\n",
       "      <th>4</th>\n",
       "      <td>52.802086</td>\n",
       "    </tr>\n",
       "  </tbody>\n",
       "</table>\n",
       "</div>"
      ],
      "text/plain": [
       "       Close\n",
       "0  49.982655\n",
       "1  53.952770\n",
       "2  54.495735\n",
       "3  52.239197\n",
       "4  52.802086"
      ]
     },
     "execution_count": 16,
     "metadata": {},
     "output_type": "execute_result"
    }
   ],
   "source": [
    "data_training.head()"
   ]
  },
  {
   "cell_type": "code",
   "execution_count": 17,
   "metadata": {
    "cell_id": "e28e5bd8-d9dd-41eb-b884-b1f06a94b115",
    "deepnote_cell_type": "code",
    "deepnote_output_heights": [
     207
    ],
    "deepnote_to_be_reexecuted": false,
    "execution_millis": 3,
    "execution_start": 1642756173982,
    "source_hash": "e992d44e",
    "tags": []
   },
   "outputs": [
    {
     "data": {
      "text/html": [
       "<div>\n",
       "<style scoped>\n",
       "    .dataframe tbody tr th:only-of-type {\n",
       "        vertical-align: middle;\n",
       "    }\n",
       "\n",
       "    .dataframe tbody tr th {\n",
       "        vertical-align: top;\n",
       "    }\n",
       "\n",
       "    .dataframe thead th {\n",
       "        text-align: right;\n",
       "    }\n",
       "</style>\n",
       "<table border=\"1\" class=\"dataframe\">\n",
       "  <thead>\n",
       "    <tr style=\"text-align: right;\">\n",
       "      <th></th>\n",
       "      <th>Close</th>\n",
       "    </tr>\n",
       "  </thead>\n",
       "  <tbody>\n",
       "    <tr>\n",
       "      <th>3070</th>\n",
       "      <td>795.349976</td>\n",
       "    </tr>\n",
       "    <tr>\n",
       "      <th>3071</th>\n",
       "      <td>795.369995</td>\n",
       "    </tr>\n",
       "    <tr>\n",
       "      <th>3072</th>\n",
       "      <td>784.539978</td>\n",
       "    </tr>\n",
       "    <tr>\n",
       "      <th>3073</th>\n",
       "      <td>783.609985</td>\n",
       "    </tr>\n",
       "    <tr>\n",
       "      <th>3074</th>\n",
       "      <td>768.700012</td>\n",
       "    </tr>\n",
       "  </tbody>\n",
       "</table>\n",
       "</div>"
      ],
      "text/plain": [
       "           Close\n",
       "3070  795.349976\n",
       "3071  795.369995\n",
       "3072  784.539978\n",
       "3073  783.609985\n",
       "3074  768.700012"
      ]
     },
     "execution_count": 17,
     "metadata": {},
     "output_type": "execute_result"
    }
   ],
   "source": [
    "data_testing.head()"
   ]
  },
  {
   "cell_type": "code",
   "execution_count": 18,
   "metadata": {
    "cell_id": "97d2d07a-96ca-449d-95c5-84eee71163b9",
    "deepnote_cell_type": "code",
    "deepnote_to_be_reexecuted": false,
    "execution_millis": 678,
    "execution_start": 1642756177743,
    "source_hash": "8d7fb3f5",
    "tags": []
   },
   "outputs": [],
   "source": [
    "from sklearn.preprocessing import MinMaxScaler\n",
    "scaler = MinMaxScaler(feature_range = (0,1))\n",
    "\n",
    "\n"
   ]
  },
  {
   "cell_type": "code",
   "execution_count": 19,
   "metadata": {
    "cell_id": "e609835a-c818-4067-8672-61908801026e",
    "deepnote_cell_type": "code",
    "deepnote_output_heights": [
     166.390625
    ],
    "deepnote_to_be_reexecuted": false,
    "execution_millis": 6,
    "execution_start": 1642756185849,
    "source_hash": "34481bfb",
    "tags": []
   },
   "outputs": [
    {
     "data": {
      "text/plain": [
       "array([[2.15365561e-04],\n",
       "       [5.41667401e-03],\n",
       "       [6.12802057e-03],\n",
       "       ...,\n",
       "       [1.00000000e+00],\n",
       "       [9.92872971e-01],\n",
       "       [9.81606013e-01]])"
      ]
     },
     "execution_count": 19,
     "metadata": {},
     "output_type": "execute_result"
    }
   ],
   "source": [
    "data_training_array = scaler.fit_transform(data_training)\n",
    "data_training_array"
   ]
  },
  {
   "cell_type": "code",
   "execution_count": 20,
   "metadata": {
    "cell_id": "f83960d3-6fad-434e-82ef-c4b7109e8899",
    "deepnote_cell_type": "code",
    "deepnote_output_heights": [
     51.1875
    ],
    "deepnote_to_be_reexecuted": false,
    "execution_millis": 2,
    "execution_start": 1642756195700,
    "source_hash": "9f488dab",
    "tags": []
   },
   "outputs": [
    {
     "data": {
      "text/plain": [
       "(3070, 1)"
      ]
     },
     "execution_count": 20,
     "metadata": {},
     "output_type": "execute_result"
    }
   ],
   "source": [
    "data_training_array.shape"
   ]
  },
  {
   "cell_type": "code",
   "execution_count": 21,
   "metadata": {
    "cell_id": "fd24ac5d-92c0-488b-ba35-0a0cc31ca9a3",
    "deepnote_cell_type": "code",
    "deepnote_output_heights": [
     611
    ],
    "deepnote_to_be_reexecuted": false,
    "execution_millis": 1,
    "execution_start": 1642756202728,
    "source_hash": "7eb69de9",
    "tags": []
   },
   "outputs": [],
   "source": [
    "x_train = []\n",
    "y_train = []\n",
    "\n",
    "for i in range(100, data_training_array.shape[0]):\n",
    "    x_train.append(data_training_array[i-100: i])\n",
    "    y_train.append(data_training_array[i, 0])\n",
    "\n",
    "x_train, y_train = np.array(x_train), np.array(y_train)"
   ]
  },
  {
   "cell_type": "code",
   "execution_count": 22,
   "metadata": {
    "cell_id": "dcf5213a-7a7f-44f7-aa66-2ed3904ec7b5",
    "deepnote_cell_type": "code",
    "deepnote_output_heights": [
     51.1875
    ],
    "deepnote_to_be_reexecuted": false,
    "execution_millis": 2,
    "execution_start": 1642756208064,
    "source_hash": "6b4d6ed5",
    "tags": []
   },
   "outputs": [
    {
     "data": {
      "text/plain": [
       "(2970, 100, 1)"
      ]
     },
     "execution_count": 22,
     "metadata": {},
     "output_type": "execute_result"
    }
   ],
   "source": [
    "x_train.shape"
   ]
  },
  {
   "cell_type": "code",
   "execution_count": 23,
   "metadata": {
    "cell_id": "a7f1dc55-5f6c-4296-ae32-eba6f628d762",
    "deepnote_cell_type": "code",
    "tags": []
   },
   "outputs": [],
   "source": [
    "# ML MODEL"
   ]
  },
  {
   "cell_type": "code",
   "execution_count": 24,
   "metadata": {
    "cell_id": "7b0bacb5-4d58-4031-b3b4-3b7dc5b282d2",
    "deepnote_cell_type": "code",
    "deepnote_to_be_reexecuted": false,
    "execution_millis": 5,
    "execution_start": 1642756222100,
    "source_hash": "13ea9eb1",
    "tags": []
   },
   "outputs": [],
   "source": [
    "from tensorflow.keras.layers import Dense , Dropout , LSTM\n",
    "from tensorflow.keras.models import Sequential"
   ]
  },
  {
   "cell_type": "code",
   "execution_count": 25,
   "metadata": {
    "cell_id": "9cb94bba-1558-42c4-bf14-f178435bd530",
    "deepnote_cell_type": "code",
    "deepnote_to_be_reexecuted": false,
    "execution_millis": 650,
    "execution_start": 1642757026807,
    "source_hash": "5dd03099",
    "tags": []
   },
   "outputs": [],
   "source": [
    "model = Sequential()\n",
    "model.add(LSTM(units = 50, activation = 'relu' , return_sequences = True,\n",
    "              input_shape = (x_train.shape[1], 1 )))\n",
    "model.add(Dropout(0.2))\n",
    "\n",
    "\n",
    "model.add(LSTM(units = 60, activation = 'relu' , return_sequences = True))\n",
    "model.add(Dropout(0.3))\n",
    "\n",
    "\n",
    "\n",
    "\n",
    "model.add(LSTM(units = 80, activation = 'relu' , return_sequences = True))\n",
    "model.add(Dropout(0.4))\n",
    "\n",
    "\n",
    "\n",
    "model.add(LSTM(units = 120, activation = 'relu'))\n",
    "model.add(Dropout(0.5))\n",
    "\n",
    "model.add(Dense(units = 1))\n"
   ]
  },
  {
   "cell_type": "code",
   "execution_count": 26,
   "metadata": {
    "cell_id": "8a551fb2-7cd2-4b9d-90a7-4360fdedc79a",
    "deepnote_cell_type": "code",
    "deepnote_to_be_reexecuted": false,
    "execution_millis": 4,
    "execution_start": 1642757044126,
    "source_hash": "4e6a3b95",
    "tags": []
   },
   "outputs": [
    {
     "name": "stdout",
     "output_type": "stream",
     "text": [
      "Model: \"sequential\"\n",
      "_________________________________________________________________\n",
      " Layer (type)                Output Shape              Param #   \n",
      "=================================================================\n",
      " lstm (LSTM)                 (None, 100, 50)           10400     \n",
      "                                                                 \n",
      " dropout (Dropout)           (None, 100, 50)           0         \n",
      "                                                                 \n",
      " lstm_1 (LSTM)               (None, 100, 60)           26640     \n",
      "                                                                 \n",
      " dropout_1 (Dropout)         (None, 100, 60)           0         \n",
      "                                                                 \n",
      " lstm_2 (LSTM)               (None, 100, 80)           45120     \n",
      "                                                                 \n",
      " dropout_2 (Dropout)         (None, 100, 80)           0         \n",
      "                                                                 \n",
      " lstm_3 (LSTM)               (None, 120)               96480     \n",
      "                                                                 \n",
      " dropout_3 (Dropout)         (None, 120)               0         \n",
      "                                                                 \n",
      " dense (Dense)               (None, 1)                 121       \n",
      "                                                                 \n",
      "=================================================================\n",
      "Total params: 178,761\n",
      "Trainable params: 178,761\n",
      "Non-trainable params: 0\n",
      "_________________________________________________________________\n"
     ]
    }
   ],
   "source": [
    "model.summary()"
   ]
  },
  {
   "cell_type": "code",
   "execution_count": 27,
   "metadata": {
    "cell_id": "b3852aa3-d1cf-40db-9932-16c40afe0bd8",
    "deepnote_cell_type": "code",
    "deepnote_output_heights": [
     null,
     51.1875
    ],
    "deepnote_to_be_reexecuted": false,
    "execution_millis": 1401465,
    "execution_start": 1642757617048,
    "source_hash": "1cacd655",
    "tags": []
   },
   "outputs": [
    {
     "name": "stdout",
     "output_type": "stream",
     "text": [
      "Epoch 1/50\n",
      "93/93 [==============================] - 20s 137ms/step - loss: 0.0246\n",
      "Epoch 2/50\n",
      "93/93 [==============================] - 11s 120ms/step - loss: 0.0062\n",
      "Epoch 3/50\n",
      "93/93 [==============================] - 11s 120ms/step - loss: 0.0054\n",
      "Epoch 4/50\n",
      "93/93 [==============================] - 11s 120ms/step - loss: 0.0047\n",
      "Epoch 5/50\n",
      "93/93 [==============================] - 12s 128ms/step - loss: 0.0046\n",
      "Epoch 6/50\n",
      "93/93 [==============================] - 12s 126ms/step - loss: 0.0040\n",
      "Epoch 7/50\n",
      "93/93 [==============================] - 12s 131ms/step - loss: 0.0040\n",
      "Epoch 8/50\n",
      "93/93 [==============================] - 12s 128ms/step - loss: 0.0039\n",
      "Epoch 9/50\n",
      "93/93 [==============================] - 12s 127ms/step - loss: 0.0035\n",
      "Epoch 10/50\n",
      "93/93 [==============================] - 12s 126ms/step - loss: 0.0037\n",
      "Epoch 11/50\n",
      "93/93 [==============================] - 12s 127ms/step - loss: 0.0034\n",
      "Epoch 12/50\n",
      "93/93 [==============================] - 12s 126ms/step - loss: 0.0030\n",
      "Epoch 13/50\n",
      "93/93 [==============================] - 12s 126ms/step - loss: 0.0029\n",
      "Epoch 14/50\n",
      "93/93 [==============================] - 12s 127ms/step - loss: 0.0031\n",
      "Epoch 15/50\n",
      "93/93 [==============================] - 12s 127ms/step - loss: 0.0027\n",
      "Epoch 16/50\n",
      "93/93 [==============================] - 12s 127ms/step - loss: 0.0025\n",
      "Epoch 17/50\n",
      "93/93 [==============================] - 12s 132ms/step - loss: 0.0026\n",
      "Epoch 18/50\n",
      "93/93 [==============================] - 12s 127ms/step - loss: 0.0026\n",
      "Epoch 19/50\n",
      "93/93 [==============================] - 12s 128ms/step - loss: 0.0024\n",
      "Epoch 20/50\n",
      "93/93 [==============================] - 12s 128ms/step - loss: 0.0024\n",
      "Epoch 21/50\n",
      "93/93 [==============================] - 12s 130ms/step - loss: 0.0024\n",
      "Epoch 22/50\n",
      "93/93 [==============================] - 12s 129ms/step - loss: 0.0023\n",
      "Epoch 23/50\n",
      "93/93 [==============================] - 12s 127ms/step - loss: 0.0022\n",
      "Epoch 24/50\n",
      "93/93 [==============================] - 12s 127ms/step - loss: 0.0022\n",
      "Epoch 25/50\n",
      "93/93 [==============================] - 12s 127ms/step - loss: 0.0020\n",
      "Epoch 26/50\n",
      "93/93 [==============================] - 12s 126ms/step - loss: 0.0020\n",
      "Epoch 27/50\n",
      "93/93 [==============================] - 12s 131ms/step - loss: 0.0019\n",
      "Epoch 28/50\n",
      "93/93 [==============================] - 12s 127ms/step - loss: 0.0021\n",
      "Epoch 29/50\n",
      "93/93 [==============================] - 12s 127ms/step - loss: 0.0020\n",
      "Epoch 30/50\n",
      "93/93 [==============================] - 12s 127ms/step - loss: 0.0020\n",
      "Epoch 31/50\n",
      "93/93 [==============================] - 12s 129ms/step - loss: 0.0020\n",
      "Epoch 32/50\n",
      "93/93 [==============================] - 12s 127ms/step - loss: 0.0020\n",
      "Epoch 33/50\n",
      "93/93 [==============================] - 12s 127ms/step - loss: 0.0019\n",
      "Epoch 34/50\n",
      "93/93 [==============================] - 12s 128ms/step - loss: 0.0019\n",
      "Epoch 35/50\n",
      "93/93 [==============================] - 12s 128ms/step - loss: 0.0021\n",
      "Epoch 36/50\n",
      "93/93 [==============================] - 12s 127ms/step - loss: 0.0018\n",
      "Epoch 37/50\n",
      "93/93 [==============================] - 12s 131ms/step - loss: 0.0017\n",
      "Epoch 38/50\n",
      "93/93 [==============================] - 12s 127ms/step - loss: 0.0018\n",
      "Epoch 39/50\n",
      "93/93 [==============================] - 12s 128ms/step - loss: 0.0019\n",
      "Epoch 40/50\n",
      "93/93 [==============================] - 12s 128ms/step - loss: 0.0018\n",
      "Epoch 41/50\n",
      "93/93 [==============================] - 12s 128ms/step - loss: 0.0017\n",
      "Epoch 42/50\n",
      "93/93 [==============================] - 12s 127ms/step - loss: 0.0020\n",
      "Epoch 43/50\n",
      "93/93 [==============================] - 12s 128ms/step - loss: 0.0018\n",
      "Epoch 44/50\n",
      "93/93 [==============================] - 12s 127ms/step - loss: 0.0017\n",
      "Epoch 45/50\n",
      "93/93 [==============================] - 12s 127ms/step - loss: 0.0017\n",
      "Epoch 46/50\n",
      "93/93 [==============================] - 12s 127ms/step - loss: 0.0019\n",
      "Epoch 47/50\n",
      "93/93 [==============================] - 12s 132ms/step - loss: 0.0018\n",
      "Epoch 48/50\n",
      "93/93 [==============================] - 12s 127ms/step - loss: 0.0019\n",
      "Epoch 49/50\n",
      "93/93 [==============================] - 12s 129ms/step - loss: 0.0017\n",
      "Epoch 50/50\n",
      "93/93 [==============================] - 12s 127ms/step - loss: 0.0017\n"
     ]
    },
    {
     "data": {
      "text/plain": [
       "<keras.callbacks.History at 0x2e0d32dddf0>"
      ]
     },
     "execution_count": 27,
     "metadata": {},
     "output_type": "execute_result"
    }
   ],
   "source": [
    "model.compile(optimizer ='adam', loss = 'mean_squared_error')\n",
    "model.fit(x_train, y_train, epochs=50)"
   ]
  },
  {
   "cell_type": "code",
   "execution_count": 28,
   "metadata": {
    "cell_id": "3beb1ecc-ae70-4057-ba82-1cfd9c594cab",
    "deepnote_cell_type": "code",
    "deepnote_to_be_reexecuted": false,
    "execution_millis": 6782,
    "execution_start": 1642759126102,
    "source_hash": "51f4b7ce",
    "tags": []
   },
   "outputs": [],
   "source": [
    "model.save('keras_model.h5')"
   ]
  },
  {
   "cell_type": "code",
   "execution_count": 29,
   "metadata": {
    "cell_id": "30c0a404-3449-40c4-9e87-7c68dbd91317",
    "deepnote_cell_type": "code",
    "deepnote_output_heights": [
     207
    ],
    "deepnote_to_be_reexecuted": false,
    "execution_millis": 16,
    "execution_start": 1642759164674,
    "source_hash": "e992d44e",
    "tags": []
   },
   "outputs": [
    {
     "data": {
      "text/html": [
       "<div>\n",
       "<style scoped>\n",
       "    .dataframe tbody tr th:only-of-type {\n",
       "        vertical-align: middle;\n",
       "    }\n",
       "\n",
       "    .dataframe tbody tr th {\n",
       "        vertical-align: top;\n",
       "    }\n",
       "\n",
       "    .dataframe thead th {\n",
       "        text-align: right;\n",
       "    }\n",
       "</style>\n",
       "<table border=\"1\" class=\"dataframe\">\n",
       "  <thead>\n",
       "    <tr style=\"text-align: right;\">\n",
       "      <th></th>\n",
       "      <th>Close</th>\n",
       "    </tr>\n",
       "  </thead>\n",
       "  <tbody>\n",
       "    <tr>\n",
       "      <th>3070</th>\n",
       "      <td>795.349976</td>\n",
       "    </tr>\n",
       "    <tr>\n",
       "      <th>3071</th>\n",
       "      <td>795.369995</td>\n",
       "    </tr>\n",
       "    <tr>\n",
       "      <th>3072</th>\n",
       "      <td>784.539978</td>\n",
       "    </tr>\n",
       "    <tr>\n",
       "      <th>3073</th>\n",
       "      <td>783.609985</td>\n",
       "    </tr>\n",
       "    <tr>\n",
       "      <th>3074</th>\n",
       "      <td>768.700012</td>\n",
       "    </tr>\n",
       "  </tbody>\n",
       "</table>\n",
       "</div>"
      ],
      "text/plain": [
       "           Close\n",
       "3070  795.349976\n",
       "3071  795.369995\n",
       "3072  784.539978\n",
       "3073  783.609985\n",
       "3074  768.700012"
      ]
     },
     "execution_count": 29,
     "metadata": {},
     "output_type": "execute_result"
    }
   ],
   "source": [
    "data_testing.head()"
   ]
  },
  {
   "cell_type": "code",
   "execution_count": 30,
   "metadata": {
    "cell_id": "b1915f06-4979-41ab-95eb-84477dece938",
    "deepnote_cell_type": "code",
    "deepnote_output_heights": [
     412.1875
    ],
    "deepnote_to_be_reexecuted": false,
    "execution_millis": 160,
    "execution_start": 1642759288004,
    "source_hash": "6b63a0a",
    "tags": []
   },
   "outputs": [
    {
     "data": {
      "text/html": [
       "<div>\n",
       "<style scoped>\n",
       "    .dataframe tbody tr th:only-of-type {\n",
       "        vertical-align: middle;\n",
       "    }\n",
       "\n",
       "    .dataframe tbody tr th {\n",
       "        vertical-align: top;\n",
       "    }\n",
       "\n",
       "    .dataframe thead th {\n",
       "        text-align: right;\n",
       "    }\n",
       "</style>\n",
       "<table border=\"1\" class=\"dataframe\">\n",
       "  <thead>\n",
       "    <tr style=\"text-align: right;\">\n",
       "      <th></th>\n",
       "      <th>Close</th>\n",
       "    </tr>\n",
       "  </thead>\n",
       "  <tbody>\n",
       "    <tr>\n",
       "      <th>2970</th>\n",
       "      <td>716.650024</td>\n",
       "    </tr>\n",
       "    <tr>\n",
       "      <th>2971</th>\n",
       "      <td>728.280029</td>\n",
       "    </tr>\n",
       "    <tr>\n",
       "      <th>2972</th>\n",
       "      <td>728.580017</td>\n",
       "    </tr>\n",
       "    <tr>\n",
       "      <th>2973</th>\n",
       "      <td>719.409973</td>\n",
       "    </tr>\n",
       "    <tr>\n",
       "      <th>2974</th>\n",
       "      <td>718.359985</td>\n",
       "    </tr>\n",
       "    <tr>\n",
       "      <th>...</th>\n",
       "      <td>...</td>\n",
       "    </tr>\n",
       "    <tr>\n",
       "      <th>3065</th>\n",
       "      <td>796.969971</td>\n",
       "    </tr>\n",
       "    <tr>\n",
       "      <th>3066</th>\n",
       "      <td>799.369995</td>\n",
       "    </tr>\n",
       "    <tr>\n",
       "      <th>3067</th>\n",
       "      <td>813.109985</td>\n",
       "    </tr>\n",
       "    <tr>\n",
       "      <th>3068</th>\n",
       "      <td>807.669983</td>\n",
       "    </tr>\n",
       "    <tr>\n",
       "      <th>3069</th>\n",
       "      <td>799.070007</td>\n",
       "    </tr>\n",
       "  </tbody>\n",
       "</table>\n",
       "<p>100 rows × 1 columns</p>\n",
       "</div>"
      ],
      "text/plain": [
       "           Close\n",
       "2970  716.650024\n",
       "2971  728.280029\n",
       "2972  728.580017\n",
       "2973  719.409973\n",
       "2974  718.359985\n",
       "...          ...\n",
       "3065  796.969971\n",
       "3066  799.369995\n",
       "3067  813.109985\n",
       "3068  807.669983\n",
       "3069  799.070007\n",
       "\n",
       "[100 rows x 1 columns]"
      ]
     },
     "execution_count": 30,
     "metadata": {},
     "output_type": "execute_result"
    }
   ],
   "source": [
    "data_training.tail(100)"
   ]
  },
  {
   "cell_type": "code",
   "execution_count": 31,
   "metadata": {
    "cell_id": "18a58811-4d99-4312-9465-fa1853e7cf99",
    "deepnote_cell_type": "code",
    "deepnote_to_be_reexecuted": false,
    "execution_millis": 1,
    "execution_start": 1642759341083,
    "source_hash": "26572908",
    "tags": []
   },
   "outputs": [],
   "source": [
    "past_100_days = data_training.tail(100)"
   ]
  },
  {
   "cell_type": "code",
   "execution_count": 32,
   "metadata": {
    "cell_id": "9b0e6c2e-10f1-4602-9eb0-9114e61d4f10",
    "deepnote_cell_type": "code",
    "deepnote_to_be_reexecuted": false,
    "execution_millis": 1,
    "execution_start": 1642759536199,
    "source_hash": "312c6196",
    "tags": []
   },
   "outputs": [],
   "source": [
    "final_df = past_100_days.append(data_testing, ignore_index=True)"
   ]
  },
  {
   "cell_type": "code",
   "execution_count": 33,
   "metadata": {
    "cell_id": "217912db-0db4-4fd0-b4ec-599a8f4fa458",
    "deepnote_cell_type": "code",
    "deepnote_output_heights": [
     207
    ],
    "deepnote_to_be_reexecuted": false,
    "execution_millis": 112,
    "execution_start": 1642759546529,
    "source_hash": "66ad094a",
    "tags": []
   },
   "outputs": [
    {
     "data": {
      "text/html": [
       "<div>\n",
       "<style scoped>\n",
       "    .dataframe tbody tr th:only-of-type {\n",
       "        vertical-align: middle;\n",
       "    }\n",
       "\n",
       "    .dataframe tbody tr th {\n",
       "        vertical-align: top;\n",
       "    }\n",
       "\n",
       "    .dataframe thead th {\n",
       "        text-align: right;\n",
       "    }\n",
       "</style>\n",
       "<table border=\"1\" class=\"dataframe\">\n",
       "  <thead>\n",
       "    <tr style=\"text-align: right;\">\n",
       "      <th></th>\n",
       "      <th>Close</th>\n",
       "    </tr>\n",
       "  </thead>\n",
       "  <tbody>\n",
       "    <tr>\n",
       "      <th>0</th>\n",
       "      <td>716.650024</td>\n",
       "    </tr>\n",
       "    <tr>\n",
       "      <th>1</th>\n",
       "      <td>728.280029</td>\n",
       "    </tr>\n",
       "    <tr>\n",
       "      <th>2</th>\n",
       "      <td>728.580017</td>\n",
       "    </tr>\n",
       "    <tr>\n",
       "      <th>3</th>\n",
       "      <td>719.409973</td>\n",
       "    </tr>\n",
       "    <tr>\n",
       "      <th>4</th>\n",
       "      <td>718.359985</td>\n",
       "    </tr>\n",
       "  </tbody>\n",
       "</table>\n",
       "</div>"
      ],
      "text/plain": [
       "        Close\n",
       "0  716.650024\n",
       "1  728.280029\n",
       "2  728.580017\n",
       "3  719.409973\n",
       "4  718.359985"
      ]
     },
     "execution_count": 33,
     "metadata": {},
     "output_type": "execute_result"
    }
   ],
   "source": [
    "final_df.head()"
   ]
  },
  {
   "cell_type": "code",
   "execution_count": 34,
   "metadata": {
    "cell_id": "5ada6423-acf6-4b06-8430-b71b1dddfdb8",
    "deepnote_cell_type": "code",
    "deepnote_output_heights": [
     166.390625
    ],
    "deepnote_to_be_reexecuted": false,
    "execution_millis": 54,
    "execution_start": 1642759647762,
    "source_hash": "ec8426ea",
    "tags": []
   },
   "outputs": [
    {
     "data": {
      "text/plain": [
       "array([[0.02062731],\n",
       "       [0.02558485],\n",
       "       [0.02571273],\n",
       "       ...,\n",
       "       [0.87707599],\n",
       "       [0.87163249],\n",
       "       [0.85334109]])"
      ]
     },
     "execution_count": 34,
     "metadata": {},
     "output_type": "execute_result"
    }
   ],
   "source": [
    "input_data = scaler.fit_transform(final_df)\n",
    "input_data"
   ]
  },
  {
   "cell_type": "code",
   "execution_count": 35,
   "metadata": {
    "cell_id": "05a6005d-e39c-4abb-b263-3ac4c5b6bbcd",
    "deepnote_cell_type": "code",
    "deepnote_output_heights": [
     51.1875
    ],
    "deepnote_to_be_reexecuted": false,
    "execution_millis": 0,
    "execution_start": 1642759689279,
    "source_hash": "6f3623da",
    "tags": []
   },
   "outputs": [
    {
     "data": {
      "text/plain": [
       "(1417, 1)"
      ]
     },
     "execution_count": 35,
     "metadata": {},
     "output_type": "execute_result"
    }
   ],
   "source": [
    "input_data.shape"
   ]
  },
  {
   "cell_type": "code",
   "execution_count": 36,
   "metadata": {
    "cell_id": "caafce8a-c22d-4284-a571-4ff7dd1804db",
    "deepnote_cell_type": "code",
    "deepnote_to_be_reexecuted": false,
    "execution_millis": 0,
    "execution_start": 1642760088016,
    "source_hash": "59ae5bd5",
    "tags": []
   },
   "outputs": [],
   "source": [
    "x_test = []\n",
    "y_test = []\n",
    "\n",
    "for i in range (100, input_data.shape[0]):\n",
    "    x_test.append(input_data[i-100: i])\n",
    "    y_test.append(input_data[i, 0])\n",
    "\n"
   ]
  },
  {
   "cell_type": "code",
   "execution_count": 37,
   "metadata": {
    "cell_id": "ad46802c-70ea-4011-b044-e3a0d130b202",
    "deepnote_cell_type": "code",
    "deepnote_to_be_reexecuted": false,
    "execution_millis": 8,
    "execution_start": 1642760112277,
    "source_hash": "b8378ca4",
    "tags": []
   },
   "outputs": [
    {
     "name": "stdout",
     "output_type": "stream",
     "text": [
      "(1317, 100, 1)\n",
      "(1317,)\n"
     ]
    }
   ],
   "source": [
    "x_test, y_test = np.array(x_test), np.array(y_test)\n",
    "print(x_test.shape)\n",
    "print(y_test.shape)"
   ]
  },
  {
   "cell_type": "code",
   "execution_count": 38,
   "metadata": {
    "cell_id": "e5a167a3-16c9-46ed-a80f-4f7382f0ad2f",
    "deepnote_cell_type": "code",
    "tags": []
   },
   "outputs": [],
   "source": [
    "# Making predictions"
   ]
  },
  {
   "cell_type": "code",
   "execution_count": 39,
   "metadata": {
    "cell_id": "05127b68-87bf-487e-be33-95c5096bc82b",
    "deepnote_cell_type": "code",
    "deepnote_to_be_reexecuted": false,
    "execution_millis": 3206,
    "execution_start": 1642760243984,
    "source_hash": "5c027438",
    "tags": []
   },
   "outputs": [],
   "source": [
    "y_predicted = model.predict(x_test)"
   ]
  },
  {
   "cell_type": "code",
   "execution_count": 40,
   "metadata": {
    "cell_id": "679f1507-1c20-42b8-9389-8858b5cfe93c",
    "deepnote_cell_type": "code",
    "deepnote_output_heights": [
     51.1875
    ],
    "deepnote_to_be_reexecuted": false,
    "execution_millis": 2,
    "execution_start": 1642760278903,
    "source_hash": "b9fc1577",
    "tags": []
   },
   "outputs": [
    {
     "data": {
      "text/plain": [
       "(1317, 1)"
      ]
     },
     "execution_count": 40,
     "metadata": {},
     "output_type": "execute_result"
    }
   ],
   "source": [
    "y_predicted.shape"
   ]
  },
  {
   "cell_type": "code",
   "execution_count": 41,
   "metadata": {
    "cell_id": "ddab64d7-07e0-423c-8cb3-6588eef99604",
    "deepnote_cell_type": "code",
    "deepnote_output_heights": [
     70.390625
    ],
    "deepnote_to_be_reexecuted": false,
    "execution_millis": 11,
    "execution_start": 1642760290342,
    "source_hash": "d696aa0b",
    "tags": []
   },
   "outputs": [
    {
     "data": {
      "text/plain": [
       "array([0.0541749 , 0.05418343, 0.0495669 , ..., 0.87707599, 0.87163249,\n",
       "       0.85334109])"
      ]
     },
     "execution_count": 41,
     "metadata": {},
     "output_type": "execute_result"
    }
   ],
   "source": [
    "y_test"
   ]
  },
  {
   "cell_type": "code",
   "execution_count": 42,
   "metadata": {
    "cell_id": "88d77478-a5fe-4253-90b4-374afa172be1",
    "deepnote_cell_type": "code",
    "deepnote_output_heights": [
     166.390625
    ],
    "deepnote_to_be_reexecuted": false,
    "execution_millis": 8,
    "execution_start": 1642760346473,
    "source_hash": "8e2d1737",
    "tags": []
   },
   "outputs": [
    {
     "data": {
      "text/plain": [
       "array([[0.16410272],\n",
       "       [0.16469893],\n",
       "       [0.16519465],\n",
       "       ...,\n",
       "       [0.8367473 ],\n",
       "       [0.8331908 ],\n",
       "       [0.8297007 ]], dtype=float32)"
      ]
     },
     "execution_count": 42,
     "metadata": {},
     "output_type": "execute_result"
    }
   ],
   "source": [
    "y_predicted"
   ]
  },
  {
   "cell_type": "code",
   "execution_count": 43,
   "metadata": {
    "cell_id": "56d34ead-44bc-4890-8914-05671b057431",
    "deepnote_cell_type": "code",
    "deepnote_output_heights": [
     51.1875
    ],
    "deepnote_to_be_reexecuted": false,
    "execution_millis": 2,
    "execution_start": 1642760396811,
    "source_hash": "f20b1021",
    "tags": []
   },
   "outputs": [
    {
     "data": {
      "text/plain": [
       "array([0.00042627])"
      ]
     },
     "execution_count": 43,
     "metadata": {},
     "output_type": "execute_result"
    }
   ],
   "source": [
    "scaler.scale_"
   ]
  },
  {
   "cell_type": "code",
   "execution_count": 44,
   "metadata": {
    "cell_id": "3a2e5748-6193-4470-8558-2b7e1d47336a",
    "deepnote_cell_type": "code",
    "deepnote_to_be_reexecuted": false,
    "execution_millis": 0,
    "execution_start": 1642760677761,
    "source_hash": "aa4a842e",
    "tags": []
   },
   "outputs": [],
   "source": [
    "scale_factor = 1/0.00042627\n",
    "y_predicted = y_predicted * scale_factor\n",
    "y_test = y_test * scale_factor"
   ]
  },
  {
   "cell_type": "code",
   "execution_count": 45,
   "metadata": {
    "cell_id": "a1aadb31-8eff-434e-90a9-760b0d7758b7",
    "deepnote_cell_type": "code",
    "deepnote_output_heights": [
     403
    ],
    "deepnote_to_be_reexecuted": false,
    "execution_millis": 220,
    "execution_start": 1642761076233,
    "source_hash": "f4321383",
    "tags": []
   },
   "outputs": [
    {
     "data": {
      "image/png": "[encoded data removed]",
      "text/plain": [
       "<Figure size 864x432 with 1 Axes>"
      ]
     },
     "metadata": {
      "needs_background": "light"
     },
     "output_type": "display_data"
    }
   ],
   "source": [
    "plt.figure(figsize=(12,6))\n",
    "plt.plot(y_test, 'b', label = 'Precio Original')\n",
    "plt.plot(y_predicted, 'r', label= 'Precio Predecido')\n",
    "plt.xlabel('Tiempo')\n",
    "plt.ylabel('Precio')\n",
    "plt.legend()\n",
    "plt.show()"
   ]
  },
  {
   "cell_type": "code",
   "execution_count": null,
   "metadata": {
    "cell_id": "a93240bf-e05d-4098-9db4-3cd3c1ce1844",
    "deepnote_cell_type": "code",
    "tags": []
   },
   "outputs": [],
   "source": []
  },
  {
   "cell_type": "markdown",
   "metadata": {
    "created_in_deepnote_cell": true,
    "deepnote_cell_type": "markdown",
    "tags": []
   },
   "source": [
    "<a style='text-decoration:none;line-height:16px;display:flex;color:#5B5B62;padding:10px;justify-content:end;' href='https://deepnote.com?utm_source=created-in-deepnote-cell&projectId=385a31e8-cb86-4594-b703-7bc4e84e8efb' target=\"_blank\">\n",
    "<img alt='Created in deepnote.com' style='display:inline;max-height:16px;margin:0px;margin-right:7.5px;' src='data:image/svg+xml;base64,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' > </img>\n",
    "Created in <span style='font-weight:600;margin-left:4px;'>Deepnote</span></a>"
   ]
  }
 ],
 "metadata": {
  "deepnote": {
   "is_reactive": false
  },
  "deepnote_execution_queue": [],
  "deepnote_notebook_id": "e0e4f24a-2af8-49f0-a778-faba20f70eee",
  "kernelspec": {
   "display_name": "Python 3",
   "language": "python",
   "name": "python3"
  },
  "language_info": {
   "codemirror_mode": {
    "name": "ipython",
    "version": 3
   },
   "file_extension": ".py",
   "mimetype": "text/x-python",
   "name": "python",
   "nbconvert_exporter": "python",
   "pygments_lexer": "ipython3",
   "version": "3.8.8"
  }
 },
 "nbformat": 4,
 "nbformat_minor": 2
}
