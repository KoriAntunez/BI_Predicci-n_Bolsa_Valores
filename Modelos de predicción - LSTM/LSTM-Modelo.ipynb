{
 "cells": [
  {
   "cell_type": "code",
   "source": "!pip install pandas_datareader==0.10.0",
   "metadata": {
    "cell_id": "5711edeb-531a-4cab-9237-3f165fe0c7c1",
    "tags": [],
    "deepnote_to_be_reexecuted": false,
    "source_hash": "74f06fe8",
    "execution_start": 1643459740069,
    "execution_millis": 6531,
    "deepnote_cell_type": "code"
   },
   "outputs": [
    {
     "name": "stdout",
     "text": "Collecting pandas_datareader==0.10.0\n  Downloading pandas_datareader-0.10.0-py3-none-any.whl (109 kB)\n\u001b[K     |████████████████████████████████| 109 kB 20.7 MB/s \n\u001b[?25hRequirement already satisfied: pandas>=0.23 in /shared-libs/python3.7/py/lib/python3.7/site-packages (from pandas_datareader==0.10.0) (1.2.5)\nRequirement already satisfied: lxml in /shared-libs/python3.7/py/lib/python3.7/site-packages (from pandas_datareader==0.10.0) (4.7.1)\nRequirement already satisfied: requests>=2.19.0 in /shared-libs/python3.7/py/lib/python3.7/site-packages (from pandas_datareader==0.10.0) (2.26.0)\nRequirement already satisfied: pytz>=2017.3 in /shared-libs/python3.7/py/lib/python3.7/site-packages (from pandas>=0.23->pandas_datareader==0.10.0) (2021.3)\nRequirement already satisfied: numpy>=1.16.5 in /shared-libs/python3.7/py/lib/python3.7/site-packages (from pandas>=0.23->pandas_datareader==0.10.0) (1.19.5)\nRequirement already satisfied: python-dateutil>=2.7.3 in /shared-libs/python3.7/py-core/lib/python3.7/site-packages (from pandas>=0.23->pandas_datareader==0.10.0) (2.8.2)\nRequirement already satisfied: charset-normalizer~=2.0.0; python_version >= \"3\" in /shared-libs/python3.7/py-core/lib/python3.7/site-packages (from requests>=2.19.0->pandas_datareader==0.10.0) (2.0.9)\nRequirement already satisfied: idna<4,>=2.5; python_version >= \"3\" in /shared-libs/python3.7/py-core/lib/python3.7/site-packages (from requests>=2.19.0->pandas_datareader==0.10.0) (3.3)\nRequirement already satisfied: certifi>=2017.4.17 in /shared-libs/python3.7/py/lib/python3.7/site-packages (from requests>=2.19.0->pandas_datareader==0.10.0) (2021.10.8)\nRequirement already satisfied: urllib3<1.27,>=1.21.1 in /shared-libs/python3.7/py/lib/python3.7/site-packages (from requests>=2.19.0->pandas_datareader==0.10.0) (1.26.7)\nRequirement already satisfied: six>=1.5 in /shared-libs/python3.7/py-core/lib/python3.7/site-packages (from python-dateutil>=2.7.3->pandas>=0.23->pandas_datareader==0.10.0) (1.16.0)\nInstalling collected packages: pandas-datareader\nSuccessfully installed pandas-datareader-0.10.0\n\u001b[33mWARNING: You are using pip version 20.1.1; however, version 21.3.1 is available.\nYou should consider upgrading via the '/root/venv/bin/python -m pip install --upgrade pip' command.\u001b[0m\n",
     "output_type": "stream"
    }
   ],
   "execution_count": 1
  },
  {
   "cell_type": "code",
   "source": "import numpy as np\nimport pandas as pd\nimport matplotlib.pyplot as plt\nimport pandas_datareader as data",
   "metadata": {
    "cell_id": "8e13f6ca-5782-4f13-9cd7-462590b2c4f4",
    "tags": [],
    "deepnote_to_be_reexecuted": false,
    "source_hash": "8af69cff",
    "execution_start": 1643459746605,
    "execution_millis": 3119,
    "deepnote_cell_type": "code"
   },
   "outputs": [],
   "execution_count": 2
  },
  {
   "cell_type": "code",
   "source": "start = '2004-08-18'\nend = 'today'   # se cambio esto '2022-01-20'\n\ndf = data.DataReader('GOOG', 'yahoo', start, end)\n\ndf.head()\n",
   "metadata": {
    "cell_id": "9dd4718a-22d2-456d-90b5-4d387846ce8d",
    "tags": [],
    "deepnote_to_be_reexecuted": false,
    "source_hash": "89ff2c3c",
    "execution_start": 1643459749734,
    "execution_millis": 876,
    "deepnote_output_heights": [
     1
    ],
    "deepnote_cell_type": "code"
   },
   "outputs": [
    {
     "output_type": "execute_result",
     "execution_count": 3,
     "data": {
      "application/vnd.deepnote.dataframe.v3+json": {
       "column_count": 6,
       "row_count": 5,
       "columns": [
        {
         "name": "High",
         "dtype": "float64",
         "stats": {
          "unique_count": 5,
          "nan_count": 0,
          "min": "51.83570861816406",
          "max": "56.52811813354492",
          "histogram": [
           {
            "bin_start": 51.83570861816406,
            "bin_end": 52.304949569702146,
            "count": 1
           },
           {
            "bin_start": 52.304949569702146,
            "bin_end": 52.774190521240236,
            "count": 0
           },
           {
            "bin_start": 52.774190521240236,
            "bin_end": 53.24343147277832,
            "count": 0
           },
           {
            "bin_start": 53.24343147277832,
            "bin_end": 53.71267242431641,
            "count": 0
           },
           {
            "bin_start": 53.71267242431641,
            "bin_end": 54.18191337585449,
            "count": 1
           },
           {
            "bin_start": 54.18191337585449,
            "bin_end": 54.651154327392575,
            "count": 1
           },
           {
            "bin_start": 54.651154327392575,
            "bin_end": 55.120395278930665,
            "count": 0
           },
           {
            "bin_start": 55.120395278930665,
            "bin_end": 55.58963623046875,
            "count": 0
           },
           {
            "bin_start": 55.58963623046875,
            "bin_end": 56.05887718200684,
            "count": 1
           },
           {
            "bin_start": 56.05887718200684,
            "bin_end": 56.52811813354492,
            "count": 1
           }
          ]
         }
        },
        {
         "name": "Low",
         "dtype": "float64",
         "stats": {
          "unique_count": 5,
          "nan_count": 0,
          "min": "47.80083084106445",
          "max": "54.321388244628906",
          "histogram": [
           {
            "bin_start": 47.80083084106445,
            "bin_end": 48.4528865814209,
            "count": 1
           },
           {
            "bin_start": 48.4528865814209,
            "bin_end": 49.104942321777344,
            "count": 0
           },
           {
            "bin_start": 49.104942321777344,
            "bin_end": 49.75699806213379,
            "count": 0
           },
           {
            "bin_start": 49.75699806213379,
            "bin_end": 50.409053802490234,
            "count": 1
           },
           {
            "bin_start": 50.409053802490234,
            "bin_end": 51.06110954284668,
            "count": 0
           },
           {
            "bin_start": 51.06110954284668,
            "bin_end": 51.713165283203125,
            "count": 1
           },
           {
            "bin_start": 51.713165283203125,
            "bin_end": 52.36522102355957,
            "count": 1
           },
           {
            "bin_start": 52.36522102355957,
            "bin_end": 53.017276763916016,
            "count": 0
           },
           {
            "bin_start": 53.017276763916016,
            "bin_end": 53.66933250427246,
            "count": 0
           },
           {
            "bin_start": 53.66933250427246,
            "bin_end": 54.321388244628906,
            "count": 1
           }
          ]
         }
        },
        {
         "name": "Open",
         "dtype": "float64",
         "stats": {
          "unique_count": 5,
          "nan_count": 0,
          "min": "49.813289642333984",
          "max": "55.41230010986328",
          "histogram": [
           {
            "bin_start": 49.813289642333984,
            "bin_end": 50.37319068908691,
            "count": 2
           },
           {
            "bin_start": 50.37319068908691,
            "bin_end": 50.933091735839845,
            "count": 0
           },
           {
            "bin_start": 50.933091735839845,
            "bin_end": 51.49299278259277,
            "count": 0
           },
           {
            "bin_start": 51.49299278259277,
            "bin_end": 52.052893829345706,
            "count": 0
           },
           {
            "bin_start": 52.052893829345706,
            "bin_end": 52.61279487609863,
            "count": 1
           },
           {
            "bin_start": 52.61279487609863,
            "bin_end": 53.17269592285156,
            "count": 0
           },
           {
            "bin_start": 53.17269592285156,
            "bin_end": 53.732596969604494,
            "count": 0
           },
           {
            "bin_start": 53.732596969604494,
            "bin_end": 54.29249801635742,
            "count": 0
           },
           {
            "bin_start": 54.29249801635742,
            "bin_end": 54.852399063110354,
            "count": 0
           },
           {
            "bin_start": 54.852399063110354,
            "bin_end": 55.41230010986328,
            "count": 2
           }
          ]
         }
        },
        {
         "name": "Close",
         "dtype": "float64",
         "stats": {
          "unique_count": 5,
          "nan_count": 0,
          "min": "49.9826545715332",
          "max": "54.49573516845703",
          "histogram": [
           {
            "bin_start": 49.9826545715332,
            "bin_end": 50.43396263122558,
            "count": 1
           },
           {
            "bin_start": 50.43396263122558,
            "bin_end": 50.88527069091797,
            "count": 0
           },
           {
            "bin_start": 50.88527069091797,
            "bin_end": 51.33657875061035,
            "count": 0
           },
           {
            "bin_start": 51.33657875061035,
            "bin_end": 51.78788681030274,
            "count": 0
           },
           {
            "bin_start": 51.78788681030274,
            "bin_end": 52.23919486999512,
            "count": 0
           },
           {
            "bin_start": 52.23919486999512,
            "bin_end": 52.6905029296875,
            "count": 1
           },
           {
            "bin_start": 52.6905029296875,
            "bin_end": 53.141810989379884,
            "count": 1
           },
           {
            "bin_start": 53.141810989379884,
            "bin_end": 53.593119049072264,
            "count": 0
           },
           {
            "bin_start": 53.593119049072264,
            "bin_end": 54.04442710876465,
            "count": 1
           },
           {
            "bin_start": 54.04442710876465,
            "bin_end": 54.49573516845703,
            "count": 1
           }
          ]
         }
        },
        {
         "name": "Volume",
         "dtype": "float64",
         "stats": {
          "unique_count": 5,
          "nan_count": 0,
          "min": "9232276.0",
          "max": "44871361.0",
          "histogram": [
           {
            "bin_start": 9232276,
            "bin_end": 12796184.5,
            "count": 1
           },
           {
            "bin_start": 12796184.5,
            "bin_end": 16360093,
            "count": 1
           },
           {
            "bin_start": 16360093,
            "bin_end": 19924001.5,
            "count": 1
           },
           {
            "bin_start": 19924001.5,
            "bin_end": 23487910,
            "count": 1
           },
           {
            "bin_start": 23487910,
            "bin_end": 27051818.5,
            "count": 0
           },
           {
            "bin_start": 27051818.5,
            "bin_end": 30615727,
            "count": 0
           },
           {
            "bin_start": 30615727,
            "bin_end": 34179635.5,
            "count": 0
           },
           {
            "bin_start": 34179635.5,
            "bin_end": 37743544,
            "count": 0
           },
           {
            "bin_start": 37743544,
            "bin_end": 41307452.5,
            "count": 0
           },
           {
            "bin_start": 41307452.5,
            "bin_end": 44871361,
            "count": 1
           }
          ]
         }
        },
        {
         "name": "Adj Close",
         "dtype": "float64",
         "stats": {
          "unique_count": 5,
          "nan_count": 0,
          "min": "49.9826545715332",
          "max": "54.49573516845703",
          "histogram": [
           {
            "bin_start": 49.9826545715332,
            "bin_end": 50.43396263122558,
            "count": 1
           },
           {
            "bin_start": 50.43396263122558,
            "bin_end": 50.88527069091797,
            "count": 0
           },
           {
            "bin_start": 50.88527069091797,
            "bin_end": 51.33657875061035,
            "count": 0
           },
           {
            "bin_start": 51.33657875061035,
            "bin_end": 51.78788681030274,
            "count": 0
           },
           {
            "bin_start": 51.78788681030274,
            "bin_end": 52.23919486999512,
            "count": 0
           },
           {
            "bin_start": 52.23919486999512,
            "bin_end": 52.6905029296875,
            "count": 1
           },
           {
            "bin_start": 52.6905029296875,
            "bin_end": 53.141810989379884,
            "count": 1
           },
           {
            "bin_start": 53.141810989379884,
            "bin_end": 53.593119049072264,
            "count": 0
           },
           {
            "bin_start": 53.593119049072264,
            "bin_end": 54.04442710876465,
            "count": 1
           },
           {
            "bin_start": 54.04442710876465,
            "bin_end": 54.49573516845703,
            "count": 1
           }
          ]
         }
        },
        {
         "name": "_deepnote_index_column",
         "dtype": "datetime64[ns]"
        }
       ],
       "rows": [
        {
         "High": 51.83570861816406,
         "Low": 47.80083084106445,
         "Open": 49.813289642333984,
         "Close": 49.9826545715332,
         "Volume": 44871361,
         "Adj Close": 49.9826545715332,
         "_deepnote_index_column": "2004-08-19T00:00:00.000000"
        },
        {
         "High": 54.336334228515625,
         "Low": 50.062355041503906,
         "Open": 50.316402435302734,
         "Close": 53.9527702331543,
         "Volume": 22942874,
         "Adj Close": 53.9527702331543,
         "_deepnote_index_column": "2004-08-20T00:00:00.000000"
        },
        {
         "High": 56.52811813354492,
         "Low": 54.321388244628906,
         "Open": 55.168216705322266,
         "Close": 54.49573516845703,
         "Volume": 18342897,
         "Adj Close": 54.49573516845703,
         "_deepnote_index_column": "2004-08-23T00:00:00.000000"
        },
        {
         "High": 55.59162902832031,
         "Low": 51.59162139892578,
         "Open": 55.41230010986328,
         "Close": 52.23919677734375,
         "Volume": 15319808,
         "Adj Close": 52.23919677734375,
         "_deepnote_index_column": "2004-08-24T00:00:00.000000"
        },
        {
         "High": 53.7983512878418,
         "Low": 51.74604415893555,
         "Open": 52.284027099609375,
         "Close": 52.802085876464844,
         "Volume": 9232276,
         "Adj Close": 52.802085876464844,
         "_deepnote_index_column": "2004-08-25T00:00:00.000000"
        }
       ]
      },
      "text/plain": "                 High        Low       Open      Close      Volume  Adj Close\nDate                                                                         \n2004-08-19  51.835709  47.800831  49.813290  49.982655  44871361.0  49.982655\n2004-08-20  54.336334  50.062355  50.316402  53.952770  22942874.0  53.952770\n2004-08-23  56.528118  54.321388  55.168217  54.495735  18342897.0  54.495735\n2004-08-24  55.591629  51.591621  55.412300  52.239197  15319808.0  52.239197\n2004-08-25  53.798351  51.746044  52.284027  52.802086   9232276.0  52.802086",
      "text/html": "<div>\n<style scoped>\n    .dataframe tbody tr th:only-of-type {\n        vertical-align: middle;\n    }\n\n    .dataframe tbody tr th {\n        vertical-align: top;\n    }\n\n    .dataframe thead th {\n        text-align: right;\n    }\n</style>\n<table border=\"1\" class=\"dataframe\">\n  <thead>\n    <tr style=\"text-align: right;\">\n      <th></th>\n      <th>High</th>\n      <th>Low</th>\n      <th>Open</th>\n      <th>Close</th>\n      <th>Volume</th>\n      <th>Adj Close</th>\n    </tr>\n    <tr>\n      <th>Date</th>\n      <th></th>\n      <th></th>\n      <th></th>\n      <th></th>\n      <th></th>\n      <th></th>\n    </tr>\n  </thead>\n  <tbody>\n    <tr>\n      <th>2004-08-19</th>\n      <td>51.835709</td>\n      <td>47.800831</td>\n      <td>49.813290</td>\n      <td>49.982655</td>\n      <td>44871361.0</td>\n      <td>49.982655</td>\n    </tr>\n    <tr>\n      <th>2004-08-20</th>\n      <td>54.336334</td>\n      <td>50.062355</td>\n      <td>50.316402</td>\n      <td>53.952770</td>\n      <td>22942874.0</td>\n      <td>53.952770</td>\n    </tr>\n    <tr>\n      <th>2004-08-23</th>\n      <td>56.528118</td>\n      <td>54.321388</td>\n      <td>55.168217</td>\n      <td>54.495735</td>\n      <td>18342897.0</td>\n      <td>54.495735</td>\n    </tr>\n    <tr>\n      <th>2004-08-24</th>\n      <td>55.591629</td>\n      <td>51.591621</td>\n      <td>55.412300</td>\n      <td>52.239197</td>\n      <td>15319808.0</td>\n      <td>52.239197</td>\n    </tr>\n    <tr>\n      <th>2004-08-25</th>\n      <td>53.798351</td>\n      <td>51.746044</td>\n      <td>52.284027</td>\n      <td>52.802086</td>\n      <td>9232276.0</td>\n      <td>52.802086</td>\n    </tr>\n  </tbody>\n</table>\n</div>"
     },
     "metadata": {}
    }
   ],
   "execution_count": 3
  },
  {
   "cell_type": "code",
   "source": "df.info()",
   "metadata": {
    "cell_id": "c0b85b9f-77ad-47ab-88e3-e90de8d7daff",
    "tags": [],
    "deepnote_to_be_reexecuted": false,
    "source_hash": "de1e323c",
    "execution_start": 1643459750545,
    "execution_millis": 11460903,
    "deepnote_cell_type": "code"
   },
   "outputs": [
    {
     "name": "stdout",
     "text": "<class 'pandas.core.frame.DataFrame'>\nDatetimeIndex: 4393 entries, 2004-08-19 to 2022-01-28\nData columns (total 6 columns):\n #   Column     Non-Null Count  Dtype  \n---  ------     --------------  -----  \n 0   High       4393 non-null   float64\n 1   Low        4393 non-null   float64\n 2   Open       4393 non-null   float64\n 3   Close      4393 non-null   float64\n 4   Volume     4393 non-null   float64\n 5   Adj Close  4393 non-null   float64\ndtypes: float64(6)\nmemory usage: 240.2 KB\n",
     "output_type": "stream"
    }
   ],
   "execution_count": 4
  },
  {
   "cell_type": "code",
   "source": "df.tail()",
   "metadata": {
    "cell_id": "ad282cde-fbd2-420a-a998-73abb79e1be5",
    "tags": [],
    "deepnote_to_be_reexecuted": false,
    "source_hash": "838c0c28",
    "execution_start": 1643459750563,
    "execution_millis": 51,
    "deepnote_cell_type": "code"
   },
   "outputs": [
    {
     "output_type": "execute_result",
     "execution_count": 5,
     "data": {
      "application/vnd.deepnote.dataframe.v3+json": {
       "column_count": 6,
       "row_count": 5,
       "columns": [
        {
         "name": "High",
         "dtype": "float64",
         "stats": {
          "unique_count": 5,
          "nan_count": 0,
          "min": "2586.77001953125",
          "max": "2667.409912109375",
          "histogram": [
           {
            "bin_start": 2586.77001953125,
            "bin_end": 2594.8340087890624,
            "count": 1
           },
           {
            "bin_start": 2594.8340087890624,
            "bin_end": 2602.897998046875,
            "count": 0
           },
           {
            "bin_start": 2602.897998046875,
            "bin_end": 2610.9619873046877,
            "count": 0
           },
           {
            "bin_start": 2610.9619873046877,
            "bin_end": 2619.0259765625,
            "count": 1
           },
           {
            "bin_start": 2619.0259765625,
            "bin_end": 2627.0899658203125,
            "count": 0
           },
           {
            "bin_start": 2627.0899658203125,
            "bin_end": 2635.153955078125,
            "count": 0
           },
           {
            "bin_start": 2635.153955078125,
            "bin_end": 2643.2179443359373,
            "count": 0
           },
           {
            "bin_start": 2643.2179443359373,
            "bin_end": 2651.28193359375,
            "count": 0
           },
           {
            "bin_start": 2651.28193359375,
            "bin_end": 2659.3459228515626,
            "count": 2
           },
           {
            "bin_start": 2659.3459228515626,
            "bin_end": 2667.409912109375,
            "count": 1
           }
          ]
         }
        },
        {
         "name": "Low",
         "dtype": "float64",
         "stats": {
          "unique_count": 5,
          "nan_count": 0,
          "min": "2492.839111328125",
          "max": "2578.89990234375",
          "histogram": [
           {
            "bin_start": 2492.839111328125,
            "bin_end": 2501.4451904296875,
            "count": 1
           },
           {
            "bin_start": 2501.4451904296875,
            "bin_end": 2510.05126953125,
            "count": 0
           },
           {
            "bin_start": 2510.05126953125,
            "bin_end": 2518.6573486328125,
            "count": 0
           },
           {
            "bin_start": 2518.6573486328125,
            "bin_end": 2527.263427734375,
            "count": 0
           },
           {
            "bin_start": 2527.263427734375,
            "bin_end": 2535.8695068359375,
            "count": 1
           },
           {
            "bin_start": 2535.8695068359375,
            "bin_end": 2544.4755859375,
            "count": 1
           },
           {
            "bin_start": 2544.4755859375,
            "bin_end": 2553.0816650390625,
            "count": 0
           },
           {
            "bin_start": 2553.0816650390625,
            "bin_end": 2561.687744140625,
            "count": 0
           },
           {
            "bin_start": 2561.687744140625,
            "bin_end": 2570.2938232421875,
            "count": 0
           },
           {
            "bin_start": 2570.2938232421875,
            "bin_end": 2578.89990234375,
            "count": 2
           }
          ]
         }
        },
        {
         "name": "Open",
         "dtype": "float64",
         "stats": {
          "unique_count": 5,
          "nan_count": 0,
          "min": "2520.550048828125",
          "max": "2627.219970703125",
          "histogram": [
           {
            "bin_start": 2520.550048828125,
            "bin_end": 2531.217041015625,
            "count": 1
           },
           {
            "bin_start": 2531.217041015625,
            "bin_end": 2541.884033203125,
            "count": 0
           },
           {
            "bin_start": 2541.884033203125,
            "bin_end": 2552.551025390625,
            "count": 0
           },
           {
            "bin_start": 2552.551025390625,
            "bin_end": 2563.218017578125,
            "count": 0
           },
           {
            "bin_start": 2563.218017578125,
            "bin_end": 2573.885009765625,
            "count": 1
           },
           {
            "bin_start": 2573.885009765625,
            "bin_end": 2584.552001953125,
            "count": 0
           },
           {
            "bin_start": 2584.552001953125,
            "bin_end": 2595.218994140625,
            "count": 0
           },
           {
            "bin_start": 2595.218994140625,
            "bin_end": 2605.885986328125,
            "count": 1
           },
           {
            "bin_start": 2605.885986328125,
            "bin_end": 2616.552978515625,
            "count": 1
           },
           {
            "bin_start": 2616.552978515625,
            "bin_end": 2627.219970703125,
            "count": 1
           }
          ]
         }
        },
        {
         "name": "Close",
         "dtype": "float64",
         "stats": {
          "unique_count": 5,
          "nan_count": 0,
          "min": "2534.7099609375",
          "max": "2665.7900390625",
          "histogram": [
           {
            "bin_start": 2534.7099609375,
            "bin_end": 2547.81796875,
            "count": 1
           },
           {
            "bin_start": 2547.81796875,
            "bin_end": 2560.9259765625,
            "count": 0
           },
           {
            "bin_start": 2560.9259765625,
            "bin_end": 2574.033984375,
            "count": 0
           },
           {
            "bin_start": 2574.033984375,
            "bin_end": 2587.1419921875,
            "count": 2
           },
           {
            "bin_start": 2587.1419921875,
            "bin_end": 2600.25,
            "count": 0
           },
           {
            "bin_start": 2600.25,
            "bin_end": 2613.3580078125,
            "count": 1
           },
           {
            "bin_start": 2613.3580078125,
            "bin_end": 2626.466015625,
            "count": 0
           },
           {
            "bin_start": 2626.466015625,
            "bin_end": 2639.5740234375,
            "count": 0
           },
           {
            "bin_start": 2639.5740234375,
            "bin_end": 2652.68203125,
            "count": 0
           },
           {
            "bin_start": 2652.68203125,
            "bin_end": 2665.7900390625,
            "count": 1
           }
          ]
         }
        },
        {
         "name": "Volume",
         "dtype": "float64",
         "stats": {
          "unique_count": 5,
          "nan_count": 0,
          "min": "1512400.0",
          "max": "2764600.0",
          "histogram": [
           {
            "bin_start": 1512400,
            "bin_end": 1637620,
            "count": 2
           },
           {
            "bin_start": 1637620,
            "bin_end": 1762840,
            "count": 0
           },
           {
            "bin_start": 1762840,
            "bin_end": 1888060,
            "count": 1
           },
           {
            "bin_start": 1888060,
            "bin_end": 2013280,
            "count": 1
           },
           {
            "bin_start": 2013280,
            "bin_end": 2138500,
            "count": 0
           },
           {
            "bin_start": 2138500,
            "bin_end": 2263720,
            "count": 0
           },
           {
            "bin_start": 2263720,
            "bin_end": 2388940,
            "count": 0
           },
           {
            "bin_start": 2388940,
            "bin_end": 2514160,
            "count": 0
           },
           {
            "bin_start": 2514160,
            "bin_end": 2639380,
            "count": 0
           },
           {
            "bin_start": 2639380,
            "bin_end": 2764600,
            "count": 1
           }
          ]
         }
        },
        {
         "name": "Adj Close",
         "dtype": "float64",
         "stats": {
          "unique_count": 5,
          "nan_count": 0,
          "min": "2534.7099609375",
          "max": "2665.7900390625",
          "histogram": [
           {
            "bin_start": 2534.7099609375,
            "bin_end": 2547.81796875,
            "count": 1
           },
           {
            "bin_start": 2547.81796875,
            "bin_end": 2560.9259765625,
            "count": 0
           },
           {
            "bin_start": 2560.9259765625,
            "bin_end": 2574.033984375,
            "count": 0
           },
           {
            "bin_start": 2574.033984375,
            "bin_end": 2587.1419921875,
            "count": 2
           },
           {
            "bin_start": 2587.1419921875,
            "bin_end": 2600.25,
            "count": 0
           },
           {
            "bin_start": 2600.25,
            "bin_end": 2613.3580078125,
            "count": 1
           },
           {
            "bin_start": 2613.3580078125,
            "bin_end": 2626.466015625,
            "count": 0
           },
           {
            "bin_start": 2626.466015625,
            "bin_end": 2639.5740234375,
            "count": 0
           },
           {
            "bin_start": 2639.5740234375,
            "bin_end": 2652.68203125,
            "count": 0
           },
           {
            "bin_start": 2652.68203125,
            "bin_end": 2665.7900390625,
            "count": 1
           }
          ]
         }
        },
        {
         "name": "_deepnote_index_column",
         "dtype": "datetime64[ns]"
        }
       ],
       "rows": [
        {
         "High": 2615.570068359375,
         "Low": 2492.839111328125,
         "Open": 2520.550048828125,
         "Close": 2607.43994140625,
         "Volume": 2764600,
         "Adj Close": 2607.43994140625,
         "_deepnote_index_column": "2022-01-24T00:00:00.000000"
        },
        {
         "High": 2586.77001953125,
         "Low": 2527.56005859375,
         "Open": 2568.7099609375,
         "Close": 2534.7099609375,
         "Volume": 1800400,
         "Adj Close": 2534.7099609375,
         "_deepnote_index_column": "2022-01-25T00:00:00.000000"
        },
        {
         "High": 2656.14990234375,
         "Low": 2543.070068359375,
         "Open": 2611.85009765625,
         "Close": 2584.800048828125,
         "Volume": 1979400,
         "Adj Close": 2584.800048828125,
         "_deepnote_index_column": "2022-01-26T00:00:00.000000"
        },
        {
         "High": 2652.198974609375,
         "Low": 2578.89990234375,
         "Open": 2627.219970703125,
         "Close": 2582.419921875,
         "Volume": 1512400,
         "Adj Close": 2582.419921875,
         "_deepnote_index_column": "2022-01-27T00:00:00.000000"
        },
        {
         "High": 2667.409912109375,
         "Low": 2573.889892578125,
         "Open": 2600,
         "Close": 2665.7900390625,
         "Volume": 1525878,
         "Adj Close": 2665.7900390625,
         "_deepnote_index_column": "2022-01-28T00:00:00.000000"
        }
       ]
      },
      "text/plain": "                   High          Low         Open        Close     Volume  \\\nDate                                                                        \n2022-01-24  2615.570068  2492.839111  2520.550049  2607.439941  2764600.0   \n2022-01-25  2586.770020  2527.560059  2568.709961  2534.709961  1800400.0   \n2022-01-26  2656.149902  2543.070068  2611.850098  2584.800049  1979400.0   \n2022-01-27  2652.198975  2578.899902  2627.219971  2582.419922  1512400.0   \n2022-01-28  2667.409912  2573.889893  2600.000000  2665.790039  1525878.0   \n\n              Adj Close  \nDate                     \n2022-01-24  2607.439941  \n2022-01-25  2534.709961  \n2022-01-26  2584.800049  \n2022-01-27  2582.419922  \n2022-01-28  2665.790039  ",
      "text/html": "<div>\n<style scoped>\n    .dataframe tbody tr th:only-of-type {\n        vertical-align: middle;\n    }\n\n    .dataframe tbody tr th {\n        vertical-align: top;\n    }\n\n    .dataframe thead th {\n        text-align: right;\n    }\n</style>\n<table border=\"1\" class=\"dataframe\">\n  <thead>\n    <tr style=\"text-align: right;\">\n      <th></th>\n      <th>High</th>\n      <th>Low</th>\n      <th>Open</th>\n      <th>Close</th>\n      <th>Volume</th>\n      <th>Adj Close</th>\n    </tr>\n    <tr>\n      <th>Date</th>\n      <th></th>\n      <th></th>\n      <th></th>\n      <th></th>\n      <th></th>\n      <th></th>\n    </tr>\n  </thead>\n  <tbody>\n    <tr>\n      <th>2022-01-24</th>\n      <td>2615.570068</td>\n      <td>2492.839111</td>\n      <td>2520.550049</td>\n      <td>2607.439941</td>\n      <td>2764600.0</td>\n      <td>2607.439941</td>\n    </tr>\n    <tr>\n      <th>2022-01-25</th>\n      <td>2586.770020</td>\n      <td>2527.560059</td>\n      <td>2568.709961</td>\n      <td>2534.709961</td>\n      <td>1800400.0</td>\n      <td>2534.709961</td>\n    </tr>\n    <tr>\n      <th>2022-01-26</th>\n      <td>2656.149902</td>\n      <td>2543.070068</td>\n      <td>2611.850098</td>\n      <td>2584.800049</td>\n      <td>1979400.0</td>\n      <td>2584.800049</td>\n    </tr>\n    <tr>\n      <th>2022-01-27</th>\n      <td>2652.198975</td>\n      <td>2578.899902</td>\n      <td>2627.219971</td>\n      <td>2582.419922</td>\n      <td>1512400.0</td>\n      <td>2582.419922</td>\n    </tr>\n    <tr>\n      <th>2022-01-28</th>\n      <td>2667.409912</td>\n      <td>2573.889893</td>\n      <td>2600.000000</td>\n      <td>2665.790039</td>\n      <td>1525878.0</td>\n      <td>2665.790039</td>\n    </tr>\n  </tbody>\n</table>\n</div>"
     },
     "metadata": {}
    }
   ],
   "execution_count": 5
  },
  {
   "cell_type": "code",
   "source": "#df = df.reset_index()\n#df.head()",
   "metadata": {
    "cell_id": "e76c3724-0a42-43ce-8a92-fea11acddcba",
    "tags": [],
    "deepnote_to_be_reexecuted": false,
    "source_hash": "b271521c",
    "execution_start": 1643459750615,
    "execution_millis": 2,
    "deepnote_cell_type": "code"
   },
   "outputs": [],
   "execution_count": 6
  },
  {
   "cell_type": "code",
   "source": "df = df.drop(['Adj Close'], axis=1)\ndf.head()",
   "metadata": {
    "cell_id": "aa06d60e-0677-4611-aa03-9fac5dac4809",
    "tags": [],
    "deepnote_to_be_reexecuted": false,
    "source_hash": "e15ebbb",
    "execution_start": 1643459750620,
    "execution_millis": 44,
    "deepnote_cell_type": "code"
   },
   "outputs": [
    {
     "output_type": "execute_result",
     "execution_count": 7,
     "data": {
      "application/vnd.deepnote.dataframe.v3+json": {
       "column_count": 5,
       "row_count": 5,
       "columns": [
        {
         "name": "High",
         "dtype": "float64",
         "stats": {
          "unique_count": 5,
          "nan_count": 0,
          "min": "51.83570861816406",
          "max": "56.52811813354492",
          "histogram": [
           {
            "bin_start": 51.83570861816406,
            "bin_end": 52.304949569702146,
            "count": 1
           },
           {
            "bin_start": 52.304949569702146,
            "bin_end": 52.774190521240236,
            "count": 0
           },
           {
            "bin_start": 52.774190521240236,
            "bin_end": 53.24343147277832,
            "count": 0
           },
           {
            "bin_start": 53.24343147277832,
            "bin_end": 53.71267242431641,
            "count": 0
           },
           {
            "bin_start": 53.71267242431641,
            "bin_end": 54.18191337585449,
            "count": 1
           },
           {
            "bin_start": 54.18191337585449,
            "bin_end": 54.651154327392575,
            "count": 1
           },
           {
            "bin_start": 54.651154327392575,
            "bin_end": 55.120395278930665,
            "count": 0
           },
           {
            "bin_start": 55.120395278930665,
            "bin_end": 55.58963623046875,
            "count": 0
           },
           {
            "bin_start": 55.58963623046875,
            "bin_end": 56.05887718200684,
            "count": 1
           },
           {
            "bin_start": 56.05887718200684,
            "bin_end": 56.52811813354492,
            "count": 1
           }
          ]
         }
        },
        {
         "name": "Low",
         "dtype": "float64",
         "stats": {
          "unique_count": 5,
          "nan_count": 0,
          "min": "47.80083084106445",
          "max": "54.321388244628906",
          "histogram": [
           {
            "bin_start": 47.80083084106445,
            "bin_end": 48.4528865814209,
            "count": 1
           },
           {
            "bin_start": 48.4528865814209,
            "bin_end": 49.104942321777344,
            "count": 0
           },
           {
            "bin_start": 49.104942321777344,
            "bin_end": 49.75699806213379,
            "count": 0
           },
           {
            "bin_start": 49.75699806213379,
            "bin_end": 50.409053802490234,
            "count": 1
           },
           {
            "bin_start": 50.409053802490234,
            "bin_end": 51.06110954284668,
            "count": 0
           },
           {
            "bin_start": 51.06110954284668,
            "bin_end": 51.713165283203125,
            "count": 1
           },
           {
            "bin_start": 51.713165283203125,
            "bin_end": 52.36522102355957,
            "count": 1
           },
           {
            "bin_start": 52.36522102355957,
            "bin_end": 53.017276763916016,
            "count": 0
           },
           {
            "bin_start": 53.017276763916016,
            "bin_end": 53.66933250427246,
            "count": 0
           },
           {
            "bin_start": 53.66933250427246,
            "bin_end": 54.321388244628906,
            "count": 1
           }
          ]
         }
        },
        {
         "name": "Open",
         "dtype": "float64",
         "stats": {
          "unique_count": 5,
          "nan_count": 0,
          "min": "49.813289642333984",
          "max": "55.41230010986328",
          "histogram": [
           {
            "bin_start": 49.813289642333984,
            "bin_end": 50.37319068908691,
            "count": 2
           },
           {
            "bin_start": 50.37319068908691,
            "bin_end": 50.933091735839845,
            "count": 0
           },
           {
            "bin_start": 50.933091735839845,
            "bin_end": 51.49299278259277,
            "count": 0
           },
           {
            "bin_start": 51.49299278259277,
            "bin_end": 52.052893829345706,
            "count": 0
           },
           {
            "bin_start": 52.052893829345706,
            "bin_end": 52.61279487609863,
            "count": 1
           },
           {
            "bin_start": 52.61279487609863,
            "bin_end": 53.17269592285156,
            "count": 0
           },
           {
            "bin_start": 53.17269592285156,
            "bin_end": 53.732596969604494,
            "count": 0
           },
           {
            "bin_start": 53.732596969604494,
            "bin_end": 54.29249801635742,
            "count": 0
           },
           {
            "bin_start": 54.29249801635742,
            "bin_end": 54.852399063110354,
            "count": 0
           },
           {
            "bin_start": 54.852399063110354,
            "bin_end": 55.41230010986328,
            "count": 2
           }
          ]
         }
        },
        {
         "name": "Close",
         "dtype": "float64",
         "stats": {
          "unique_count": 5,
          "nan_count": 0,
          "min": "49.9826545715332",
          "max": "54.49573516845703",
          "histogram": [
           {
            "bin_start": 49.9826545715332,
            "bin_end": 50.43396263122558,
            "count": 1
           },
           {
            "bin_start": 50.43396263122558,
            "bin_end": 50.88527069091797,
            "count": 0
           },
           {
            "bin_start": 50.88527069091797,
            "bin_end": 51.33657875061035,
            "count": 0
           },
           {
            "bin_start": 51.33657875061035,
            "bin_end": 51.78788681030274,
            "count": 0
           },
           {
            "bin_start": 51.78788681030274,
            "bin_end": 52.23919486999512,
            "count": 0
           },
           {
            "bin_start": 52.23919486999512,
            "bin_end": 52.6905029296875,
            "count": 1
           },
           {
            "bin_start": 52.6905029296875,
            "bin_end": 53.141810989379884,
            "count": 1
           },
           {
            "bin_start": 53.141810989379884,
            "bin_end": 53.593119049072264,
            "count": 0
           },
           {
            "bin_start": 53.593119049072264,
            "bin_end": 54.04442710876465,
            "count": 1
           },
           {
            "bin_start": 54.04442710876465,
            "bin_end": 54.49573516845703,
            "count": 1
           }
          ]
         }
        },
        {
         "name": "Volume",
         "dtype": "float64",
         "stats": {
          "unique_count": 5,
          "nan_count": 0,
          "min": "9232276.0",
          "max": "44871361.0",
          "histogram": [
           {
            "bin_start": 9232276,
            "bin_end": 12796184.5,
            "count": 1
           },
           {
            "bin_start": 12796184.5,
            "bin_end": 16360093,
            "count": 1
           },
           {
            "bin_start": 16360093,
            "bin_end": 19924001.5,
            "count": 1
           },
           {
            "bin_start": 19924001.5,
            "bin_end": 23487910,
            "count": 1
           },
           {
            "bin_start": 23487910,
            "bin_end": 27051818.5,
            "count": 0
           },
           {
            "bin_start": 27051818.5,
            "bin_end": 30615727,
            "count": 0
           },
           {
            "bin_start": 30615727,
            "bin_end": 34179635.5,
            "count": 0
           },
           {
            "bin_start": 34179635.5,
            "bin_end": 37743544,
            "count": 0
           },
           {
            "bin_start": 37743544,
            "bin_end": 41307452.5,
            "count": 0
           },
           {
            "bin_start": 41307452.5,
            "bin_end": 44871361,
            "count": 1
           }
          ]
         }
        },
        {
         "name": "_deepnote_index_column",
         "dtype": "datetime64[ns]"
        }
       ],
       "rows": [
        {
         "High": 51.83570861816406,
         "Low": 47.80083084106445,
         "Open": 49.813289642333984,
         "Close": 49.9826545715332,
         "Volume": 44871361,
         "_deepnote_index_column": "2004-08-19T00:00:00.000000"
        },
        {
         "High": 54.336334228515625,
         "Low": 50.062355041503906,
         "Open": 50.316402435302734,
         "Close": 53.9527702331543,
         "Volume": 22942874,
         "_deepnote_index_column": "2004-08-20T00:00:00.000000"
        },
        {
         "High": 56.52811813354492,
         "Low": 54.321388244628906,
         "Open": 55.168216705322266,
         "Close": 54.49573516845703,
         "Volume": 18342897,
         "_deepnote_index_column": "2004-08-23T00:00:00.000000"
        },
        {
         "High": 55.59162902832031,
         "Low": 51.59162139892578,
         "Open": 55.41230010986328,
         "Close": 52.23919677734375,
         "Volume": 15319808,
         "_deepnote_index_column": "2004-08-24T00:00:00.000000"
        },
        {
         "High": 53.7983512878418,
         "Low": 51.74604415893555,
         "Open": 52.284027099609375,
         "Close": 52.802085876464844,
         "Volume": 9232276,
         "_deepnote_index_column": "2004-08-25T00:00:00.000000"
        }
       ]
      },
      "text/plain": "                 High        Low       Open      Close      Volume\nDate                                                              \n2004-08-19  51.835709  47.800831  49.813290  49.982655  44871361.0\n2004-08-20  54.336334  50.062355  50.316402  53.952770  22942874.0\n2004-08-23  56.528118  54.321388  55.168217  54.495735  18342897.0\n2004-08-24  55.591629  51.591621  55.412300  52.239197  15319808.0\n2004-08-25  53.798351  51.746044  52.284027  52.802086   9232276.0",
      "text/html": "<div>\n<style scoped>\n    .dataframe tbody tr th:only-of-type {\n        vertical-align: middle;\n    }\n\n    .dataframe tbody tr th {\n        vertical-align: top;\n    }\n\n    .dataframe thead th {\n        text-align: right;\n    }\n</style>\n<table border=\"1\" class=\"dataframe\">\n  <thead>\n    <tr style=\"text-align: right;\">\n      <th></th>\n      <th>High</th>\n      <th>Low</th>\n      <th>Open</th>\n      <th>Close</th>\n      <th>Volume</th>\n    </tr>\n    <tr>\n      <th>Date</th>\n      <th></th>\n      <th></th>\n      <th></th>\n      <th></th>\n      <th></th>\n    </tr>\n  </thead>\n  <tbody>\n    <tr>\n      <th>2004-08-19</th>\n      <td>51.835709</td>\n      <td>47.800831</td>\n      <td>49.813290</td>\n      <td>49.982655</td>\n      <td>44871361.0</td>\n    </tr>\n    <tr>\n      <th>2004-08-20</th>\n      <td>54.336334</td>\n      <td>50.062355</td>\n      <td>50.316402</td>\n      <td>53.952770</td>\n      <td>22942874.0</td>\n    </tr>\n    <tr>\n      <th>2004-08-23</th>\n      <td>56.528118</td>\n      <td>54.321388</td>\n      <td>55.168217</td>\n      <td>54.495735</td>\n      <td>18342897.0</td>\n    </tr>\n    <tr>\n      <th>2004-08-24</th>\n      <td>55.591629</td>\n      <td>51.591621</td>\n      <td>55.412300</td>\n      <td>52.239197</td>\n      <td>15319808.0</td>\n    </tr>\n    <tr>\n      <th>2004-08-25</th>\n      <td>53.798351</td>\n      <td>51.746044</td>\n      <td>52.284027</td>\n      <td>52.802086</td>\n      <td>9232276.0</td>\n    </tr>\n  </tbody>\n</table>\n</div>"
     },
     "metadata": {}
    }
   ],
   "execution_count": 7
  },
  {
   "cell_type": "code",
   "source": "plt.plot(df.Close)",
   "metadata": {
    "cell_id": "78d36022-5b85-4899-b75e-72983f8b6170",
    "tags": [],
    "deepnote_to_be_reexecuted": false,
    "source_hash": "2888e588",
    "execution_start": 1643459750670,
    "execution_millis": 252,
    "deepnote_output_heights": [
     1,
     250
    ],
    "deepnote_cell_type": "code"
   },
   "outputs": [
    {
     "output_type": "execute_result",
     "execution_count": 8,
     "data": {
      "text/plain": "[<matplotlib.lines.Line2D at 0x7f7d5deb6490>]"
     },
     "metadata": {}
    },
    {
     "data": {
      "text/plain": "<Figure size 432x288 with 1 Axes>",
      "image/png": "[encoded data removed]"
     },
     "metadata": {
      "needs_background": "light",
      "image/png": {
       "width": 381,
       "height": 248
      }
     },
     "output_type": "display_data"
    }
   ],
   "execution_count": 8
  },
  {
   "cell_type": "code",
   "source": "df",
   "metadata": {
    "cell_id": "df97c3ab-5ee5-4b49-9b02-465bd9e3436a",
    "tags": [],
    "deepnote_to_be_reexecuted": false,
    "source_hash": "f804c160",
    "execution_start": 1643459750928,
    "execution_millis": 76,
    "deepnote_cell_type": "code"
   },
   "outputs": [
    {
     "output_type": "execute_result",
     "execution_count": 9,
     "data": {
      "application/vnd.deepnote.dataframe.v3+json": {
       "column_count": 5,
       "row_count": 4393,
       "columns": [
        {
         "name": "High",
         "dtype": "float64",
         "stats": {
          "unique_count": 4257,
          "nan_count": 0,
          "min": "50.68003845214844",
          "max": "3037.0",
          "histogram": [
           {
            "bin_start": 50.68003845214844,
            "bin_end": 349.3120346069336,
            "count": 2045
           },
           {
            "bin_start": 349.3120346069336,
            "bin_end": 647.9440307617188,
            "count": 744
           },
           {
            "bin_start": 647.9440307617188,
            "bin_end": 946.5760269165039,
            "count": 477
           },
           {
            "bin_start": 946.5760269165039,
            "bin_end": 1245.208023071289,
            "count": 549
           },
           {
            "bin_start": 1245.208023071289,
            "bin_end": 1543.8400192260742,
            "count": 224
           },
           {
            "bin_start": 1543.8400192260742,
            "bin_end": 1842.4720153808594,
            "count": 93
           },
           {
            "bin_start": 1842.4720153808594,
            "bin_end": 2141.1040115356445,
            "count": 50
           },
           {
            "bin_start": 2141.1040115356445,
            "bin_end": 2439.7360076904297,
            "count": 41
           },
           {
            "bin_start": 2439.7360076904297,
            "bin_end": 2738.368003845215,
            "count": 50
           },
           {
            "bin_start": 2738.368003845215,
            "bin_end": 3037,
            "count": 120
           }
          ]
         }
        },
        {
         "name": "Low",
         "dtype": "float64",
         "stats": {
          "unique_count": 4290,
          "nan_count": 0,
          "min": "47.80083084106445",
          "max": "2997.75",
          "histogram": [
           {
            "bin_start": 47.80083084106445,
            "bin_end": 342.795747756958,
            "count": 2048
           },
           {
            "bin_start": 342.795747756958,
            "bin_end": 637.7906646728516,
            "count": 745
           },
           {
            "bin_start": 637.7906646728516,
            "bin_end": 932.7855815887451,
            "count": 473
           },
           {
            "bin_start": 932.7855815887451,
            "bin_end": 1227.7804985046387,
            "count": 553
           },
           {
            "bin_start": 1227.7804985046387,
            "bin_end": 1522.7754154205322,
            "count": 228
           },
           {
            "bin_start": 1522.7754154205322,
            "bin_end": 1817.7703323364258,
            "count": 87
           },
           {
            "bin_start": 1817.7703323364258,
            "bin_end": 2112.7652492523193,
            "count": 50
           },
           {
            "bin_start": 2112.7652492523193,
            "bin_end": 2407.760166168213,
            "count": 42
           },
           {
            "bin_start": 2407.760166168213,
            "bin_end": 2702.7550830841064,
            "count": 54
           },
           {
            "bin_start": 2702.7550830841064,
            "bin_end": 2997.75,
            "count": 113
           }
          ]
         }
        },
        {
         "name": "Open",
         "dtype": "float64",
         "stats": {
          "unique_count": 4263,
          "nan_count": 0,
          "min": "49.4098014831543",
          "max": "3020.0",
          "histogram": [
           {
            "bin_start": 49.4098014831543,
            "bin_end": 346.4688213348389,
            "count": 2045
           },
           {
            "bin_start": 346.4688213348389,
            "bin_end": 643.5278411865235,
            "count": 747
           },
           {
            "bin_start": 643.5278411865235,
            "bin_end": 940.5868610382081,
            "count": 474
           },
           {
            "bin_start": 940.5868610382081,
            "bin_end": 1237.6458808898926,
            "count": 554
           },
           {
            "bin_start": 1237.6458808898926,
            "bin_end": 1534.7049007415771,
            "count": 224
           },
           {
            "bin_start": 1534.7049007415771,
            "bin_end": 1831.763920593262,
            "count": 90
           },
           {
            "bin_start": 1831.763920593262,
            "bin_end": 2128.822940444946,
            "count": 50
           },
           {
            "bin_start": 2128.822940444946,
            "bin_end": 2425.881960296631,
            "count": 42
           },
           {
            "bin_start": 2425.881960296631,
            "bin_end": 2722.9409801483157,
            "count": 53
           },
           {
            "bin_start": 2722.9409801483157,
            "bin_end": 3020,
            "count": 114
           }
          ]
         }
        },
        {
         "name": "Close",
         "dtype": "float64",
         "stats": {
          "unique_count": 4315,
          "nan_count": 0,
          "min": "49.818267822265625",
          "max": "3014.179931640625",
          "histogram": [
           {
            "bin_start": 49.818267822265625,
            "bin_end": 346.2544342041016,
            "count": 2045
           },
           {
            "bin_start": 346.2544342041016,
            "bin_end": 642.6906005859375,
            "count": 745
           },
           {
            "bin_start": 642.6906005859375,
            "bin_end": 939.1267669677735,
            "count": 470
           },
           {
            "bin_start": 939.1267669677735,
            "bin_end": 1235.5629333496095,
            "count": 555
           },
           {
            "bin_start": 1235.5629333496095,
            "bin_end": 1531.9990997314453,
            "count": 229
           },
           {
            "bin_start": 1531.9990997314453,
            "bin_end": 1828.4352661132814,
            "count": 89
           },
           {
            "bin_start": 1828.4352661132814,
            "bin_end": 2124.8714324951175,
            "count": 49
           },
           {
            "bin_start": 2124.8714324951175,
            "bin_end": 2421.3075988769533,
            "count": 42
           },
           {
            "bin_start": 2421.3075988769533,
            "bin_end": 2717.743765258789,
            "count": 49
           },
           {
            "bin_start": 2717.743765258789,
            "bin_end": 3014.179931640625,
            "count": 120
           }
          ]
         }
        },
        {
         "name": "Volume",
         "dtype": "float64",
         "stats": {
          "unique_count": 4291,
          "nan_count": 0,
          "min": "7922.0",
          "max": "82541631.0",
          "histogram": [
           {
            "bin_start": 7922,
            "bin_end": 8261292.9,
            "count": 3312
           },
           {
            "bin_start": 8261292.9,
            "bin_end": 16514663.8,
            "count": 711
           },
           {
            "bin_start": 16514663.8,
            "bin_end": 24768034.700000003,
            "count": 227
           },
           {
            "bin_start": 24768034.700000003,
            "bin_end": 33021405.6,
            "count": 74
           },
           {
            "bin_start": 33021405.6,
            "bin_end": 41274776.5,
            "count": 35
           },
           {
            "bin_start": 41274776.5,
            "bin_end": 49528147.400000006,
            "count": 20
           },
           {
            "bin_start": 49528147.400000006,
            "bin_end": 57781518.300000004,
            "count": 4
           },
           {
            "bin_start": 57781518.300000004,
            "bin_end": 66034889.2,
            "count": 3
           },
           {
            "bin_start": 66034889.2,
            "bin_end": 74288260.10000001,
            "count": 4
           },
           {
            "bin_start": 74288260.10000001,
            "bin_end": 82541631,
            "count": 3
           }
          ]
         }
        },
        {
         "name": "_deepnote_index_column",
         "dtype": "datetime64[ns]"
        }
       ],
       "rows": [
        {
         "High": 51.83570861816406,
         "Low": 47.80083084106445,
         "Open": 49.813289642333984,
         "Close": 49.9826545715332,
         "Volume": 44871361,
         "_deepnote_index_column": "2004-08-19T00:00:00.000000"
        },
        {
         "High": 54.336334228515625,
         "Low": 50.062355041503906,
         "Open": 50.316402435302734,
         "Close": 53.9527702331543,
         "Volume": 22942874,
         "_deepnote_index_column": "2004-08-20T00:00:00.000000"
        },
        {
         "High": 56.52811813354492,
         "Low": 54.321388244628906,
         "Open": 55.168216705322266,
         "Close": 54.49573516845703,
         "Volume": 18342897,
         "_deepnote_index_column": "2004-08-23T00:00:00.000000"
        },
        {
         "High": 55.59162902832031,
         "Low": 51.59162139892578,
         "Open": 55.41230010986328,
         "Close": 52.23919677734375,
         "Volume": 15319808,
         "_deepnote_index_column": "2004-08-24T00:00:00.000000"
        },
        {
         "High": 53.7983512878418,
         "Low": 51.74604415893555,
         "Open": 52.284027099609375,
         "Close": 52.802085876464844,
         "Volume": 9232276,
         "_deepnote_index_column": "2004-08-25T00:00:00.000000"
        },
        {
         "High": 53.77344512939453,
         "Low": 52.134586334228516,
         "Open": 52.27904510498047,
         "Close": 53.753517150878906,
         "Volume": 7128620,
         "_deepnote_index_column": "2004-08-26T00:00:00.000000"
        },
        {
         "High": 54.10719299316406,
         "Low": 52.64766311645508,
         "Open": 53.84816360473633,
         "Close": 52.87680435180664,
         "Volume": 6241307,
         "_deepnote_index_column": "2004-08-27T00:00:00.000000"
        },
        {
         "High": 52.548038482666016,
         "Low": 50.81453323364258,
         "Open": 52.44342803955078,
         "Close": 50.81453323364258,
         "Volume": 5221498,
         "_deepnote_index_column": "2004-08-30T00:00:00.000000"
        },
        {
         "High": 51.66136169433594,
         "Low": 50.88925552368164,
         "Open": 50.95899200439453,
         "Close": 50.99386215209961,
         "Volume": 4941252,
         "_deepnote_index_column": "2004-08-31T00:00:00.000000"
        },
        {
         "High": 51.29274368286133,
         "Low": 49.648902893066406,
         "Open": 51.15824508666992,
         "Close": 49.93782043457031,
         "Volume": 9181687,
         "_deepnote_index_column": "2004-09-01T00:00:00.000000"
        }
       ]
      },
      "text/plain": "                   High          Low         Open        Close      Volume\nDate                                                                      \n2004-08-19    51.835709    47.800831    49.813290    49.982655  44871361.0\n2004-08-20    54.336334    50.062355    50.316402    53.952770  22942874.0\n2004-08-23    56.528118    54.321388    55.168217    54.495735  18342897.0\n2004-08-24    55.591629    51.591621    55.412300    52.239197  15319808.0\n2004-08-25    53.798351    51.746044    52.284027    52.802086   9232276.0\n...                 ...          ...          ...          ...         ...\n2022-01-24  2615.570068  2492.839111  2520.550049  2607.439941   2764600.0\n2022-01-25  2586.770020  2527.560059  2568.709961  2534.709961   1800400.0\n2022-01-26  2656.149902  2543.070068  2611.850098  2584.800049   1979400.0\n2022-01-27  2652.198975  2578.899902  2627.219971  2582.419922   1512400.0\n2022-01-28  2667.409912  2573.889893  2600.000000  2665.790039   1525878.0\n\n[4393 rows x 5 columns]",
      "text/html": "<div>\n<style scoped>\n    .dataframe tbody tr th:only-of-type {\n        vertical-align: middle;\n    }\n\n    .dataframe tbody tr th {\n        vertical-align: top;\n    }\n\n    .dataframe thead th {\n        text-align: right;\n    }\n</style>\n<table border=\"1\" class=\"dataframe\">\n  <thead>\n    <tr style=\"text-align: right;\">\n      <th></th>\n      <th>High</th>\n      <th>Low</th>\n      <th>Open</th>\n      <th>Close</th>\n      <th>Volume</th>\n    </tr>\n    <tr>\n      <th>Date</th>\n      <th></th>\n      <th></th>\n      <th></th>\n      <th></th>\n      <th></th>\n    </tr>\n  </thead>\n  <tbody>\n    <tr>\n      <th>2004-08-19</th>\n      <td>51.835709</td>\n      <td>47.800831</td>\n      <td>49.813290</td>\n      <td>49.982655</td>\n      <td>44871361.0</td>\n    </tr>\n    <tr>\n      <th>2004-08-20</th>\n      <td>54.336334</td>\n      <td>50.062355</td>\n      <td>50.316402</td>\n      <td>53.952770</td>\n      <td>22942874.0</td>\n    </tr>\n    <tr>\n      <th>2004-08-23</th>\n      <td>56.528118</td>\n      <td>54.321388</td>\n      <td>55.168217</td>\n      <td>54.495735</td>\n      <td>18342897.0</td>\n    </tr>\n    <tr>\n      <th>2004-08-24</th>\n      <td>55.591629</td>\n      <td>51.591621</td>\n      <td>55.412300</td>\n      <td>52.239197</td>\n      <td>15319808.0</td>\n    </tr>\n    <tr>\n      <th>2004-08-25</th>\n      <td>53.798351</td>\n      <td>51.746044</td>\n      <td>52.284027</td>\n      <td>52.802086</td>\n      <td>9232276.0</td>\n    </tr>\n    <tr>\n      <th>...</th>\n      <td>...</td>\n      <td>...</td>\n      <td>...</td>\n      <td>...</td>\n      <td>...</td>\n    </tr>\n    <tr>\n      <th>2022-01-24</th>\n      <td>2615.570068</td>\n      <td>2492.839111</td>\n      <td>2520.550049</td>\n      <td>2607.439941</td>\n      <td>2764600.0</td>\n    </tr>\n    <tr>\n      <th>2022-01-25</th>\n      <td>2586.770020</td>\n      <td>2527.560059</td>\n      <td>2568.709961</td>\n      <td>2534.709961</td>\n      <td>1800400.0</td>\n    </tr>\n    <tr>\n      <th>2022-01-26</th>\n      <td>2656.149902</td>\n      <td>2543.070068</td>\n      <td>2611.850098</td>\n      <td>2584.800049</td>\n      <td>1979400.0</td>\n    </tr>\n    <tr>\n      <th>2022-01-27</th>\n      <td>2652.198975</td>\n      <td>2578.899902</td>\n      <td>2627.219971</td>\n      <td>2582.419922</td>\n      <td>1512400.0</td>\n    </tr>\n    <tr>\n      <th>2022-01-28</th>\n      <td>2667.409912</td>\n      <td>2573.889893</td>\n      <td>2600.000000</td>\n      <td>2665.790039</td>\n      <td>1525878.0</td>\n    </tr>\n  </tbody>\n</table>\n<p>4393 rows × 5 columns</p>\n</div>"
     },
     "metadata": {}
    }
   ],
   "execution_count": 9
  },
  {
   "cell_type": "code",
   "source": "ma100 = df.Close.rolling(100).mean()\nma100",
   "metadata": {
    "cell_id": "b3f5c0e4-25df-44cc-b6ed-5eccdd5d18d9",
    "tags": [],
    "deepnote_to_be_reexecuted": false,
    "source_hash": "37c88d3b",
    "execution_start": 1643459751007,
    "execution_millis": 8,
    "deepnote_output_heights": [
     1
    ],
    "deepnote_cell_type": "code"
   },
   "outputs": [
    {
     "output_type": "execute_result",
     "execution_count": 10,
     "data": {
      "text/plain": "Date\n2004-08-19            NaN\n2004-08-20            NaN\n2004-08-23            NaN\n2004-08-24            NaN\n2004-08-25            NaN\n                 ...     \n2022-01-24    2859.228411\n2022-01-25    2855.407109\n2022-01-26    2852.411311\n2022-01-27    2849.280510\n2022-01-28    2846.834612\nName: Close, Length: 4393, dtype: float64"
     },
     "metadata": {}
    }
   ],
   "execution_count": 10
  },
  {
   "cell_type": "code",
   "source": "plt.figure(figsize=(12,6))\nplt.plot(df.Close)\nplt.plot(ma100,'r', label='ma100')\nplt.legend()\nplt.show()\n#plt.plot(y_test, 'b', label = 'Precio Original')\n#plt.plot(y_predicted, 'r', label= 'Precio Predecido')",
   "metadata": {
    "cell_id": "f4c65c70-e871-4f21-858c-0d5530952fea",
    "tags": [],
    "deepnote_to_be_reexecuted": false,
    "source_hash": "7a51fd",
    "execution_start": 1643459751038,
    "execution_millis": 265,
    "deepnote_output_heights": [
     359,
     359
    ],
    "deepnote_cell_type": "code"
   },
   "outputs": [
    {
     "data": {
      "text/plain": "<Figure size 864x432 with 1 Axes>",
      "image/png": "[encoded data removed]"
     },
     "metadata": {
      "needs_background": "light",
      "image/png": {
       "width": 716,
       "height": 357
      }
     },
     "output_type": "display_data"
    }
   ],
   "execution_count": 11
  },
  {
   "cell_type": "code",
   "source": "ma200 = df.Close.rolling(200).mean()\nma200",
   "metadata": {
    "cell_id": "f27b70ba-9451-4aba-83f6-bc2cfef3be25",
    "tags": [],
    "deepnote_to_be_reexecuted": false,
    "source_hash": "7d7f966b",
    "execution_start": 1643459751311,
    "execution_millis": 2,
    "deepnote_output_heights": [
     1
    ],
    "deepnote_cell_type": "code"
   },
   "outputs": [
    {
     "output_type": "execute_result",
     "execution_count": 12,
     "data": {
      "text/plain": "Date\n2004-08-19            NaN\n2004-08-20            NaN\n2004-08-23            NaN\n2004-08-24            NaN\n2004-08-25            NaN\n                 ...     \n2022-01-24    2697.932555\n2022-01-25    2699.332155\n2022-01-26    2700.919805\n2022-01-27    2702.557704\n2022-01-28    2704.403354\nName: Close, Length: 4393, dtype: float64"
     },
     "metadata": {}
    }
   ],
   "execution_count": 12
  },
  {
   "cell_type": "code",
   "source": "plt.figure(figsize=(12,6))\nplt.plot(df.Close)\nplt.plot(ma100,'r', label='ma100')\nplt.plot(ma200,'g', label='ma200')\nplt.legend()\nplt.show()",
   "metadata": {
    "cell_id": "e19910ce-f4bd-49c1-8f62-2ebde2b115ac",
    "tags": [],
    "deepnote_to_be_reexecuted": false,
    "source_hash": "c866c973",
    "execution_start": 1643459751327,
    "execution_millis": 285,
    "deepnote_output_heights": [
     359
    ],
    "deepnote_cell_type": "code"
   },
   "outputs": [
    {
     "data": {
      "text/plain": "<Figure size 864x432 with 1 Axes>",
      "image/png": "[encoded data removed]"
     },
     "metadata": {
      "needs_background": "light",
      "image/png": {
       "width": 716,
       "height": 357
      }
     },
     "output_type": "display_data"
    }
   ],
   "execution_count": 13
  },
  {
   "cell_type": "code",
   "source": "df.shape\n",
   "metadata": {
    "cell_id": "e9bc7e0b-85cc-4fc4-b52b-259b05993226",
    "tags": [],
    "deepnote_to_be_reexecuted": false,
    "source_hash": "b6ebc297",
    "execution_start": 1643459751617,
    "execution_millis": 4,
    "deepnote_output_heights": [
     1
    ],
    "deepnote_cell_type": "code"
   },
   "outputs": [
    {
     "output_type": "execute_result",
     "execution_count": 14,
     "data": {
      "text/plain": "(4393, 5)"
     },
     "metadata": {}
    }
   ],
   "execution_count": 14
  },
  {
   "cell_type": "code",
   "source": "# Cree un nuevo marco de datos con solo la columna 'Close'\ndata = df.filter(['Close'])\n\n# Convierte el marco de datos en una matriz numpy\ndataset = data.values\n\n# Obtenga el número de filas para entrenar el modelo\ntraining_data_len = int(np.ceil( len(dataset) * .95 ))\n\ntraining_data_len",
   "metadata": {
    "cell_id": "39bd89c1-da11-466d-b90c-14ec145f1cff",
    "tags": [],
    "deepnote_to_be_reexecuted": false,
    "source_hash": "8846fe7e",
    "execution_start": 1643459751626,
    "execution_millis": 5,
    "deepnote_output_heights": [
     1
    ],
    "deepnote_cell_type": "code"
   },
   "outputs": [
    {
     "output_type": "execute_result",
     "execution_count": 15,
     "data": {
      "text/plain": "4174"
     },
     "metadata": {}
    }
   ],
   "execution_count": 15
  },
  {
   "cell_type": "code",
   "source": "# Escalando la data\nfrom sklearn.preprocessing import MinMaxScaler\n\nscaler = MinMaxScaler(feature_range=(0,1))\nscaled_data = scaler.fit_transform(dataset)\n\nscaled_data",
   "metadata": {
    "cell_id": "1d40981f-8cba-4ed2-9d29-3933f620b11a",
    "tags": [],
    "deepnote_to_be_reexecuted": false,
    "source_hash": "3f9334c8",
    "execution_start": 1643459751633,
    "execution_millis": 544,
    "deepnote_output_heights": [
     1
    ],
    "deepnote_cell_type": "code"
   },
   "outputs": [
    {
     "output_type": "execute_result",
     "execution_count": 16,
     "data": {
      "text/plain": "array([[5.54543500e-05],\n       [1.39473616e-03],\n       [1.57790036e-03],\n       ...,\n       [8.55152666e-01],\n       [8.54349753e-01],\n       [8.82473891e-01]])"
     },
     "metadata": {}
    }
   ],
   "execution_count": 16
  },
  {
   "cell_type": "code",
   "source": " \n#Creamos el entrenamiento de la data\n# Crear el conjunto de datos de entrenamiento escalado\n\ntrain_data = scaled_data[0:int(training_data_len), :]\n# Divida los datos en conjuntos de datos x_train y y_train\nx_train = []\ny_train = []\n\nfor i in range(60, len(train_data)):\n    x_train.append(train_data[i-60:i, 0])\n    y_train.append(train_data[i, 0])\n    if i<= 61:\n        print(x_train)\n        print(y_train)\n        print()\n        \n# Convierte x_train y y_train en matrices numpy\nx_train, y_train = np.array(x_train), np.array(y_train)\n\n# Reformamos los datos\nx_train = np.reshape(x_train, (x_train.shape[0], x_train.shape[1], 1))\n# x_train.shape",
   "metadata": {
    "cell_id": "7a2b5599-0832-4f3c-aef0-b20501ded2d9",
    "tags": [],
    "deepnote_to_be_reexecuted": false,
    "source_hash": "b69d4b73",
    "execution_start": 1643459752190,
    "execution_millis": 10,
    "deepnote_cell_type": "code"
   },
   "outputs": [
    {
     "name": "stdout",
     "text": "[array([5.54543500e-05, 1.39473616e-03, 1.57790036e-03, 8.16678000e-04,\n       1.00656343e-03, 1.32751998e-03, 1.03176902e-03, 3.36080925e-04,\n       3.96575878e-04, 4.03299684e-05, 2.52061016e-04, 0.00000000e+00,\n       2.63824138e-04, 3.84812756e-04, 3.86493386e-04, 8.93975390e-04,\n       1.25862445e-03, 1.92910567e-03, 2.01480621e-03, 2.34584653e-03,\n       2.93734845e-03, 3.25158504e-03, 2.99616277e-03, 3.08690520e-03,\n       3.49692354e-03, 3.33056307e-03, 3.06674021e-03, 4.51188884e-03,\n       5.22101940e-03, 4.97231964e-03, 5.47308041e-03, 5.88981999e-03,\n       6.44603382e-03, 6.22926346e-03, 6.52669376e-03, 6.33848896e-03,\n       5.92343001e-03, 6.28303589e-03, 6.87117655e-03, 7.05602267e-03,\n       7.41058666e-03, 8.25919148e-03, 8.05418295e-03, 6.80228102e-03,\n       8.29616019e-03, 1.21694946e-02, 1.46850603e-02, 1.37440337e-02,\n       1.44447637e-02, 1.56765007e-02, 1.52295123e-02, 1.61352508e-02,\n       1.59403235e-02, 1.54025940e-02, 1.42313520e-02, 1.16519301e-02,\n       1.21896596e-02, 1.15427046e-02, 1.14015497e-02, 1.39490448e-02])]\n[0.013777643748335518]\n\n[array([5.54543500e-05, 1.39473616e-03, 1.57790036e-03, 8.16678000e-04,\n       1.00656343e-03, 1.32751998e-03, 1.03176902e-03, 3.36080925e-04,\n       3.96575878e-04, 4.03299684e-05, 2.52061016e-04, 0.00000000e+00,\n       2.63824138e-04, 3.84812756e-04, 3.86493386e-04, 8.93975390e-04,\n       1.25862445e-03, 1.92910567e-03, 2.01480621e-03, 2.34584653e-03,\n       2.93734845e-03, 3.25158504e-03, 2.99616277e-03, 3.08690520e-03,\n       3.49692354e-03, 3.33056307e-03, 3.06674021e-03, 4.51188884e-03,\n       5.22101940e-03, 4.97231964e-03, 5.47308041e-03, 5.88981999e-03,\n       6.44603382e-03, 6.22926346e-03, 6.52669376e-03, 6.33848896e-03,\n       5.92343001e-03, 6.28303589e-03, 6.87117655e-03, 7.05602267e-03,\n       7.41058666e-03, 8.25919148e-03, 8.05418295e-03, 6.80228102e-03,\n       8.29616019e-03, 1.21694946e-02, 1.46850603e-02, 1.37440337e-02,\n       1.44447637e-02, 1.56765007e-02, 1.52295123e-02, 1.61352508e-02,\n       1.59403235e-02, 1.54025940e-02, 1.42313520e-02, 1.16519301e-02,\n       1.21896596e-02, 1.15427046e-02, 1.14015497e-02, 1.39490448e-02]), array([1.39473616e-03, 1.57790036e-03, 8.16678000e-04, 1.00656343e-03,\n       1.32751998e-03, 1.03176902e-03, 3.36080925e-04, 3.96575878e-04,\n       4.03299684e-05, 2.52061016e-04, 0.00000000e+00, 2.63824138e-04,\n       3.84812756e-04, 3.86493386e-04, 8.93975390e-04, 1.25862445e-03,\n       1.92910567e-03, 2.01480621e-03, 2.34584653e-03, 2.93734845e-03,\n       3.25158504e-03, 2.99616277e-03, 3.08690520e-03, 3.49692354e-03,\n       3.33056307e-03, 3.06674021e-03, 4.51188884e-03, 5.22101940e-03,\n       4.97231964e-03, 5.47308041e-03, 5.88981999e-03, 6.44603382e-03,\n       6.22926346e-03, 6.52669376e-03, 6.33848896e-03, 5.92343001e-03,\n       6.28303589e-03, 6.87117655e-03, 7.05602267e-03, 7.41058666e-03,\n       8.25919148e-03, 8.05418295e-03, 6.80228102e-03, 8.29616019e-03,\n       1.21694946e-02, 1.46850603e-02, 1.37440337e-02, 1.44447637e-02,\n       1.56765007e-02, 1.52295123e-02, 1.61352508e-02, 1.59403235e-02,\n       1.54025940e-02, 1.42313520e-02, 1.16519301e-02, 1.21896596e-02,\n       1.15427046e-02, 1.14015497e-02, 1.39490448e-02, 1.37776437e-02])]\n[0.013777643748335518, 0.014259920165913834]\n\n",
     "output_type": "stream"
    }
   ],
   "execution_count": 17
  },
  {
   "cell_type": "code",
   "source": "from tensorflow.keras.models import Sequential\nfrom tensorflow.keras.layers import Dense, LSTM\n\n# Contruimos el modelo LSTM\nmodel = Sequential()\nmodel.add(LSTM(128, return_sequences=True, input_shape= (x_train.shape[1], 1)))\nmodel.add(LSTM(64, return_sequences=False))\nmodel.add(Dense(25))\nmodel.add(Dense(1))\n\n# Compilamos el modelo\nmodel.compile(optimizer='adam', loss='mean_squared_error')\n\n# Entrenamos el modelo\nmodel.fit(x_train, y_train, batch_size=1, epochs=1)",
   "metadata": {
    "cell_id": "078828b1-3ece-4905-a27c-0cc7e2d6a91e",
    "tags": [],
    "deepnote_to_be_reexecuted": false,
    "source_hash": "3f7aa6e4",
    "execution_start": 1643459752205,
    "execution_millis": 154428,
    "deepnote_output_heights": [
     null,
     1
    ],
    "deepnote_cell_type": "code"
   },
   "outputs": [
    {
     "name": "stdout",
     "text": "4114/4114 [==============================] - 152s 36ms/step - loss: 5.4932e-04\n",
     "output_type": "stream"
    },
    {
     "output_type": "execute_result",
     "execution_count": 18,
     "data": {
      "text/plain": "<tensorflow.python.keras.callbacks.History at 0x7f7d046fb490>"
     },
     "metadata": {}
    }
   ],
   "execution_count": 18
  },
  {
   "cell_type": "code",
   "source": "model.save('keras_model.h5')",
   "metadata": {
    "cell_id": "db49eff5-5db7-4b64-8246-368dfda727e7",
    "tags": [],
    "deepnote_to_be_reexecuted": false,
    "source_hash": "a93d4c0c",
    "execution_start": 1643459906632,
    "execution_millis": 904,
    "deepnote_cell_type": "code"
   },
   "outputs": [],
   "execution_count": 19
  },
  {
   "cell_type": "code",
   "source": "# Creamos la data de prueba\n\ntest_data = scaled_data[training_data_len - 60: , :]\n# Create the data sets x_test and y_test\nx_test = []\ny_test = dataset[training_data_len:, :]\nfor i in range(60, len(test_data)):\n    x_test.append(test_data[i-60:i, 0])\n    \n# Conviertimos los datos en una matriz numpy\nx_test = np.array(x_test)\n\n# Reformamos la data\nx_test = np.reshape(x_test, (x_test.shape[0], x_test.shape[1], 1 ))\n\n# Obtenemos los valores de precios predichos de los modelos\npredictions = model.predict(x_test)\npredictions = scaler.inverse_transform(predictions)\n\n# Obtenemos la raíz del error cuadrático medio (RMSE)\nrmse = np.sqrt(np.mean(((predictions - y_test) ** 2)))\nrmse",
   "metadata": {
    "cell_id": "a5680740-99ce-480c-bcf3-214a85063a26",
    "tags": [],
    "deepnote_to_be_reexecuted": false,
    "source_hash": "53c67347",
    "execution_start": 1643459907546,
    "execution_millis": 823,
    "deepnote_output_heights": [
     1
    ],
    "deepnote_cell_type": "code"
   },
   "outputs": [
    {
     "output_type": "execute_result",
     "execution_count": 20,
     "data": {
      "text/plain": "48.69346614633447"
     },
     "metadata": {}
    }
   ],
   "execution_count": 20
  },
  {
   "cell_type": "code",
   "source": "# Mostramos la grafica\ntrain = data[:training_data_len]\nvalid = data[training_data_len:]\nvalid['Predictions'] = predictions\n# Visualize the data\nplt.figure(figsize=(16,6))\nplt.title('Model')\nplt.xlabel('Tiempo', fontsize=18)\nplt.ylabel('Close Price USD ($)', fontsize=18)\nplt.plot(train['Close'])\nplt.plot(valid[['Predictions']])\nplt.legend(['Train', 'Val', 'Predictions'], loc='lower right')\nplt.show()",
   "metadata": {
    "cell_id": "babd8420-38c9-4274-b818-d7c9a65b20c8",
    "tags": [],
    "deepnote_to_be_reexecuted": false,
    "source_hash": "15007bb6",
    "execution_start": 1643459908374,
    "execution_millis": 310,
    "deepnote_output_heights": [
     null,
     1
    ],
    "deepnote_cell_type": "code"
   },
   "outputs": [
    {
     "name": "stderr",
     "text": "/shared-libs/python3.7/py-core/lib/python3.7/site-packages/ipykernel_launcher.py:4: SettingWithCopyWarning: \nA value is trying to be set on a copy of a slice from a DataFrame.\nTry using .loc[row_indexer,col_indexer] = value instead\n\nSee the caveats in the documentation: https://pandas.pydata.org/pandas-docs/stable/user_guide/indexing.html#returning-a-view-versus-a-copy\n  after removing the cwd from sys.path.\n",
     "output_type": "stream"
    },
    {
     "data": {
      "text/plain": "<Figure size 1152x432 with 1 Axes>",
      "image/png": "[encoded data removed]"
     },
     "metadata": {
      "needs_background": "light",
      "image/png": {
       "width": 961,
       "height": 395
      }
     },
     "output_type": "display_data"
    }
   ],
   "execution_count": 21
  },
  {
   "cell_type": "code",
   "source": "# Plot the data\ntrain = data[:training_data_len]\nvalid = data[training_data_len:]\nvalid['Predictions'] = predictions\n# Visualize the data\nplt.figure(figsize=(16,6))\nplt.title('Model')\nplt.xlabel('Tiempo', fontsize=18)\nplt.ylabel('Close Price USD ($)', fontsize=18)\nplt.plot(train['Close'])\nplt.plot(valid[['Close', 'Predictions']])\nplt.legend(['Train', 'Val', 'Predictions'], loc='lower right')\nplt.show()",
   "metadata": {
    "cell_id": "55b41cae-7c4c-4f76-ac44-e2f106ab33b3",
    "tags": [],
    "deepnote_to_be_reexecuted": false,
    "source_hash": "6ecddd88",
    "execution_start": 1643459908690,
    "execution_millis": 789,
    "deepnote_output_heights": [
     null,
     381.125
    ],
    "deepnote_cell_type": "code"
   },
   "outputs": [
    {
     "name": "stderr",
     "text": "/shared-libs/python3.7/py-core/lib/python3.7/site-packages/ipykernel_launcher.py:4: SettingWithCopyWarning: \nA value is trying to be set on a copy of a slice from a DataFrame.\nTry using .loc[row_indexer,col_indexer] = value instead\n\nSee the caveats in the documentation: https://pandas.pydata.org/pandas-docs/stable/user_guide/indexing.html#returning-a-view-versus-a-copy\n  after removing the cwd from sys.path.\n",
     "output_type": "stream"
    },
    {
     "data": {
      "text/plain": "<Figure size 1152x432 with 1 Axes>",
      "image/png": "[encoded data removed]"
     },
     "metadata": {
      "needs_background": "light",
      "image/png": {
       "width": 961,
       "height": 395
      }
     },
     "output_type": "display_data"
    }
   ],
   "execution_count": 22
  },
  {
   "cell_type": "code",
   "source": "plt.figure(figsize=(12,6))\nplt.plot(y_test, 'b', label = 'Precio Original')\nplt.plot(predictions, 'r', label= 'Precio Predecido')\nplt.xlabel('Tiempo')\nplt.ylabel('Precio')\nplt.legend()\nplt.show()",
   "metadata": {
    "cell_id": "cfeeadd9-707d-4f60-9222-1402bd4605fd",
    "tags": [],
    "deepnote_to_be_reexecuted": false,
    "source_hash": "c6b14855",
    "execution_start": 1643459909198,
    "execution_millis": 298,
    "deepnote_output_heights": [
     373
    ],
    "deepnote_cell_type": "code"
   },
   "outputs": [
    {
     "data": {
      "text/plain": "<Figure size 864x432 with 1 Axes>",
      "image/png": "[encoded data removed]"
     },
     "metadata": {
      "needs_background": "light",
      "image/png": {
       "width": 730,
       "height": 371
      }
     },
     "output_type": "display_data"
    }
   ],
   "execution_count": 23
  },
  {
   "cell_type": "code",
   "source": "valid",
   "metadata": {
    "cell_id": "46536b39-16f7-49fe-9518-842f41760f68",
    "tags": [],
    "deepnote_to_be_reexecuted": false,
    "source_hash": "e6645338",
    "execution_start": 1643459909434,
    "execution_millis": 63,
    "deepnote_output_heights": [
     232.390625
    ],
    "deepnote_cell_type": "code"
   },
   "outputs": [
    {
     "output_type": "execute_result",
     "execution_count": 24,
     "data": {
      "application/vnd.deepnote.dataframe.v3+json": {
       "column_count": 2,
       "row_count": 219,
       "columns": [
        {
         "name": "Close",
         "dtype": "float64",
         "stats": {
          "unique_count": 218,
          "nan_count": 0,
          "min": "2035.550048828125",
          "max": "3014.179931640625",
          "histogram": [
           {
            "bin_start": 2035.550048828125,
            "bin_end": 2133.413037109375,
            "count": 9
           },
           {
            "bin_start": 2133.413037109375,
            "bin_end": 2231.276025390625,
            "count": 3
           },
           {
            "bin_start": 2231.276025390625,
            "bin_end": 2329.139013671875,
            "count": 22
           },
           {
            "bin_start": 2329.139013671875,
            "bin_end": 2427.002001953125,
            "count": 16
           },
           {
            "bin_start": 2427.002001953125,
            "bin_end": 2524.864990234375,
            "count": 14
           },
           {
            "bin_start": 2524.864990234375,
            "bin_end": 2622.727978515625,
            "count": 23
           },
           {
            "bin_start": 2622.727978515625,
            "bin_end": 2720.590966796875,
            "count": 14
           },
           {
            "bin_start": 2720.590966796875,
            "bin_end": 2818.453955078125,
            "count": 40
           },
           {
            "bin_start": 2818.453955078125,
            "bin_end": 2916.316943359375,
            "count": 44
           },
           {
            "bin_start": 2916.316943359375,
            "bin_end": 3014.179931640625,
            "count": 34
           }
          ]
         }
        },
        {
         "name": "Predictions",
         "dtype": "float32",
         "stats": {
          "unique_count": 219,
          "nan_count": 0,
          "min": "2061.2265625",
          "max": "3011.062255859375",
          "histogram": [
           {
            "bin_start": 2061.2265625,
            "bin_end": 2156.210205078125,
            "count": 12
           },
           {
            "bin_start": 2156.210205078125,
            "bin_end": 2251.193603515625,
            "count": 3
           },
           {
            "bin_start": 2251.193603515625,
            "bin_end": 2346.17724609375,
            "count": 20
           },
           {
            "bin_start": 2346.17724609375,
            "bin_end": 2441.160888671875,
            "count": 19
           },
           {
            "bin_start": 2441.160888671875,
            "bin_end": 2536.14453125,
            "count": 10
           },
           {
            "bin_start": 2536.14453125,
            "bin_end": 2631.1279296875,
            "count": 20
           },
           {
            "bin_start": 2631.1279296875,
            "bin_end": 2726.111572265625,
            "count": 11
           },
           {
            "bin_start": 2726.111572265625,
            "bin_end": 2821.09521484375,
            "count": 43
           },
           {
            "bin_start": 2821.09521484375,
            "bin_end": 2916.07861328125,
            "count": 44
           },
           {
            "bin_start": 2916.07861328125,
            "bin_end": 3011.062255859375,
            "count": 37
           }
          ]
         }
        },
        {
         "name": "_deepnote_index_column",
         "dtype": "datetime64[ns]"
        }
       ],
       "rows": [
        {
         "Close": 2043.199951171875,
         "Predictions": 2088.865478515625,
         "_deepnote_index_column": "2021-03-19T00:00:00.000000"
        },
        {
         "Close": 2038.5899658203125,
         "Predictions": 2077.278076171875,
         "_deepnote_index_column": "2021-03-22T00:00:00.000000"
        },
        {
         "Close": 2052.9599609375,
         "Predictions": 2067.74267578125,
         "_deepnote_index_column": "2021-03-23T00:00:00.000000"
        },
        {
         "Close": 2045.06005859375,
         "Predictions": 2065.857666015625,
         "_deepnote_index_column": "2021-03-24T00:00:00.000000"
        },
        {
         "Close": 2044.3599853515625,
         "Predictions": 2064.702880859375,
         "_deepnote_index_column": "2021-03-25T00:00:00.000000"
        },
        {
         "Close": 2035.550048828125,
         "Predictions": 2064.054931640625,
         "_deepnote_index_column": "2021-03-26T00:00:00.000000"
        },
        {
         "Close": 2055.949951171875,
         "Predictions": 2061.2265625,
         "_deepnote_index_column": "2021-03-29T00:00:00.000000"
        },
        {
         "Close": 2055.5400390625,
         "Predictions": 2064.3603515625,
         "_deepnote_index_column": "2021-03-30T00:00:00.000000"
        },
        {
         "Close": 2068.6298828125,
         "Predictions": 2068.160400390625,
         "_deepnote_index_column": "2021-03-31T00:00:00.000000"
        },
        {
         "Close": 2137.75,
         "Predictions": 2074.794921875,
         "_deepnote_index_column": "2021-04-01T00:00:00.000000"
        }
       ]
      },
      "text/plain": "                  Close  Predictions\nDate                                \n2021-03-19  2043.199951  2088.865479\n2021-03-22  2038.589966  2077.278076\n2021-03-23  2052.959961  2067.742676\n2021-03-24  2045.060059  2065.857666\n2021-03-25  2044.359985  2064.702881\n...                 ...          ...\n2022-01-24  2607.439941  2699.682373\n2022-01-25  2534.709961  2667.548096\n2022-01-26  2584.800049  2627.139404\n2022-01-27  2582.419922  2611.589600\n2022-01-28  2665.790039  2606.957275\n\n[219 rows x 2 columns]",
      "text/html": "<div>\n<style scoped>\n    .dataframe tbody tr th:only-of-type {\n        vertical-align: middle;\n    }\n\n    .dataframe tbody tr th {\n        vertical-align: top;\n    }\n\n    .dataframe thead th {\n        text-align: right;\n    }\n</style>\n<table border=\"1\" class=\"dataframe\">\n  <thead>\n    <tr style=\"text-align: right;\">\n      <th></th>\n      <th>Close</th>\n      <th>Predictions</th>\n    </tr>\n    <tr>\n      <th>Date</th>\n      <th></th>\n      <th></th>\n    </tr>\n  </thead>\n  <tbody>\n    <tr>\n      <th>2021-03-19</th>\n      <td>2043.199951</td>\n      <td>2088.865479</td>\n    </tr>\n    <tr>\n      <th>2021-03-22</th>\n      <td>2038.589966</td>\n      <td>2077.278076</td>\n    </tr>\n    <tr>\n      <th>2021-03-23</th>\n      <td>2052.959961</td>\n      <td>2067.742676</td>\n    </tr>\n    <tr>\n      <th>2021-03-24</th>\n      <td>2045.060059</td>\n      <td>2065.857666</td>\n    </tr>\n    <tr>\n      <th>2021-03-25</th>\n      <td>2044.359985</td>\n      <td>2064.702881</td>\n    </tr>\n    <tr>\n      <th>...</th>\n      <td>...</td>\n      <td>...</td>\n    </tr>\n    <tr>\n      <th>2022-01-24</th>\n      <td>2607.439941</td>\n      <td>2699.682373</td>\n    </tr>\n    <tr>\n      <th>2022-01-25</th>\n      <td>2534.709961</td>\n      <td>2667.548096</td>\n    </tr>\n    <tr>\n      <th>2022-01-26</th>\n      <td>2584.800049</td>\n      <td>2627.139404</td>\n    </tr>\n    <tr>\n      <th>2022-01-27</th>\n      <td>2582.419922</td>\n      <td>2611.589600</td>\n    </tr>\n    <tr>\n      <th>2022-01-28</th>\n      <td>2665.790039</td>\n      <td>2606.957275</td>\n    </tr>\n  </tbody>\n</table>\n<p>219 rows × 2 columns</p>\n</div>"
     },
     "metadata": {}
    }
   ],
   "execution_count": 24
  },
  {
   "cell_type": "markdown",
   "source": "<a style='text-decoration:none;line-height:16px;display:flex;color:#5B5B62;padding:10px;justify-content:end;' href='https://deepnote.com?utm_source=created-in-deepnote-cell&projectId=bec4fde9-3271-4973-9805-8dd1c303c5ca' target=\"_blank\">\n<img alt='Created in deepnote.com' style='display:inline;max-height:16px;margin:0px;margin-right:7.5px;' src='data:image/svg+xml;base64,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' > </img>\nCreated in <span style='font-weight:600;margin-left:4px;'>Deepnote</span></a>",
   "metadata": {
    "tags": [],
    "created_in_deepnote_cell": true,
    "deepnote_cell_type": "markdown"
   }
  }
 ],
 "nbformat": 4,
 "nbformat_minor": 2,
 "metadata": {
  "orig_nbformat": 2,
  "deepnote": {
   "is_reactive": false
  },
  "deepnote_notebook_id": "072a4e5e-0538-467b-a730-cb82c1dfc56e",
  "deepnote_execution_queue": []
 }
}