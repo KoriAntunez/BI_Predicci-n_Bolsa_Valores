{
 "cells": [
  {
   "cell_type": "markdown",
   "metadata": {},
   "source": [
    "# Random Forest"
   ]
  },
  {
   "cell_type": "code",
   "execution_count": 104,
   "metadata": {},
   "outputs": [
    {
     "name": "stdout",
     "output_type": "stream",
     "text": [
      "[*********************100%***********************]  1 of 1 completed\n"
     ]
    }
   ],
   "source": [
    "import yfinance as yf\n",
    "import talib\n",
    "import numpy as np\n",
    "import pandas as pd\n",
    "import matplotlib.pyplot as plt\n",
    "from matplotlib import pyplot\n",
    "from sklearn.ensemble import RandomForestRegressor\n",
    "from sklearn.model_selection import ParameterGrid\n",
    "from sklearn import metrics\n",
    "%matplotlib inline\n",
    "\n",
    "ticker= \"googl\"\n",
    "stock_data = yf.download(ticker, start=\"2008-01-04\", end=\"2022-01-27\")"
   ]
  },
  {
   "cell_type": "code",
   "execution_count": 105,
   "metadata": {},
   "outputs": [
    {
     "data": {
      "text/html": [
       "<div>\n",
       "<style scoped>\n",
       "    .dataframe tbody tr th:only-of-type {\n",
       "        vertical-align: middle;\n",
       "    }\n",
       "\n",
       "    .dataframe tbody tr th {\n",
       "        vertical-align: top;\n",
       "    }\n",
       "\n",
       "    .dataframe thead th {\n",
       "        text-align: right;\n",
       "    }\n",
       "</style>\n",
       "<table border=\"1\" class=\"dataframe\">\n",
       "  <thead>\n",
       "    <tr style=\"text-align: right;\">\n",
       "      <th></th>\n",
       "      <th>Open</th>\n",
       "      <th>High</th>\n",
       "      <th>Low</th>\n",
       "      <th>Close</th>\n",
       "      <th>Adj Close</th>\n",
       "      <th>Volume</th>\n",
       "    </tr>\n",
       "    <tr>\n",
       "      <th>Date</th>\n",
       "      <th></th>\n",
       "      <th></th>\n",
       "      <th></th>\n",
       "      <th></th>\n",
       "      <th></th>\n",
       "      <th></th>\n",
       "    </tr>\n",
       "  </thead>\n",
       "  <tbody>\n",
       "    <tr>\n",
       "      <th>2008-01-04</th>\n",
       "      <td>340.185181</td>\n",
       "      <td>340.820831</td>\n",
       "      <td>327.827820</td>\n",
       "      <td>328.828827</td>\n",
       "      <td>328.828827</td>\n",
       "      <td>10708880</td>\n",
       "    </tr>\n",
       "    <tr>\n",
       "      <th>2008-01-07</th>\n",
       "      <td>327.297302</td>\n",
       "      <td>331.471466</td>\n",
       "      <td>318.993988</td>\n",
       "      <td>324.949951</td>\n",
       "      <td>324.949951</td>\n",
       "      <td>12793993</td>\n",
       "    </tr>\n",
       "    <tr>\n",
       "      <th>2008-01-08</th>\n",
       "      <td>326.826813</td>\n",
       "      <td>330.310303</td>\n",
       "      <td>315.815826</td>\n",
       "      <td>316.156158</td>\n",
       "      <td>316.156158</td>\n",
       "      <td>10667522</td>\n",
       "    </tr>\n",
       "    <tr>\n",
       "      <th>2008-01-09</th>\n",
       "      <td>315.335327</td>\n",
       "      <td>326.997009</td>\n",
       "      <td>311.566559</td>\n",
       "      <td>326.926941</td>\n",
       "      <td>326.926941</td>\n",
       "      <td>13465921</td>\n",
       "    </tr>\n",
       "    <tr>\n",
       "      <th>2008-01-10</th>\n",
       "      <td>322.827820</td>\n",
       "      <td>328.928925</td>\n",
       "      <td>320.375366</td>\n",
       "      <td>323.688690</td>\n",
       "      <td>323.688690</td>\n",
       "      <td>12655732</td>\n",
       "    </tr>\n",
       "  </tbody>\n",
       "</table>\n",
       "</div>"
      ],
      "text/plain": [
       "                  Open        High         Low       Close   Adj Close  \\\n",
       "Date                                                                     \n",
       "2008-01-04  340.185181  340.820831  327.827820  328.828827  328.828827   \n",
       "2008-01-07  327.297302  331.471466  318.993988  324.949951  324.949951   \n",
       "2008-01-08  326.826813  330.310303  315.815826  316.156158  316.156158   \n",
       "2008-01-09  315.335327  326.997009  311.566559  326.926941  326.926941   \n",
       "2008-01-10  322.827820  328.928925  320.375366  323.688690  323.688690   \n",
       "\n",
       "              Volume  \n",
       "Date                  \n",
       "2008-01-04  10708880  \n",
       "2008-01-07  12793993  \n",
       "2008-01-08  10667522  \n",
       "2008-01-09  13465921  \n",
       "2008-01-10  12655732  "
      ]
     },
     "execution_count": 105,
     "metadata": {},
     "output_type": "execute_result"
    }
   ],
   "source": [
    "stock_data.head()"
   ]
  },
  {
   "cell_type": "code",
   "execution_count": 106,
   "metadata": {},
   "outputs": [
    {
     "data": {
      "image/png": "[encoded data removed]",
      "text/plain": [
       "<Figure size 432x288 with 1 Axes>"
      ]
     },
     "metadata": {
      "needs_background": "light"
     },
     "output_type": "display_data"
    }
   ],
   "source": [
    "stock_data['Adj Close'].plot()\n",
    "plt.ylabel(\"Adjusted Close Prices\")\n",
    "plt.show()"
   ]
  },
  {
   "cell_type": "code",
   "execution_count": 107,
   "metadata": {},
   "outputs": [
    {
     "data": {
      "image/png": "[encoded data removed]",
      "text/plain": [
       "<Figure size 432x288 with 1 Axes>"
      ]
     },
     "metadata": {
      "needs_background": "light"
     },
     "output_type": "display_data"
    }
   ],
   "source": [
    "stock_data['Adj Close'].pct_change().plot.hist(bins=50)\n",
    "plt.xlabel(\"Adjusted close 1 day percent change\")\n",
    "plt.show()"
   ]
  },
  {
   "cell_type": "code",
   "execution_count": 108,
   "metadata": {},
   "outputs": [],
   "source": [
    "feature_names = []\n",
    "for n in [14, 30, 50, 200]:\n",
    "    stock_data['ma' + str(n)] = talib.SMA(stock_data['Adj Close'].values, timeperiod=n)\n",
    "    stock_data['rsi' + str(n)] = talib.RSI(stock_data['Adj Close'].values, timeperiod=n)\n",
    "\n",
    "    feature_names = feature_names + ['ma' + str(n), 'rsi' + str(n)]"
   ]
  },
  {
   "cell_type": "code",
   "execution_count": 109,
   "metadata": {},
   "outputs": [],
   "source": [
    "stock_data['Volume_1d_change'] = stock_data['Volume'].pct_change()\n",
    "\n",
    "volume_features = ['Volume_1d_change']\n",
    "feature_names.extend(volume_features)"
   ]
  },
  {
   "cell_type": "code",
   "execution_count": 110,
   "metadata": {},
   "outputs": [],
   "source": [
    "stock_data['5d_future_close'] = stock_data['Adj Close'].shift(-5)\n",
    "stock_data['5d_close_future_pct'] = stock_data['5d_future_close'].pct_change(5)"
   ]
  },
  {
   "cell_type": "code",
   "execution_count": 111,
   "metadata": {},
   "outputs": [
    {
     "data": {
      "text/html": [
       "<div>\n",
       "<style scoped>\n",
       "    .dataframe tbody tr th:only-of-type {\n",
       "        vertical-align: middle;\n",
       "    }\n",
       "\n",
       "    .dataframe tbody tr th {\n",
       "        vertical-align: top;\n",
       "    }\n",
       "\n",
       "    .dataframe thead th {\n",
       "        text-align: right;\n",
       "    }\n",
       "</style>\n",
       "<table border=\"1\" class=\"dataframe\">\n",
       "  <thead>\n",
       "    <tr style=\"text-align: right;\">\n",
       "      <th></th>\n",
       "      <th>Open</th>\n",
       "      <th>High</th>\n",
       "      <th>Low</th>\n",
       "      <th>Close</th>\n",
       "      <th>Adj Close</th>\n",
       "      <th>Volume</th>\n",
       "      <th>ma14</th>\n",
       "      <th>rsi14</th>\n",
       "      <th>ma30</th>\n",
       "      <th>rsi30</th>\n",
       "      <th>ma50</th>\n",
       "      <th>rsi50</th>\n",
       "      <th>ma200</th>\n",
       "      <th>rsi200</th>\n",
       "      <th>Volume_1d_change</th>\n",
       "      <th>5d_future_close</th>\n",
       "      <th>5d_close_future_pct</th>\n",
       "    </tr>\n",
       "    <tr>\n",
       "      <th>Date</th>\n",
       "      <th></th>\n",
       "      <th></th>\n",
       "      <th></th>\n",
       "      <th></th>\n",
       "      <th></th>\n",
       "      <th></th>\n",
       "      <th></th>\n",
       "      <th></th>\n",
       "      <th></th>\n",
       "      <th></th>\n",
       "      <th></th>\n",
       "      <th></th>\n",
       "      <th></th>\n",
       "      <th></th>\n",
       "      <th></th>\n",
       "      <th></th>\n",
       "      <th></th>\n",
       "    </tr>\n",
       "  </thead>\n",
       "  <tbody>\n",
       "    <tr>\n",
       "      <th>2008-01-04</th>\n",
       "      <td>340.185181</td>\n",
       "      <td>340.820831</td>\n",
       "      <td>327.827820</td>\n",
       "      <td>328.828827</td>\n",
       "      <td>328.828827</td>\n",
       "      <td>10708880</td>\n",
       "      <td>NaN</td>\n",
       "      <td>NaN</td>\n",
       "      <td>NaN</td>\n",
       "      <td>NaN</td>\n",
       "      <td>NaN</td>\n",
       "      <td>NaN</td>\n",
       "      <td>NaN</td>\n",
       "      <td>NaN</td>\n",
       "      <td>NaN</td>\n",
       "      <td>319.444458</td>\n",
       "      <td>NaN</td>\n",
       "    </tr>\n",
       "    <tr>\n",
       "      <th>2008-01-07</th>\n",
       "      <td>327.297302</td>\n",
       "      <td>331.471466</td>\n",
       "      <td>318.993988</td>\n",
       "      <td>324.949951</td>\n",
       "      <td>324.949951</td>\n",
       "      <td>12793993</td>\n",
       "      <td>NaN</td>\n",
       "      <td>NaN</td>\n",
       "      <td>NaN</td>\n",
       "      <td>NaN</td>\n",
       "      <td>NaN</td>\n",
       "      <td>NaN</td>\n",
       "      <td>NaN</td>\n",
       "      <td>NaN</td>\n",
       "      <td>0.194709</td>\n",
       "      <td>327.237244</td>\n",
       "      <td>NaN</td>\n",
       "    </tr>\n",
       "    <tr>\n",
       "      <th>2008-01-08</th>\n",
       "      <td>326.826813</td>\n",
       "      <td>330.310303</td>\n",
       "      <td>315.815826</td>\n",
       "      <td>316.156158</td>\n",
       "      <td>316.156158</td>\n",
       "      <td>10667522</td>\n",
       "      <td>NaN</td>\n",
       "      <td>NaN</td>\n",
       "      <td>NaN</td>\n",
       "      <td>NaN</td>\n",
       "      <td>NaN</td>\n",
       "      <td>NaN</td>\n",
       "      <td>NaN</td>\n",
       "      <td>NaN</td>\n",
       "      <td>-0.166209</td>\n",
       "      <td>319.144135</td>\n",
       "      <td>NaN</td>\n",
       "    </tr>\n",
       "    <tr>\n",
       "      <th>2008-01-09</th>\n",
       "      <td>315.335327</td>\n",
       "      <td>326.997009</td>\n",
       "      <td>311.566559</td>\n",
       "      <td>326.926941</td>\n",
       "      <td>326.926941</td>\n",
       "      <td>13465921</td>\n",
       "      <td>NaN</td>\n",
       "      <td>NaN</td>\n",
       "      <td>NaN</td>\n",
       "      <td>NaN</td>\n",
       "      <td>NaN</td>\n",
       "      <td>NaN</td>\n",
       "      <td>NaN</td>\n",
       "      <td>NaN</td>\n",
       "      <td>0.262329</td>\n",
       "      <td>308.283295</td>\n",
       "      <td>NaN</td>\n",
       "    </tr>\n",
       "    <tr>\n",
       "      <th>2008-01-10</th>\n",
       "      <td>322.827820</td>\n",
       "      <td>328.928925</td>\n",
       "      <td>320.375366</td>\n",
       "      <td>323.688690</td>\n",
       "      <td>323.688690</td>\n",
       "      <td>12655732</td>\n",
       "      <td>NaN</td>\n",
       "      <td>NaN</td>\n",
       "      <td>NaN</td>\n",
       "      <td>NaN</td>\n",
       "      <td>NaN</td>\n",
       "      <td>NaN</td>\n",
       "      <td>NaN</td>\n",
       "      <td>NaN</td>\n",
       "      <td>-0.060166</td>\n",
       "      <td>300.695709</td>\n",
       "      <td>NaN</td>\n",
       "    </tr>\n",
       "  </tbody>\n",
       "</table>\n",
       "</div>"
      ],
      "text/plain": [
       "                  Open        High         Low       Close   Adj Close  \\\n",
       "Date                                                                     \n",
       "2008-01-04  340.185181  340.820831  327.827820  328.828827  328.828827   \n",
       "2008-01-07  327.297302  331.471466  318.993988  324.949951  324.949951   \n",
       "2008-01-08  326.826813  330.310303  315.815826  316.156158  316.156158   \n",
       "2008-01-09  315.335327  326.997009  311.566559  326.926941  326.926941   \n",
       "2008-01-10  322.827820  328.928925  320.375366  323.688690  323.688690   \n",
       "\n",
       "              Volume  ma14  rsi14  ma30  rsi30  ma50  rsi50  ma200  rsi200  \\\n",
       "Date                                                                         \n",
       "2008-01-04  10708880   NaN    NaN   NaN    NaN   NaN    NaN    NaN     NaN   \n",
       "2008-01-07  12793993   NaN    NaN   NaN    NaN   NaN    NaN    NaN     NaN   \n",
       "2008-01-08  10667522   NaN    NaN   NaN    NaN   NaN    NaN    NaN     NaN   \n",
       "2008-01-09  13465921   NaN    NaN   NaN    NaN   NaN    NaN    NaN     NaN   \n",
       "2008-01-10  12655732   NaN    NaN   NaN    NaN   NaN    NaN    NaN     NaN   \n",
       "\n",
       "            Volume_1d_change  5d_future_close  5d_close_future_pct  \n",
       "Date                                                                \n",
       "2008-01-04               NaN       319.444458                  NaN  \n",
       "2008-01-07          0.194709       327.237244                  NaN  \n",
       "2008-01-08         -0.166209       319.144135                  NaN  \n",
       "2008-01-09          0.262329       308.283295                  NaN  \n",
       "2008-01-10         -0.060166       300.695709                  NaN  "
      ]
     },
     "execution_count": 111,
     "metadata": {},
     "output_type": "execute_result"
    }
   ],
   "source": [
    "stock_data.head()"
   ]
  },
  {
   "cell_type": "code",
   "execution_count": 112,
   "metadata": {},
   "outputs": [],
   "source": [
    "stock_data.dropna(inplace=True)\n",
    "\n",
    "X = stock_data[feature_names]\n",
    "y = stock_data['5d_close_future_pct']\n",
    "\n",
    "train_size = int(0.85 * y.shape[0])\n",
    "X_train = X[:train_size]\n",
    "y_train = y[:train_size]\n",
    "X_test = X[train_size:]\n",
    "y_test = y[train_size:]"
   ]
  },
  {
   "cell_type": "code",
   "execution_count": 113,
   "metadata": {},
   "outputs": [
    {
     "name": "stdout",
     "output_type": "stream",
     "text": [
      "-0.004603602279713126 {'random_state': 42, 'n_estimators': 200, 'max_features': 8, 'max_depth': 3}\n"
     ]
    }
   ],
   "source": [
    "grid = {'n_estimators': [200], 'max_depth': [3], 'max_features': [4, 8], 'random_state': [42]}\n",
    "test_scores = []\n",
    "\n",
    "rf_model = RandomForestRegressor()\n",
    "\n",
    "for g in ParameterGrid(grid):\n",
    "    rf_model.set_params(**g) \n",
    "    rf_model.fit(X_train, y_train)\n",
    "    test_scores.append(rf_model.score(X_test, y_test))\n",
    "\n",
    "best_index = np.argmax(test_scores)\n",
    "print(test_scores[best_index], ParameterGrid(grid)[best_index])"
   ]
  },
  {
   "cell_type": "code",
   "execution_count": 114,
   "metadata": {},
   "outputs": [
    {
     "data": {
      "image/png": "[encoded data removed]",
      "text/plain": [
       "<Figure size 432x288 with 1 Axes>"
      ]
     },
     "metadata": {
      "needs_background": "light"
     },
     "output_type": "display_data"
    }
   ],
   "source": [
    "rf_model = RandomForestRegressor(n_estimators=200, max_depth=3, max_features=4, random_state=42)\n",
    "rf_model.fit(X_train, y_train)\n",
    "\n",
    "y_pred = rf_model.predict(X_test)\n",
    "\n",
    "y_pred_series = pd.Series(y_pred, index=y_test.index)\n",
    "y_pred_series.plot()\n",
    "plt.ylabel(\"Predicted 5 Day Close Price Change Percent\")\n",
    "plt.show()"
   ]
  },
  {
   "cell_type": "code",
   "execution_count": 115,
   "metadata": {},
   "outputs": [
    {
     "name": "stdout",
     "output_type": "stream",
     "text": [
      "Mean Absolute Error: 0.028562585052397057\n",
      "Mean Squared Error: 0.001569082138123055\n",
      "Root Mean Squared Error: 0.03961164144696676\n"
     ]
    }
   ],
   "source": [
    "print('Mean Absolute Error:', metrics.mean_absolute_error(y_test, y_pred))\n",
    "print('Mean Squared Error:', metrics.mean_squared_error(y_test, y_pred))\n",
    "print('Root Mean Squared Error:', np.sqrt(metrics.mean_squared_error(y_test, y_pred)))"
   ]
  },
  {
   "cell_type": "code",
   "execution_count": 116,
   "metadata": {},
   "outputs": [
    {
     "data": {
      "image/png": "[encoded data removed]",
      "text/plain": [
       "<Figure size 432x288 with 1 Axes>"
      ]
     },
     "metadata": {
      "needs_background": "light"
     },
     "output_type": "display_data"
    }
   ],
   "source": [
    "importances = rf_model.feature_importances_\n",
    "sorted_index = np.argsort(importances)[::-1]\n",
    "x_values = range(len(importances))\n",
    "labels = np.array(feature_names)[sorted_index]\n",
    "plt.bar(x_values, importances[sorted_index], tick_label=labels)\n",
    "plt.xticks(rotation=90)\n",
    "plt.show()"
   ]
  },
  {
   "cell_type": "code",
   "execution_count": 118,
   "metadata": {},
   "outputs": [
    {
     "name": "stdout",
     "output_type": "stream",
     "text": [
      "accuracy\n"
     ]
    },
    {
     "data": {
      "text/plain": [
       "0.09730518946731148"
      ]
     },
     "execution_count": 118,
     "metadata": {},
     "output_type": "execute_result"
    }
   ],
   "source": [
    "print (\"accuracy\")\n",
    "rf_model.score(X_train, y_train)"
   ]
  },
  {
   "cell_type": "markdown",
   "metadata": {},
   "source": [
    "## Referencias\n",
    "https://stackabuse.com/random-forest-algorithm-with-python-and-scikit-learn/\n",
    "https://scikit-learn.org/stable/modules/generated/sklearn.ensemble.RandomForestRegressor.html\n",
    "https://www.youtube.com/watch?v=-tHCAEZzUhc\n",
    "https://www.youtube.com/watch?v=VtItg-J6-CI"
   ]
  }
 ],
 "metadata": {
  "kernelspec": {
   "display_name": "Python 3",
   "language": "python",
   "name": "python3"
  },
  "language_info": {
   "codemirror_mode": {
    "name": "ipython",
    "version": 3
   },
   "file_extension": ".py",
   "mimetype": "text/x-python",
   "name": "python",
   "nbconvert_exporter": "python",
   "pygments_lexer": "ipython3",
   "version": "3.8.3"
  }
 },
 "nbformat": 4,
 "nbformat_minor": 5
}
